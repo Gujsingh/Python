{
  "nbformat": 4,
  "nbformat_minor": 0,
  "metadata": {
    "colab": {
      "name": "From_Expressions_to_Optimization_and_Machine_Learning_test.ipynb",
      "provenance": [],
      "collapsed_sections": []
    },
    "kernelspec": {
      "display_name": "Python 3",
      "language": "python",
      "name": "python3"
    },
    "language_info": {
      "codemirror_mode": {
        "name": "ipython",
        "version": 3
      },
      "file_extension": ".py",
      "mimetype": "text/x-python",
      "name": "python",
      "nbconvert_exporter": "python",
      "pygments_lexer": "ipython3",
      "version": "3.7.3"
    }
  },
  "cells": [
    {
      "cell_type": "markdown",
      "metadata": {
        "deletable": false,
        "editable": false,
        "nbgrader": {
          "checksum": "3fc669b96b07381b454c4ddad74b139b",
          "grade": false,
          "grade_id": "cell-4923f4be6144eebe",
          "locked": true,
          "schema_version": 1,
          "solution": false
        },
        "id": "P_HCgHsBPFup",
        "colab_type": "text"
      },
      "source": [
        "## ML in a nutshell\n",
        "\n",
        "Optimization, and machine learning, are intimately connected.  At a very coarse level, ML works as follows. \n",
        "\n",
        "First, you come up somehow with a very complicated model $\\vec{y} = M(\\vec{x}, \\vec{\\theta})$, which computes an output $\\vec{y}$ as a function of an input $\\vec{x}$ and of a vector of parameters $\\vec{\\theta}$.   In general, $\\vec{x}$, $\\vec{y}$, and $\\vec{\\theta}$ are vectors, as the model has multiple inputs, multiple outputs, and several parameters.  The model $M$ needs to be complicated, because only complicated models can represent complicated phenomena; for instance, $M$ can be a multi-layer neural net with parameters $\\vec{\\theta} = [\\theta_1, \\ldots, \\theta_k]$, where $k$ is the number of parameters of the model. \n",
        "\n",
        "Second, you come up with a notion of _loss_ $L$, that is, how badly the model is doing.  For instance, if you have a list of inputs $\\vec{x}_1, \\ldots, \\vec{x}_n$, and a set of desired outputs $\\vec{y}_1, \\ldots, \\vec{y}_m$, you can use as loss: \n",
        "\n",
        "$$\n",
        "L(\\vec{\\theta}) = \\sum_{i=1}^n |\\!|\\vec{y}_i - M(\\vec{x}_i, \\vec{\\theta})|\\!| \\; .\n",
        "$$\n",
        "\n",
        "Here, we wrote $L(\\vec{\\theta})$ because, once the inputs $\\vec{x}_1, \\ldots, \\vec{x}_n$ and the desired outputs $\\vec{y}_1, \\ldots, \\vec{y}_n$ are chosen, the loss $L$ depends on $\\vec{\\theta}$. \n",
        "\n",
        "Once the loss is chosen, you decrease it, by computing its _gradient_ with respect to $\\vec{\\theta}$.  Remembering that $\\vec{\\theta} = [\\theta_1, \\ldots, \\theta_k]$,\n",
        "\n",
        "$$\n",
        "\\nabla_\\vec{\\theta} L = \\left[ \\frac{\\partial L}{\\partial \\theta_1}, \\ldots, \n",
        "    \\frac{\\partial L}{\\partial \\theta_k} \\right] \\; .\n",
        "$$\n",
        "\n",
        "The gradient is a vector that indicates how to tweak $\\vec{\\theta}$ to decrease the loss.  You then choose a small _step size_ $\\delta$, and you update $\\vec{\\theta}$ via $\\vec{\\theta} := \\vec{\\theta} - \\delta \\nabla_\\vec{\\theta} L$.  This makes the loss a little bit smaller, and the model a little bit better.  If you repeat this step many times, the model will hopefully get (a good bit) better. \n",
        "\n",
        "## Autogradient\n",
        "\n",
        "The key to _pleasant_ ML is to focus on building the model $M$ in a way that is sufficiently expressive, and on choosing a loss $L$ that is helpful in guiding the optimization.  The computation of the gradient is done automatically for you.  This capability, called _autogradient_, is implemented in ML frameworks such as [Tensorflow](https://www.tensorflow.com), [Keras](https://keras.io), and [PyTorch](https://pytorch.org).  \n",
        "\n",
        "It is possible to use these advanced ML libraries without ever knowing what is under the hood, and how autogradient works.  Here, we will insted dive in, and implement autogradient.  \n",
        "\n",
        "Building a model $M$ corresponds to building an expression with inputs $\\vec{x}$, $\\vec{\\theta}$.  We will provide a representaton for expressions that enables both the calculation of the expression value, and the differentiation with respect to any of the inputs.  This will enable us to implement autogradient.  On the basis of this, we will be able to implement a simple ML framework. \n",
        "\n",
        "We say we, but we mean you.  _You_ will implement it; we will just provide guidance."
      ]
    },
    {
      "cell_type": "markdown",
      "metadata": {
        "deletable": false,
        "editable": false,
        "nbgrader": {
          "checksum": "57509aab9f267439272653b6a2a93d0c",
          "grade": false,
          "grade_id": "cell-ba50e86bd865c21f",
          "locked": true,
          "schema_version": 1,
          "solution": false
        },
        "id": "7m0-lPBOPFur",
        "colab_type": "text"
      },
      "source": [
        "## Expressions with autogradient\n",
        "\n",
        "Our main task will be to implement a class `Expr` that represents expressions with autogradient.  \n",
        "\n",
        "### Implementing expressions\n",
        "\n",
        "We will have `Expr` be the abstract class of a generic expression, and `Plus`, `Multiply`, and so on, be derived classes representing expression with given top-level operators.  The constructor takes the children node.  The code for the constructor, and the code to create addition expressions, is as follows. \n",
        "\n"
      ]
    },
    {
      "cell_type": "code",
      "metadata": {
        "deletable": false,
        "editable": false,
        "nbgrader": {
          "checksum": "91f7290ef8bb3001209717bb1f77f09f",
          "grade": false,
          "grade_id": "cell-3700bc9f6e738800",
          "locked": true,
          "schema_version": 1,
          "solution": false
        },
        "id": "A_o5_VS9PFut",
        "colab_type": "code",
        "colab": {}
      },
      "source": [
        "class Expr(object):\n",
        "\n",
        "    def __init__(self, *args):\n",
        "        \"\"\"Initializes an expression node, with a given list of children \n",
        "        expressions.\"\"\"\n",
        "        self.children = args\n",
        "        self.value = None # The value of the expression. \n",
        "        self.values = None # The values of the child expressions.\n",
        "\n",
        "    def __add__(self, other):\n",
        "        \"\"\"Constructs the sum of two expressions.\"\"\"\n",
        "        return Plus(self, other)"
      ],
      "execution_count": 42,
      "outputs": []
    },
    {
      "cell_type": "markdown",
      "metadata": {
        "deletable": false,
        "editable": false,
        "nbgrader": {
          "checksum": "1176b5bcf497b2f32b2a2efba193242b",
          "grade": false,
          "grade_id": "cell-e219b32f7c82ff9",
          "locked": true,
          "schema_version": 1,
          "solution": false
        },
        "id": "xaL-L2sJPFu0",
        "colab_type": "text"
      },
      "source": [
        "The code for the `Plus` class, initially, is empty; no `Expr` methods are over-ridden."
      ]
    },
    {
      "cell_type": "code",
      "metadata": {
        "deletable": false,
        "editable": false,
        "nbgrader": {
          "checksum": "3761a5757c8c528bea1857c0fd952595",
          "grade": false,
          "grade_id": "cell-83b344280f9e96bc",
          "locked": true,
          "schema_version": 1,
          "solution": false
        },
        "id": "TuKVcGAuPFu1",
        "colab_type": "code",
        "colab": {}
      },
      "source": [
        "class Plus(Expr):\n",
        "    \"\"\"An addition expression.\"\"\"\n",
        "\n",
        "    pass"
      ],
      "execution_count": 43,
      "outputs": []
    },
    {
      "cell_type": "markdown",
      "metadata": {
        "deletable": false,
        "editable": false,
        "nbgrader": {
          "checksum": "bee4e25489ff1f6e0341d9169104c5ec",
          "grade": false,
          "grade_id": "cell-42d81112e640013b",
          "locked": true,
          "schema_version": 1,
          "solution": false
        },
        "id": "EG7tzdKkPFu6",
        "colab_type": "text"
      },
      "source": [
        "To construct expressions, we need one more thing.  So far, if we write things like `2 + 3`, Python will just consider these as expressions involving numbers, and compute their value.  To write _symbolic_ expressions, we need symbols, or variables.  A variable is a type of expression that just contains a value as child, and that has an `assign` method to assign a value to the variable.  The `assign` method can be used to modify the variable's content (without `assign`, our variables would be constants!). "
      ]
    },
    {
      "cell_type": "code",
      "metadata": {
        "deletable": false,
        "editable": false,
        "nbgrader": {
          "checksum": "d89564b1fb373ebc6b9367afc6fdc062",
          "grade": false,
          "grade_id": "cell-8a93f8262ec52081",
          "locked": true,
          "schema_version": 1,
          "solution": false
        },
        "id": "j238uBTVPFu8",
        "colab_type": "code",
        "colab": {}
      },
      "source": [
        "class V(Expr):\n",
        "    \"\"\"This class represents a variable.  The derivative rule corresponds \n",
        "    to d/dx x = 1, but note that it will not be called, since the children\n",
        "    of a variable are just numbers.\"\"\"\n",
        "\n",
        "    def assign(self, v):\n",
        "        \"\"\"Assigns a value to the variable.\"\"\"\n",
        "        self.children = [v]"
      ],
      "execution_count": 44,
      "outputs": []
    },
    {
      "cell_type": "markdown",
      "metadata": {
        "deletable": false,
        "editable": false,
        "nbgrader": {
          "checksum": "1712a3ad099adcdb964611efb70854f1",
          "grade": false,
          "grade_id": "cell-9564609a3a3b78ea",
          "locked": true,
          "schema_version": 1,
          "solution": false
        },
        "id": "lUHqo4V-PFvB",
        "colab_type": "text"
      },
      "source": [
        "This suffices for creating expressions.  Let's create one."
      ]
    },
    {
      "cell_type": "code",
      "metadata": {
        "deletable": false,
        "editable": false,
        "nbgrader": {
          "checksum": "b34aff49cddb010618ed22f3c6ae4742",
          "grade": false,
          "grade_id": "cell-7247179567bb4c0c",
          "locked": true,
          "schema_version": 1,
          "solution": false
        },
        "id": "4TLVgi_PPFvD",
        "colab_type": "code",
        "colab": {
          "base_uri": "https://localhost:8080/",
          "height": 34
        },
        "outputId": "ed7f9ec5-67aa-4cf0-c139-92972f4d7258"
      },
      "source": [
        "e = V(3) + 4\n",
        "e"
      ],
      "execution_count": 45,
      "outputs": [
        {
          "output_type": "execute_result",
          "data": {
            "text/plain": [
              "<__main__.Plus at 0x7f83b60a36d8>"
            ]
          },
          "metadata": {
            "tags": []
          },
          "execution_count": 45
        }
      ]
    },
    {
      "cell_type": "code",
      "metadata": {
        "deletable": false,
        "editable": false,
        "nbgrader": {
          "checksum": "51d416786c91b9feb0363f7020046ce7",
          "grade": false,
          "grade_id": "cell-e155e70990661b09",
          "locked": true,
          "schema_version": 1,
          "solution": false
        },
        "id": "AOH-oAS8PFvG",
        "colab_type": "code",
        "colab": {}
      },
      "source": [
        "# Let us ensure that nose is installed. \n",
        "try:\n",
        "    from nose.tools import assert_equal, assert_true\n",
        "    from nose.tools import assert_false, assert_almost_equal\n",
        "except:\n",
        "    !pip install nose\n",
        "    from nose.tools import assert_equal, assert_true\n",
        "    from nose.tools import assert_false, assert_almost_equal"
      ],
      "execution_count": 46,
      "outputs": []
    },
    {
      "cell_type": "markdown",
      "metadata": {
        "deletable": false,
        "editable": false,
        "nbgrader": {
          "checksum": "915a644c59bf7bb5bd27aeafd88894a4",
          "grade": false,
          "grade_id": "cell-ad78ae0736decc37",
          "locked": true,
          "schema_version": 1,
          "solution": false
        },
        "id": "M3LuSMjFPFvL",
        "colab_type": "text"
      },
      "source": [
        "## Computing the value of expressions\n",
        "\n",
        "We now have our first expression.  To compute the expression value, we endow each expression with a method `op`, whose task is to compute the value `self.value` of the expression from the list of values `self.values` of the children.  "
      ]
    },
    {
      "cell_type": "markdown",
      "metadata": {
        "deletable": false,
        "editable": false,
        "nbgrader": {
          "checksum": "eee57afb07b73b5aef5fa96287257601",
          "grade": false,
          "grade_id": "cell-401ec9781b95e442",
          "locked": true,
          "schema_version": 1,
          "solution": false
        },
        "id": "YPbbdHk8PFvM",
        "colab_type": "text"
      },
      "source": [
        "Let's implement the `compute` method for an expression.  This method will: \n",
        "\n",
        "1. Loop over the children, and computes the list `self.values` of children values as follows: \n",
        "    * If the child is an expression (an instance of `Expr`, obtain its value by calling `compute` on it. \n",
        "    * If the child is not an instance of `Expr`, then the child must be a number, and we can use its value directly. \n",
        "2. Call the method `op` of the expression, to compute `self.value` from `self.values`. \n",
        "3. return `self.value`. \n",
        "\n",
        "We will let you implement the `compute` method.  Hint: it takes just a couple of lines of code."
      ]
    },
    {
      "cell_type": "code",
      "metadata": {
        "deletable": false,
        "editable": false,
        "nbgrader": {
          "checksum": "f917b165ff042d678e58937865e43a7d",
          "grade": false,
          "grade_id": "cell-cd77d48f0e548dea",
          "locked": true,
          "schema_version": 1,
          "solution": false
        },
        "id": "QUZmb9KzPFvO",
        "colab_type": "code",
        "colab": {}
      },
      "source": [
        "class Expr(object):\n",
        "\n",
        "    def __init__(self, *args):\n",
        "        \"\"\"Initializes an expression node, with a given list of children \n",
        "        expressions.\"\"\"\n",
        "        self.children = args\n",
        "        self.value = None # The value of the expression. \n",
        "        self.values = None # The values of the child expressions.\n",
        "        self.gradient = 0 # The value of the gradient. \n",
        "\n",
        "    def op(self):\n",
        "        \"\"\"This operator must be implemented in subclasses; it should\n",
        "        compute self.value from self.values, thus implementing the \n",
        "        operator at the expression node.\"\"\"\n",
        "        raise NotImplementedError()\n",
        "        \n",
        "    def compute(self):\n",
        "        \"\"\"This method computes the value of the expression. \n",
        "        It first computes the value of the children expressions,\n",
        "        and then uses self.op to compute the value of the expression.\"\"\"\n",
        "        self.value = None ### INSERT YOUR SOLUTION HERE\n",
        "        return self.value\n",
        "\n",
        "    def __repr__(self):\n",
        "        return (\"%s:%r %r (g: %r)\" % (\n",
        "            self.__class__.__name__, self.children, self.value, self.gradient))\n",
        "        \n",
        "    # Expression constructors\n",
        "\n",
        "    def __add__(self, other):\n",
        "        return Plus(self, other)\n",
        "\n",
        "    def __radd__(self, other):\n",
        "        return Plus(self, other)\n",
        "\n",
        "    def __sub__(self, other):\n",
        "        return Minus(self, other)\n",
        "\n",
        "    def __rsub__(self, other):\n",
        "        return Minus(other, self)\n",
        "\n",
        "    def __mul__(self, other):\n",
        "        return Multiply(self, other)\n",
        "\n",
        "    def __rmul__(self, other):\n",
        "        return Multiply(other, self)\n",
        "\n",
        "    def __truediv__(self, other):\n",
        "        return Divide(self, other)\n",
        "\n",
        "    def __rtruediv__(self, other):\n",
        "        return Divide(other, self)\n",
        "\n",
        "    def __pow__(self, other):\n",
        "        return Power(self, other)\n",
        "\n",
        "    def __rpow__(self, other):\n",
        "        return Power(other, self)\n",
        "\n",
        "    def __neg__(self):\n",
        "        return Negative(self)"
      ],
      "execution_count": 47,
      "outputs": []
    },
    {
      "cell_type": "markdown",
      "metadata": {
        "deletable": false,
        "editable": false,
        "nbgrader": {
          "checksum": "2471180620c22ba253f420e4c732a73c",
          "grade": false,
          "grade_id": "cell-8200e115216d927e",
          "locked": true,
          "schema_version": 1,
          "solution": false
        },
        "id": "sbrLtb59PFvR",
        "colab_type": "text"
      },
      "source": [
        "Let us give `op` for `Plus`, `Multiply`, and for variables via `V`, so you can see how it works."
      ]
    },
    {
      "cell_type": "code",
      "metadata": {
        "deletable": false,
        "editable": false,
        "nbgrader": {
          "checksum": "80333f72664bc790a0ed03ae1b3b8dd0",
          "grade": false,
          "grade_id": "cell-f499bfe17a2c144",
          "locked": true,
          "schema_version": 1,
          "solution": false
        },
        "id": "qAzjdiiNPFvT",
        "colab_type": "code",
        "colab": {}
      },
      "source": [
        "class V(Expr):\n",
        "    \"\"\"This class represents a variable.\"\"\"\n",
        "\n",
        "    def assign(self, v):\n",
        "        \"\"\"Assigns a value to the variable.  Used to fit a model, so we\n",
        "        can assign the various input values to the variable.\"\"\"\n",
        "        self.children = [v]\n",
        "\n",
        "    def op(self):\n",
        "        self.value = self.values[0]\n",
        "\n",
        "    def __repr__(self):\n",
        "        return \"Variable: \" + str(self.children[0])\n",
        "\n",
        "        \n",
        "class Plus(Expr):\n",
        "\n",
        "    def op(self):\n",
        "        self.value = self.values[0] + self.values[1]\n",
        "\n",
        "\n",
        "class Multiply(Expr):\n",
        "\n",
        "    def op(self):\n",
        "        self.value = self.values[0] * self.values[1]"
      ],
      "execution_count": 48,
      "outputs": []
    },
    {
      "cell_type": "markdown",
      "metadata": {
        "deletable": false,
        "editable": false,
        "nbgrader": {
          "checksum": "166386bb7c920ddf7a612e68c738cbce",
          "grade": false,
          "grade_id": "cell-5ce618329e626b8c",
          "locked": true,
          "schema_version": 1,
          "solution": false
        },
        "id": "R-t0-A6vPFvX",
        "colab_type": "text"
      },
      "source": [
        "Here you can write your implementation of the `compute` method."
      ]
    },
    {
      "cell_type": "code",
      "metadata": {
        "deletable": false,
        "nbgrader": {
          "checksum": "8804ad271254cd7eb63c0dd154e9f9d4",
          "grade": false,
          "grade_id": "cell-3504eb6f6aa32994",
          "locked": false,
          "schema_version": 1,
          "solution": true
        },
        "id": "xE2JBEIfPFvY",
        "colab_type": "code",
        "colab": {}
      },
      "source": [
        "### Exercise: Implementation of `compute` method\n",
        "\n",
        "def expr_compute(self):\n",
        "    \"\"\"This method computes the value of the expression. \n",
        "    It first computes the value of the children expressions,\n",
        "    and then uses self.op to compute the value of the expression.\"\"\"\n",
        "    self.values = []  \n",
        "    for x in self.children:\n",
        "      try:\n",
        "        self.values.append(x.compute())\n",
        "      except:\n",
        "        self.values.append(x)\n",
        "    self.op()   \n",
        "    return self.value\n",
        "\n",
        "Expr.compute = expr_compute"
      ],
      "execution_count": 49,
      "outputs": []
    },
    {
      "cell_type": "code",
      "metadata": {
        "deletable": false,
        "editable": false,
        "nbgrader": {
          "checksum": "2d42a74426de42ba788aaac2b99c7796",
          "grade": true,
          "grade_id": "cell-1e0b810fff3932c9",
          "locked": true,
          "points": 10,
          "schema_version": 1,
          "solution": false
        },
        "id": "DHKu0NVJPFvd",
        "colab_type": "code",
        "colab": {}
      },
      "source": [
        "### Tests for compute\n",
        "\n",
        "from nose.tools import assert_equal, assert_true, assert_false\n",
        "\n",
        "# First, an expression consisting only of one variable.\n",
        "e = V(3)\n",
        "assert_equal(e.compute(), 3)\n",
        "assert_equal(e.value, 3)\n",
        "\n",
        "# Then, an expression involving plus.\n",
        "e = V(3) + 4\n",
        "assert_equal(e.compute(), 7)\n",
        "assert_equal(e.value, 7)\n",
        "\n",
        "# And finally, a more complex expression.\n",
        "e = (V(3) + 4) + V(2)\n",
        "assert_equal(e.compute(), 9)\n",
        "assert_equal(e.value, 9)\n"
      ],
      "execution_count": 50,
      "outputs": []
    },
    {
      "cell_type": "markdown",
      "metadata": {
        "deletable": false,
        "editable": false,
        "nbgrader": {
          "checksum": "2c609c08ebf4a603fa17aec0a1164285",
          "grade": false,
          "grade_id": "cell-155243fe85cbbc38",
          "locked": true,
          "schema_version": 1,
          "solution": false
        },
        "id": "E0F85ejlPFvg",
        "colab_type": "text"
      },
      "source": [
        "We will have you implement also multiplication."
      ]
    },
    {
      "cell_type": "code",
      "metadata": {
        "deletable": false,
        "nbgrader": {
          "checksum": "3398b7fe0c7f7f6b131fe576c1214018",
          "grade": false,
          "grade_id": "cell-e0f70f6e2b1fcaeb",
          "locked": false,
          "schema_version": 1,
          "solution": true
        },
        "id": "Zk3XYfJMPFvh",
        "colab_type": "code",
        "colab": {}
      },
      "source": [
        "### Exercise: Implement `Multiply`\n",
        "\n",
        "class Multiply(Expr):\n",
        "    \"\"\"A multiplication expression.\"\"\"\n",
        "\n",
        "    def op(self):\n",
        "      self.value = 1\n",
        "      for x in self.values:\n",
        "        self.value *=x\n",
        "      return self.value\n"
      ],
      "execution_count": 51,
      "outputs": []
    },
    {
      "cell_type": "code",
      "metadata": {
        "deletable": false,
        "editable": false,
        "nbgrader": {
          "checksum": "295c3f32c2b48177fe46bb2ab54e3bb1",
          "grade": true,
          "grade_id": "cell-7e141b1f18a436",
          "locked": true,
          "points": 5,
          "schema_version": 1,
          "solution": false
        },
        "id": "wSoAeEpyPFvm",
        "colab_type": "code",
        "colab": {}
      },
      "source": [
        "### Tests for `Multiply`\n",
        "\n",
        "e = V(2) * 3\n",
        "assert_equal(e.compute(), 6)\n",
        "\n",
        "e = (V(2) + 3) * V(4)\n",
        "assert_equal(e.compute(), 20)\n"
      ],
      "execution_count": 52,
      "outputs": []
    },
    {
      "cell_type": "markdown",
      "metadata": {
        "deletable": false,
        "editable": false,
        "nbgrader": {
          "checksum": "2560773ffa731d639bf682261ddc3103",
          "grade": false,
          "grade_id": "cell-a5963b5fb573f8ac",
          "locked": true,
          "schema_version": 1,
          "solution": false
        },
        "id": "qkwZcp9yPFvq",
        "colab_type": "text"
      },
      "source": [
        "## Implementing autogradient\n",
        "\n",
        "The next step consists in implementing autogradient.  Consider an expression $e = E(x_0, \\ldots, x_n)$, computed as function of its children expressions $x_0, \\ldots, x_n$.  \n",
        "\n",
        "The goal of the autogradient computation is to accumulate, in each node of the expression, the gradient of the loss with respect to the node's value.  For instance, if the gradient is $2$, we know that if we increase the value of the expression by $\\Delta$, then the value of the loss is increased by $2 \\Delta$. We accumulate the gradient in the field `self.gradient` of the expression. \n",
        "\n",
        "We say _accumulate_ the gradient, because we don't really do:\n",
        "\n",
        "    self.gradient = ...\n",
        "\n",
        "Rather, we have a method `e.zero_gradient()` that sets all gradients to 0, and we then _add_ the gradient to this initial value of 0: \n",
        "\n",
        "    self.gradient += ... \n",
        "\n",
        "We will explain later in detail why we do so; for the moment, just accept it. \n",
        "\n",
        "### Computaton of the gradient\n",
        "\n",
        "In the computation of the autogradient, the expression will receive as input the value $\\partial L / \\partial e$, where $L$ is the loss, and $e$ the value of the expression.  The quantity $\\partial L / \\partial e$ is the gradient of the loss with respect to the expression value. \n",
        "\n",
        "With this input, the method `compute_gradient` of Expr must do the following:\n",
        "\n",
        "* It must _add_ $\\partial L / \\partial e$ to the gradient `self.gradient` of the expression. \n",
        "* It must compute for each child $x_i$ the partial derivative $\\partial e / \\partial x_i$, via a call to the method `derivate`.  The method `derivate` is implemented not for `Expr`, but for each specific operator, such as `Plus`, `Multiply`, etc: each operator knows how to compute the derivative with respect to its arguments.\n",
        "* It must propagate to each child $x_i$ the gradient $\\frac{\\partial L}{\\partial e} \\cdot \\frac{\\partial e}{\\partial x_i}$, by calling the method `compute_gradient` of the child with argument $\\frac{\\partial L}{\\partial e} \\cdot \\frac{\\partial e}{\\partial x_i}$. "
      ]
    },
    {
      "cell_type": "code",
      "metadata": {
        "deletable": false,
        "editable": false,
        "nbgrader": {
          "checksum": "792950d81591dc07614a72eb4fa6202a",
          "grade": false,
          "grade_id": "cell-48a57596316cd692",
          "locked": true,
          "schema_version": 1,
          "solution": false
        },
        "id": "7Q0dbldePFvq",
        "colab_type": "code",
        "colab": {}
      },
      "source": [
        "def expr_derivate(self):\n",
        "    \"\"\"This method computes the derivative of the operator at the expression\n",
        "    node.  It needs to be implemented in derived classes, such as Plus, \n",
        "    Multiply, etc.\"\"\"\n",
        "    raise NotImplementedError()\n",
        "\n",
        "Expr.derivate = expr_derivate\n",
        "\n",
        "def expr_zero_gradient(self):\n",
        "    \"\"\"Sets the gradient to 0, recursively for this expression\n",
        "    and all its children.\"\"\"\n",
        "    self.gradient = 0\n",
        "    for e in self.children:\n",
        "        if isinstance(e, Expr):\n",
        "            e.zero_gradient()\n",
        "\n",
        "Expr.zero_gradient = expr_zero_gradient\n",
        "\n",
        "def expr_compute_gradient(self, de_loss_over_de_e=1):\n",
        "    \"\"\"Computes the gradient.\n",
        "    de_loss_over_de_e is the gradient of the output. \n",
        "    de_loss_over_de_e will be added to the gradient, and then \n",
        "    we call for each child the method compute_gradient, \n",
        "    with argument de_loss_over_de_e * d expression / d child.\n",
        "    The value d expression / d child is computed by self.derivate. \"\"\"\n",
        "    pass ### PLACEHOLDER FOR YOUR SOLUTION.\n",
        "                \n",
        "Expr.compute_gradient = expr_compute_gradient"
      ],
      "execution_count": 53,
      "outputs": []
    },
    {
      "cell_type": "markdown",
      "metadata": {
        "deletable": false,
        "editable": false,
        "nbgrader": {
          "checksum": "40e323b7db91da2f227c678c47f21a3d",
          "grade": false,
          "grade_id": "cell-19c311688ac25ce1",
          "locked": true,
          "schema_version": 1,
          "solution": false
        },
        "id": "0QlaV0HaPFvu",
        "colab_type": "text"
      },
      "source": [
        "Let us endow our operators `V`, `Plus`, `Multiply` with the `derivate` method, so you can see how it works in practice."
      ]
    },
    {
      "cell_type": "code",
      "metadata": {
        "deletable": false,
        "editable": false,
        "nbgrader": {
          "checksum": "d87167fb2f4e36a4c5c2e3d335c19601",
          "grade": false,
          "grade_id": "cell-d93a5e0205c20442",
          "locked": true,
          "schema_version": 1,
          "solution": false
        },
        "id": "VaWEsOIzPFvv",
        "colab_type": "code",
        "colab": {}
      },
      "source": [
        "class V(Expr):\n",
        "    \"\"\"This class represents a variable.  The derivative rule corresponds \n",
        "    to d/dx x = 1, but note that it will not be called, since the children\n",
        "    of a variable are just numbers.\"\"\"\n",
        "\n",
        "    def assign(self, v):\n",
        "        \"\"\"Assigns a value to the variable.  Used to fit a model, so we\n",
        "        can assign the various input values to the variable.\"\"\"\n",
        "        self.children = [v]\n",
        "\n",
        "    def op(self):\n",
        "        self.value = self.values[0]\n",
        "\n",
        "    def derivate(self):\n",
        "        return [1.] # This is not really used.\n",
        "\n",
        "        \n",
        "class Plus(Expr):\n",
        "    \"\"\"An addition expression.  The derivative rule corresponds to \n",
        "    d/dx (x+y) = 1, d/dy (x+y) = 1\"\"\"\n",
        "\n",
        "    def op(self):\n",
        "        self.value = self.values[0] + self.values[1]\n",
        "\n",
        "    def derivate(self):\n",
        "        return [1., 1.]\n",
        "\n",
        "\n",
        "class Multiply(Expr):\n",
        "    \"\"\"A multiplication expression. The derivative rule corresponds to\n",
        "    d/dx (xy) = y, d/dy(xy) = x\"\"\"\n",
        "\n",
        "    def op(self):\n",
        "        self.value = self.values[0] * self.values[1]\n",
        "\n",
        "    def derivate(self):\n",
        "        return [self.values[1], self.values[0]]"
      ],
      "execution_count": 54,
      "outputs": []
    },
    {
      "cell_type": "markdown",
      "metadata": {
        "deletable": false,
        "editable": false,
        "nbgrader": {
          "checksum": "6d93ce76873aa04d1f7df51b42716e1d",
          "grade": false,
          "grade_id": "cell-890e2f2a23220658",
          "locked": true,
          "schema_version": 1,
          "solution": false
        },
        "id": "JG4o5XLePFvy",
        "colab_type": "text"
      },
      "source": [
        "Let us comment on some subtle points, before you get to work at implementing `compute_gradient`.  \n",
        "\n",
        "**`zero_gradient`:** First, notice how in the implementation of `zero_gradient`, when we loop over the children, we check whether each children is an `Expr` via isinstance(e, Expr).  In general, we have to remember that children can be either `Expr`, or simply numbers, and of course numbers do not have methods such as `zero_gradient` or `compute_gradient` implemented for them. \n",
        "\n",
        "**`derivate`:** Second, notice how `derivate` is not implemented in `Expr` directly, but rather, only in the derived classes such as `Plus`.  The derivative of the expression with respect to its arguments depends on which function it is, obviously.  \n",
        "\n",
        "For `Plus`, we have $e = x_0 + x_1$, and so: \n",
        "\n",
        "$$\n",
        "\\frac{\\partial e}{\\partial x_0} = 1 \\qquad \\frac{\\partial e}{\\partial x_1} = 1 \\; ,\n",
        "$$\n",
        "\n",
        "because $d(x+y)/dx = 1$.  Hence, the `derivate` method of `Plus` returns\n",
        "\n",
        "$$\n",
        "\\left[ \\frac{\\partial e}{\\partial x_0}, \\: \\frac{\\partial e}{\\partial x_1}\\right] \\; = \\; [1, 1] \\; .\n",
        "$$\n",
        "\n",
        "For `Multiply`, we have $e = x_0 \\cdot x_1$, and so:\n",
        "\n",
        "$$\n",
        "\\frac{\\partial e}{\\partial x_0} = x_1 \\qquad \\frac{\\partial e}{\\partial x_1} = x_0 \\; ,\n",
        "$$\n",
        "\n",
        "because $d(xy)/dx = y$.  Hence, the `derivate` method of `Plus` returns\n",
        "\n",
        "$$\n",
        "\\left[ \\frac{\\partial e}{\\partial x_0}, \\: \\frac{\\partial e}{\\partial x_1}\\right] \\; = \\; [x_1, x_0] \\; .\n",
        "$$\n",
        "\n",
        "\n",
        "**Calling `compute` before `compute_gradient`:** Lastly, a very important point: when calling `compute_gradient`, we will assume that `compute` has _already_ been called.  In this way, the value of the expression, and its children, are available for the computation of the gradient.  Note how in `Multiply.derivate` we use these values in order to compute the partial derivatives. "
      ]
    },
    {
      "cell_type": "markdown",
      "metadata": {
        "deletable": false,
        "editable": false,
        "nbgrader": {
          "checksum": "2038156da2d8cd61443e53f596d781c9",
          "grade": false,
          "grade_id": "cell-df110b7e18b9a664",
          "locked": true,
          "schema_version": 1,
          "solution": false
        },
        "id": "njfRCvZfPFvz",
        "colab_type": "text"
      },
      "source": [
        "With these clarifications, we ask you to implement the `compute_gradient` method, which again must:\n",
        "\n",
        "* _add_ $\\partial L / \\partial e$ to the gradient `self.gradient` of the expression; \n",
        "* compute $\\frac{\\partial e}{\\partial x_i}$ for each child $x_i$ by calling the method `derivate` of itself; \n",
        "* propagate to each child $x_i$ the gradient $\\frac{\\partial L}{\\partial e} \\cdot \\frac{\\partial e}{\\partial x_i}$, by calling the method `compute_gradient` of the child with argument $\\frac{\\partial L}{\\partial e} \\cdot \\frac{\\partial e}{\\partial x_i}$."
      ]
    },
    {
      "cell_type": "code",
      "metadata": {
        "deletable": false,
        "nbgrader": {
          "checksum": "2d44dd162fa977588801ebe22596555e",
          "grade": false,
          "grade_id": "cell-406125234a6b7ace",
          "locked": false,
          "schema_version": 1,
          "solution": true
        },
        "id": "UmNowWogPFv1",
        "colab_type": "code",
        "colab": {}
      },
      "source": [
        "### Exercise: Implementation of `compute_gradient`\n",
        "\n",
        "def expr_compute_gradient(self, de_loss_over_de_e=1):\n",
        "    \"\"\"Computes the gradient.\n",
        "    de_loss_over_de_e is the gradient of the output. \n",
        "    de_loss_over_de_e will be added to the gradient, and then \n",
        "    we call for each child the method compute_gradient, \n",
        "    with argument de_loss_over_de_e * d expression / d child.\n",
        "    The value d expression / d child is computed by self.derivate. \"\"\"\n",
        "    self.gradient += de_loss_over_de_e\n",
        "    i = 0\n",
        "    for x in self.children:\n",
        "      if isinstance(x, Expr):\n",
        "        x.compute_gradient(de_loss_over_de_e * self.derivate()[i])\n",
        "      i+=1\n",
        "\n",
        "      \n",
        "        \n",
        "                \n",
        "Expr.compute_gradient = expr_compute_gradient"
      ],
      "execution_count": 55,
      "outputs": []
    },
    {
      "cell_type": "code",
      "metadata": {
        "deletable": false,
        "editable": false,
        "nbgrader": {
          "checksum": "c29a9acddd0e19fdff2586c5ae6921a1",
          "grade": true,
          "grade_id": "cell-d8a6b02923b10cfb",
          "locked": true,
          "points": 15,
          "schema_version": 1,
          "solution": false
        },
        "id": "9YOpajZyPFv3",
        "colab_type": "code",
        "colab": {}
      },
      "source": [
        "### Tests for `compute_gradient`\n",
        "\n",
        "# First, the gradient of a sum.\n",
        "vx = V(3)\n",
        "vz = V(4)\n",
        "y = vx + vz\n",
        "assert_equal(y.compute(), 7)\n",
        "y.zero_gradient()\n",
        "y.compute_gradient()\n",
        "assert_equal(vx.gradient, 1.)\n",
        "\n",
        "# Second, the gradient of a product.\n",
        "vx = V(3)\n",
        "vz = V(4)\n",
        "y = vx * vz\n",
        "assert_equal(y.compute(), 12)\n",
        "y.zero_gradient()\n",
        "y.compute_gradient()\n",
        "assert_equal(vx.gradient, 4)\n",
        "assert_equal(vz.gradient, 3)\n",
        "\n",
        "# Finally, the gradient of the product of sums. \n",
        "\n",
        "vx = V(1)\n",
        "vw = V(3)\n",
        "vz = V(4)\n",
        "y = (vx + vw) * (vz + 3)\n",
        "assert_equal(y.compute(), 28)\n",
        "y.zero_gradient()\n",
        "y.compute_gradient()\n",
        "assert_equal(vx.gradient, 7)\n",
        "assert_equal(vz.gradient, 4)\n"
      ],
      "execution_count": 56,
      "outputs": []
    },
    {
      "cell_type": "markdown",
      "metadata": {
        "deletable": false,
        "editable": false,
        "nbgrader": {
          "checksum": "a7e60a89686ed6d2532e26f9c4c77c16",
          "grade": false,
          "grade_id": "cell-270cbd6ceefc8cac",
          "locked": true,
          "schema_version": 1,
          "solution": false
        },
        "id": "1A8kyXzRPFv6",
        "colab_type": "text"
      },
      "source": [
        "## Why do we accumulate gradients?\n",
        "\n",
        "We are now in the position of answering the question of why we accumulate gradients.  There are two reasons. \n",
        "\n",
        "### Multiple variable occurrence\n",
        "\n",
        "The most important reason why we need to _add_ to the gradient of each node is that nodes, and in particular, variable nodes, can occur in multiple places in an expression tree.  To compute the total influence of the variable on the expression, we need to _sum_ the influence of each occurrence.  Let's see this with a simple example.  Consider the expression $y = x \\cdot x$.  We can code it as follows: \n"
      ]
    },
    {
      "cell_type": "code",
      "metadata": {
        "deletable": false,
        "editable": false,
        "nbgrader": {
          "checksum": "1b79ce686ed71ae08e4d3d458428b6cf",
          "grade": false,
          "grade_id": "cell-fdb44466b16f032c",
          "locked": true,
          "schema_version": 1,
          "solution": false
        },
        "id": "81OXmnbrPFv8",
        "colab_type": "code",
        "colab": {}
      },
      "source": [
        "vx = V(2.) # Creates a variable vx and initializes it to 2.\n",
        "y = vx * vx"
      ],
      "execution_count": 57,
      "outputs": []
    },
    {
      "cell_type": "markdown",
      "metadata": {
        "deletable": false,
        "editable": false,
        "nbgrader": {
          "checksum": "d47e6e1af7e3d461854ac57db7b49e40",
          "grade": false,
          "grade_id": "cell-786a51429b1522f7",
          "locked": true,
          "schema_version": 1,
          "solution": false
        },
        "id": "HtNyhFjwPFwA",
        "colab_type": "text"
      },
      "source": [
        "For $y = x^2$, we have $dy / dx = 2x = 4$, given that $x=2$.  How is this reflected in our code? \n",
        "\n",
        "Our code considers separately the left and right occurrences of `vx` in the expression; let us denote them with $vx_l$ and $vx_r$.  The expression can be written as $y = vx_l \\cdot vx_r$, and we have that $\\partial y / \\partial \\, vx_l = vx_r = 2$, as $vx_r = 2$.  Similarly, $\\partial y / \\partial \\, vx_r = 2$.  These two gradients are added to `vx.gradient` by the method `compute_gradient`, and we get that the total gradient is 4, as desired."
      ]
    },
    {
      "cell_type": "code",
      "metadata": {
        "deletable": false,
        "editable": false,
        "nbgrader": {
          "checksum": "7f4a64ca18bca654a54d7f2b7c6aaf38",
          "grade": false,
          "grade_id": "cell-15a4fe7918211c0f",
          "locked": true,
          "schema_version": 1,
          "solution": false
        },
        "id": "vvnoYKnyPFwA",
        "colab_type": "code",
        "colab": {
          "base_uri": "https://localhost:8080/",
          "height": 34
        },
        "outputId": "b41d6184-4a5f-40cc-e996-8a1ad7ea5f12"
      },
      "source": [
        "y.compute() # We have to call compute() before compute_gradient()\n",
        "y.zero_gradient()\n",
        "y.compute_gradient()\n",
        "print(\"gradient of vx:\", vx.gradient)\n",
        "assert_equal(vx.gradient, 4)"
      ],
      "execution_count": 58,
      "outputs": [
        {
          "output_type": "stream",
          "text": [
            "gradient of vx: 4.0\n"
          ],
          "name": "stdout"
        }
      ]
    },
    {
      "cell_type": "markdown",
      "metadata": {
        "deletable": false,
        "editable": false,
        "nbgrader": {
          "checksum": "0f5aca17a4b71679f3fd22b6c4720852",
          "grade": false,
          "grade_id": "cell-381479a2d2ea9329",
          "locked": true,
          "schema_version": 1,
          "solution": false
        },
        "id": "wAZqqyJrPFwD",
        "colab_type": "text"
      },
      "source": [
        "### Multiple data to fit\n",
        "\n",
        "The other reason why we need to tally up the gradient is that in general, we need to fit a function to more than one data point.  Assume that we are given a set of inputs $x_1, x_2, \\ldots, x_n$ and desired outputs $y_1, y_2, \\ldots, y_n$. Our goal is to approximate the desired ouputs via an expression $e(x, \\theta)$ of the input, according to some parameters $\\theta$.  Our goal is to choose the parameters $\\theta$ to minimize the sum of the square errors for the points: \n",
        "\n",
        "$$\n",
        "L_{tot}(\\theta) = \\sum_{i=1}^n L_i(\\theta) \\; ,\n",
        "$$\n",
        "\n",
        "where $L_i(\\theta) = (e(x_i, \\theta) - y_i)^2$ is the loss for a single data point.  The gradient $L_{tot}(\\theta)$ with respect to $\\theta$ can be computed by adding up the gradients for the individual points:\n",
        "\n",
        "$$\n",
        "\\frac{\\partial}{\\partial \\theta} L_{tot}(\\theta) \\;=\\;\n",
        "\\sum_{i=1}^n \\frac{\\partial}{\\partial \\theta} L_i(\\theta) \\; .\n",
        "$$\n",
        "\n",
        "To translate this into code, we will build an expression $e(x, \\theta)$ involving the input $x$ and the parameters $\\theta$, and an expression \n",
        "\n",
        "$$\n",
        "L = (e(x, \\theta) - y)^2\n",
        "$$\n",
        "\n",
        "for the loss, involving $x, y$ and $\\theta$.  We will then zero all gradients via `zero_gradient`. Once this is done, we compute the loss $L$ for each point, and then the gradient $\\partial L / \\partial \\theta$ via a call to `compute_gradient`.  The gradients for all the points will be added, yielding the gradient for minimizing the total loss. "
      ]
    },
    {
      "cell_type": "markdown",
      "metadata": {
        "deletable": false,
        "editable": false,
        "nbgrader": {
          "checksum": "b4c34a5fe1f4c06ff12e2f9152eecd05",
          "grade": false,
          "grade_id": "cell-2bc7acb3a197711a",
          "locked": true,
          "schema_version": 1,
          "solution": false
        },
        "id": "XAsKhQd6PFwE",
        "colab_type": "text"
      },
      "source": [
        "## Rounding up the implementation\n",
        "\n",
        "Now that we have implemented autogradient, as well as the operators `Plus` and `Multiply`, it is time to implement the remaining operators: \n",
        "\n",
        "* `Minus`\n",
        "* `Divide` (no need to worry about division by zero)\n",
        "* `Power`, representing exponentiation (the `**` operator of Python)\n",
        "* and the unary minus `Negative`. "
      ]
    },
    {
      "cell_type": "code",
      "metadata": {
        "deletable": false,
        "nbgrader": {
          "checksum": "b77a1f3a9b9575c78a872c43ee62c277",
          "grade": false,
          "grade_id": "cell-529921db43de3baa",
          "locked": false,
          "schema_version": 1,
          "solution": true
        },
        "id": "eap3Io0rPFwG",
        "colab_type": "code",
        "colab": {}
      },
      "source": [
        "### Exercise: Implementation of `Minus`, `Divide`, `Power`, and `Negative`\n",
        "\n",
        "import math\n",
        "\n",
        "class Minus(Expr):\n",
        "    \"\"\"Operator for x - y\"\"\"\n",
        "    def op(self):\n",
        "      self.value = self.values[0] - self.values[1]\n",
        "\n",
        "\n",
        "    def derivate(self):\n",
        "        return [1., -1.]\n",
        "\n",
        "class Divide(Expr):\n",
        "    \"\"\"Operator for x / y\"\"\"\n",
        "\n",
        "    def op(self):\n",
        "      self.value = self.values[0] / self.values[1]\n",
        "\n",
        "    def derivate(self):\n",
        "      return [1/self.values[1], -self.values[0]/(self.values[1]**2)]\n",
        "\n",
        "class Power(Expr):\n",
        "    \"\"\"Operator for x ** y\"\"\"  \n",
        "    def op(self):\n",
        "      self.value = self.values[0] ** self.values[1]\n",
        "\n",
        "    def derivate(self):\n",
        "        return [self.values[1]*(self.values[0]**(self.values[1]-1)),math.log(self.values[0])*(self.values[0]**self.values[1])]\n",
        "\n",
        "class Negative(Expr):\n",
        "    \"\"\"Operator for -x\"\"\"\n",
        "\n",
        "    def op(self):\n",
        "      self.value = -1*self.values[0] \n",
        "\n",
        "    def derivate(self):\n",
        "        return [-1]\n"
      ],
      "execution_count": 59,
      "outputs": []
    },
    {
      "cell_type": "markdown",
      "metadata": {
        "deletable": false,
        "editable": false,
        "nbgrader": {
          "checksum": "ae67f4327dc668fcecb93c60068d9591",
          "grade": false,
          "grade_id": "cell-fc55e594a0f75d32",
          "locked": true,
          "schema_version": 1,
          "solution": false
        },
        "id": "8m7PWquGPFwI",
        "colab_type": "text"
      },
      "source": [
        "Here are some tests."
      ]
    },
    {
      "cell_type": "code",
      "metadata": {
        "deletable": false,
        "editable": false,
        "nbgrader": {
          "checksum": "5694cc71dd23d28a2f507a92e45fa4de",
          "grade": true,
          "grade_id": "cell-2f410d187bb3953b",
          "locked": true,
          "points": 10,
          "schema_version": 1,
          "solution": false
        },
        "id": "7WiKkVJbPFwI",
        "colab_type": "code",
        "colab": {}
      },
      "source": [
        "### Tests for `Minus`\n",
        "\n",
        "# Minus. \n",
        "vx = V(3)\n",
        "vy = V(2)\n",
        "e = vx - vy\n",
        "assert_equal(e.compute(), 1.)\n",
        "e.zero_gradient()\n",
        "e.compute_gradient()\n",
        "assert_equal(vx.gradient, 1)\n",
        "assert_equal(vy.gradient, -1)\n"
      ],
      "execution_count": 60,
      "outputs": []
    },
    {
      "cell_type": "code",
      "metadata": {
        "deletable": false,
        "editable": false,
        "nbgrader": {
          "checksum": "89fec5f8ce2a86fbaf976fd08f0359f9",
          "grade": true,
          "grade_id": "cell-4b2aa7944b918b42",
          "locked": true,
          "points": 10,
          "schema_version": 1,
          "solution": false
        },
        "id": "rIOrnihPPFwL",
        "colab_type": "code",
        "colab": {}
      },
      "source": [
        "### Tests for `Divide`\n",
        "\n",
        "from nose.tools import assert_almost_equal\n",
        "\n",
        "# Divide. \n",
        "vx = V(6)\n",
        "vy = V(2)\n",
        "e = vx / vy\n",
        "assert_equal(e.compute(), 3.)\n",
        "e.zero_gradient()\n",
        "e.compute_gradient()\n",
        "assert_equal(vx.gradient, 0.5)\n",
        "assert_equal(vy.gradient, -1.5)\n"
      ],
      "execution_count": 61,
      "outputs": []
    },
    {
      "cell_type": "code",
      "metadata": {
        "deletable": false,
        "editable": false,
        "nbgrader": {
          "checksum": "d23a960895718c2021b52cd9342bf307",
          "grade": true,
          "grade_id": "cell-27cfe444d23610f0",
          "locked": true,
          "points": 10,
          "schema_version": 1,
          "solution": false
        },
        "id": "uU6wcpGGPFwO",
        "colab_type": "code",
        "colab": {}
      },
      "source": [
        "### Tests for `Power`\n",
        "\n",
        "from nose.tools import assert_almost_equal\n",
        "\n",
        "# Power. \n",
        "vx = V(2)\n",
        "vy = V(3)\n",
        "e = vx ** vy\n",
        "assert_equal(e.compute(), 8.)\n",
        "e.zero_gradient()\n",
        "e.compute_gradient()\n",
        "assert_equal(vx.gradient, 12.)\n",
        "assert_almost_equal(vy.gradient, math.log(2.) * 8., places=4)\n"
      ],
      "execution_count": 62,
      "outputs": []
    },
    {
      "cell_type": "code",
      "metadata": {
        "deletable": false,
        "editable": false,
        "nbgrader": {
          "checksum": "9907f2ee5d7b81aa913fc33e24ba46ab",
          "grade": true,
          "grade_id": "cell-b83a719bc4cb9a65",
          "locked": true,
          "points": 10,
          "schema_version": 1,
          "solution": false
        },
        "id": "Foq_JT3uPFwT",
        "colab_type": "code",
        "colab": {}
      },
      "source": [
        "### Tests for `Negative`\n",
        "\n",
        "from nose.tools import assert_almost_equal\n",
        "\n",
        "# Negative\n",
        "vx = V(6)\n",
        "e = - vx\n",
        "assert_equal(e.compute(), -6.)\n",
        "e.zero_gradient()\n",
        "e.compute_gradient()\n",
        "assert_equal(vx.gradient, -1.)\n"
      ],
      "execution_count": 63,
      "outputs": []
    },
    {
      "cell_type": "markdown",
      "metadata": {
        "deletable": false,
        "editable": false,
        "nbgrader": {
          "checksum": "38a6038dc933fcb0fbfe66ef8c25df2b",
          "grade": false,
          "grade_id": "cell-ad0d23f9d8e69b76",
          "locked": true,
          "schema_version": 1,
          "solution": false
        },
        "id": "-MGAue3rPFwV",
        "colab_type": "text"
      },
      "source": [
        "## Optimization\n",
        "\n",
        "Let us use our ML framework to fit a parabola to a given set of points.  Here is our set of points:"
      ]
    },
    {
      "cell_type": "code",
      "metadata": {
        "deletable": false,
        "editable": false,
        "nbgrader": {
          "checksum": "66bfb074f4cc0785a76190432fb07fe4",
          "grade": false,
          "grade_id": "cell-b719e13a8db7194b",
          "locked": true,
          "schema_version": 1,
          "solution": false
        },
        "id": "uAfpRrFMPFwW",
        "colab_type": "code",
        "colab": {}
      },
      "source": [
        "points = [\n",
        "    (-2, 2.7),\n",
        "    (-1, 3),\n",
        "    (0, 1.3),\n",
        "    (1, 2.4),\n",
        "    (3, 5.5),\n",
        "    (4, 6.2),\n",
        "    (5, 9.1),\n",
        "]"
      ],
      "execution_count": 64,
      "outputs": []
    },
    {
      "cell_type": "markdown",
      "metadata": {
        "deletable": false,
        "editable": false,
        "nbgrader": {
          "checksum": "038a600d6650b27f26125e805ec69e1f",
          "grade": false,
          "grade_id": "cell-254e3bee4ee59156",
          "locked": true,
          "schema_version": 1,
          "solution": false
        },
        "id": "DHxg9NwgPFwY",
        "colab_type": "text"
      },
      "source": [
        "Let us display these points."
      ]
    },
    {
      "cell_type": "code",
      "metadata": {
        "deletable": false,
        "editable": false,
        "nbgrader": {
          "checksum": "9291f9d742df59773bcadf489e32dc9e",
          "grade": false,
          "grade_id": "cell-54fd8c743b451183",
          "locked": true,
          "schema_version": 1,
          "solution": false
        },
        "id": "IQO5yZSDPFwY",
        "colab_type": "code",
        "colab": {}
      },
      "source": [
        "import matplotlib\n",
        "import matplotlib.pyplot as plt\n",
        "\n",
        "matplotlib.rcParams['figure.figsize'] = (8.0, 3.)\n",
        "params = {'legend.fontsize': 'large',\n",
        "          'axes.labelsize': 'large',\n",
        "          'axes.titlesize':'large',\n",
        "          'xtick.labelsize':'large',\n",
        "          'ytick.labelsize':'large'}\n",
        "matplotlib.rcParams.update(params)\n",
        "\n",
        "def plot_points(points):\n",
        "    fig, ax = plt.subplots()\n",
        "    xs, ys = zip(*points)\n",
        "    ax.plot(xs, ys, 'r+')\n",
        "    plt.xlabel('x')\n",
        "    plt.ylabel('y')\n",
        "    plt.show()"
      ],
      "execution_count": 65,
      "outputs": []
    },
    {
      "cell_type": "code",
      "metadata": {
        "deletable": false,
        "editable": false,
        "nbgrader": {
          "checksum": "5b1424e5df72c4a534ac7ebc828c44a1",
          "grade": false,
          "grade_id": "cell-c454611b4ca61393",
          "locked": true,
          "schema_version": 1,
          "solution": false
        },
        "id": "zlHMIIF-PFwa",
        "colab_type": "code",
        "colab": {
          "base_uri": "https://localhost:8080/",
          "height": 231
        },
        "outputId": "06481730-753d-4b25-fa33-09f43ce510b4"
      },
      "source": [
        "plot_points(points)"
      ],
      "execution_count": 66,
      "outputs": [
        {
          "output_type": "display_data",
          "data": {
            "image/png": "[encoded data removed]",
            "text/plain": [
              "<Figure size 576x216 with 1 Axes>"
            ]
          },
          "metadata": {
            "tags": [],
            "needs_background": "light"
          }
        }
      ]
    },
    {
      "cell_type": "markdown",
      "metadata": {
        "deletable": false,
        "editable": false,
        "nbgrader": {
          "checksum": "99b73a094c69f1cdef90db7538253b96",
          "grade": false,
          "grade_id": "cell-d680895711b1ff83",
          "locked": true,
          "schema_version": 1,
          "solution": false
        },
        "id": "g73kSJg4PFwd",
        "colab_type": "text"
      },
      "source": [
        "To fit a parabola to these points, we will build an `Expr` that represents the equation $\\hat{y} = ax^2 + bx + c$, where $\\hat{y}$ is the value of $y$ predicted by our parabola. \n",
        "If $\\hat{y}$ is the predicted value, and $y$ is the observed value, to obtain a better prediction of the observations, we minimize the loss $L = (\\hat{y} - y)^2$, that is, the square prediction error. \n",
        "Written out in detail, our loss is:\n",
        "\n",
        "$$\n",
        "    L \\;=\\; \\left( y - \\hat{y}\\right)^ 2 \\;=\\; \\left( y - (ax^2 + bx + c) \\right)^2 \\; .\n",
        "$$\n",
        "\n",
        "Here, $a, b, c$ are parameters that we need to tune to minimize the loss, and obtain a good fit between the parabola and the points. \n",
        "This tuning, or training, is done by repeating the following process many times:\n",
        "\n",
        "* Zero the gradient\n",
        "* For each point:\n",
        "    * Set the values of x, y to the value of the point.\n",
        "    * Compute the expression giving the loss.\n",
        "    * Backpropagate.  This computes all gradients with respect to the loss, and in particular, the gradients of the coefficients $a, b, c$. \n",
        "* Update the coefficients $a, b, c$ by taking a small step in the direction of the negative gradient (negative, so that the loss decreases)."
      ]
    },
    {
      "cell_type": "code",
      "metadata": {
        "deletable": false,
        "editable": false,
        "nbgrader": {
          "checksum": "686883a48bd394b9f6a4c3823488e7ec",
          "grade": false,
          "grade_id": "cell-f88be5a26cd12a63",
          "locked": true,
          "schema_version": 1,
          "solution": false
        },
        "id": "PMvzVWqRPFwd",
        "colab_type": "code",
        "colab": {}
      },
      "source": [
        "va = V(0.)\n",
        "vb = V(0.)\n",
        "vc = V(0.)\n",
        "vx = V(0.)\n",
        "vy = V(0.)\n",
        "\n",
        "oy = va * vx * vx + vb * vx + vc\n",
        "\n",
        "loss = (vy - oy) * (vy - oy)"
      ],
      "execution_count": 67,
      "outputs": []
    },
    {
      "cell_type": "markdown",
      "metadata": {
        "deletable": false,
        "editable": false,
        "nbgrader": {
          "checksum": "e6f7f5f6eac58838ba757b327ea3e0a0",
          "grade": false,
          "grade_id": "cell-c2b0da3544d9add8",
          "locked": true,
          "schema_version": 1,
          "solution": false
        },
        "id": "r3v8vtmzPFwf",
        "colab_type": "text"
      },
      "source": [
        "Below, implement the \"for each point\" part of the above informal description.  Hint: this takes about 4-5 lines of code."
      ]
    },
    {
      "cell_type": "code",
      "metadata": {
        "deletable": false,
        "editable": false,
        "nbgrader": {
          "checksum": "76387e541752e2ac1852e6eb7d0384c8",
          "grade": false,
          "grade_id": "cell-cf54345d957356",
          "locked": true,
          "schema_version": 1,
          "solution": false
        },
        "id": "viOhnESPPFwf",
        "colab_type": "code",
        "colab": {}
      },
      "source": [
        "def fit(loss, points, params, delta=0.0001, num_iterations=4000):\n",
        "\n",
        "    for iteration_idx in range(num_iterations):\n",
        "        loss.zero_gradient()\n",
        "        total_loss = 0.\n",
        "        for x, y in points:\n",
        "            ### You need to implement here the computaton of the \n",
        "            ### loss gradient for the point (x, y). \n",
        "            total_loss += loss.value\n",
        "        if (iteration_idx + 1) % 100 == 0:\n",
        "            print(\"Loss:\", total_loss)\n",
        "        for vv in params:\n",
        "            vv.assign(vv.value - delta * vv.gradient)\n",
        "    return total_loss"
      ],
      "execution_count": 68,
      "outputs": []
    },
    {
      "cell_type": "code",
      "metadata": {
        "deletable": false,
        "nbgrader": {
          "checksum": "380c6c0a8b02b21489c8f4d0e7a3731d",
          "grade": false,
          "grade_id": "cell-4b2a5a0e2152c1d1",
          "locked": false,
          "schema_version": 1,
          "solution": true
        },
        "id": "4P-0brqUPFwh",
        "colab_type": "code",
        "colab": {}
      },
      "source": [
        "### Exercise: Implementation of `fit`\n",
        "\n",
        "def fit(loss, points, params, delta=0.0001, num_iterations=4000):\n",
        "\n",
        "    for iteration_idx in range(num_iterations):\n",
        "        loss.zero_gradient()\n",
        "        total_loss = 0.\n",
        "        for x, y in points:\n",
        "          vx.assign(x)\n",
        "          vy.assign(y)\n",
        "          loss.compute()\n",
        "          loss.compute_gradient()\n",
        "          total_loss += loss.value\n",
        "        if (iteration_idx + 1) % 100 == 0:\n",
        "            print(\"Loss:\", total_loss)\n",
        "        for vv in params:\n",
        "            vv.assign(vv.value - delta * vv.gradient)\n",
        "    return total_loss"
      ],
      "execution_count": 69,
      "outputs": []
    },
    {
      "cell_type": "markdown",
      "metadata": {
        "deletable": false,
        "editable": false,
        "nbgrader": {
          "checksum": "41f2dc0de7b40868d3ee87d0ee707f73",
          "grade": false,
          "grade_id": "cell-39a398ffbc71ec70",
          "locked": true,
          "schema_version": 1,
          "solution": false
        },
        "id": "LFjIJ0ZiPFwj",
        "colab_type": "text"
      },
      "source": [
        "Let's train the coefficients `va`, `vb`, `vc`: "
      ]
    },
    {
      "cell_type": "code",
      "metadata": {
        "deletable": false,
        "editable": false,
        "nbgrader": {
          "checksum": "733adca5440c5e9e48deb92751eeb84b",
          "grade": false,
          "grade_id": "cell-aa7a64de5eb95b8c",
          "locked": true,
          "schema_version": 1,
          "solution": false
        },
        "id": "6HL5_P21PFwk",
        "colab_type": "code",
        "colab": {
          "base_uri": "https://localhost:8080/",
          "height": 697
        },
        "outputId": "99c9f429-84fb-43af-b772-4e98a7f99733"
      },
      "source": [
        "from nose.tools import assert_less\n",
        "\n",
        "lv = fit(loss, points, [va, vb, vc])\n",
        "assert_less(lv, 2.5)"
      ],
      "execution_count": 70,
      "outputs": [
        {
          "output_type": "stream",
          "text": [
            "Loss: 15.691480263172831\n",
            "Loss: 13.628854145973717\n",
            "Loss: 11.95710461470721\n",
            "Loss: 10.577288435238483\n",
            "Loss: 9.421709915417068\n",
            "Loss: 8.442894724380599\n",
            "Loss: 7.606627717852742\n",
            "Loss: 6.887533665385938\n",
            "Loss: 6.266252079473012\n",
            "Loss: 5.727613949776414\n",
            "Loss: 5.259450432876111\n",
            "Loss: 4.851802101057622\n",
            "Loss: 4.4963837663728965\n",
            "Loss: 4.18621382152429\n",
            "Loss: 3.9153507183966223\n",
            "Loss: 3.6787002636071753\n",
            "Loss: 3.471870598609928\n",
            "Loss: 3.2910600093895632\n",
            "Loss: 3.13296792199636\n",
            "Loss: 2.9947227347465053\n",
            "Loss: 2.8738222326925422\n",
            "Loss: 2.768083672161589\n",
            "Loss: 2.6756014919475786\n",
            "Loss: 2.594711177586694\n",
            "Loss: 2.523958185206276\n",
            "Loss: 2.462071090153853\n",
            "Loss: 2.4079383059994615\n",
            "Loss: 2.360587848696134\n",
            "Loss: 2.3191697158813342\n",
            "Loss: 2.28294052348259\n",
            "Loss: 2.251250098021605\n",
            "Loss: 2.2235297678961032\n",
            "Loss: 2.199282133501638\n",
            "Loss: 2.1780721263873506\n",
            "Loss: 2.1595191931327227\n",
            "Loss: 2.1432904612844434\n",
            "Loss: 2.1290947632296184\n",
            "Loss: 2.1166774098449848\n",
            "Loss: 2.105815619569577\n",
            "Loss: 2.096314520528721\n"
          ],
          "name": "stdout"
        }
      ]
    },
    {
      "cell_type": "markdown",
      "metadata": {
        "deletable": false,
        "editable": false,
        "nbgrader": {
          "checksum": "684b1cae33dcf5cfac008c861984e4ab",
          "grade": false,
          "grade_id": "cell-5141aa398ebc025b",
          "locked": true,
          "schema_version": 1,
          "solution": false
        },
        "id": "DB0he9pMPFwl",
        "colab_type": "text"
      },
      "source": [
        "Let's display the parameter values after the training:"
      ]
    },
    {
      "cell_type": "code",
      "metadata": {
        "deletable": false,
        "editable": false,
        "nbgrader": {
          "checksum": "77755b7699f2b508bd93f2ca6ab3faf1",
          "grade": false,
          "grade_id": "cell-95a410ca3fc16ff4",
          "locked": true,
          "schema_version": 1,
          "solution": false
        },
        "id": "CeJwja8TPFwl",
        "colab_type": "code",
        "colab": {
          "base_uri": "https://localhost:8080/",
          "height": 34
        },
        "outputId": "48605124-e7e8-4861-8c24-a3453fe761c6"
      },
      "source": [
        "print(\"a:\", va.value, \"b:\", vb.value, \"c:\", vc.value)"
      ],
      "execution_count": 71,
      "outputs": [
        {
          "output_type": "stream",
          "text": [
            "a: 0.2676897030023671 b: 0.09446139849938508 c: 1.9725828646266883\n"
          ],
          "name": "stdout"
        }
      ]
    },
    {
      "cell_type": "markdown",
      "metadata": {
        "deletable": false,
        "editable": false,
        "nbgrader": {
          "checksum": "48b8bb0f97cad4c99d7984693038c2fd",
          "grade": false,
          "grade_id": "cell-3047b41fc21ba7d6",
          "locked": true,
          "schema_version": 1,
          "solution": false
        },
        "id": "V37TOYEVPFwn",
        "colab_type": "text"
      },
      "source": [
        "Let's display the points, along with the fitted parabola."
      ]
    },
    {
      "cell_type": "code",
      "metadata": {
        "deletable": false,
        "editable": false,
        "nbgrader": {
          "checksum": "9e4f0bcdcb18aa9d5e727aac10976fc4",
          "grade": false,
          "grade_id": "cell-cc778c65d5a12df7",
          "locked": true,
          "schema_version": 1,
          "solution": false
        },
        "id": "Lp4YsOxUPFwn",
        "colab_type": "code",
        "colab": {}
      },
      "source": [
        "import numpy as np\n",
        "\n",
        "def plot_points_and_y(points, vx, oy):\n",
        "    fig, ax = plt.subplots()\n",
        "    xs, ys = zip(*points)\n",
        "    ax.plot(xs, ys, 'r+')\n",
        "    x_min, x_max = np.min(xs), np.max(xs)\n",
        "    step = (x_max - x_min) / 100\n",
        "    x_list = list(np.arange(x_min, x_max + step, step))\n",
        "    y_list = []\n",
        "    for x in x_list:\n",
        "        vx.assign(x)\n",
        "        oy.compute()\n",
        "        y_list.append(oy.value)\n",
        "    ax.plot(x_list, y_list)\n",
        "    plt.xlabel('x')\n",
        "    plt.ylabel('y')\n",
        "    plt.show()"
      ],
      "execution_count": 72,
      "outputs": []
    },
    {
      "cell_type": "code",
      "metadata": {
        "deletable": false,
        "editable": false,
        "nbgrader": {
          "checksum": "710c58bc3ba94f9ee5cd315d99421d51",
          "grade": false,
          "grade_id": "cell-d447df911db9b08",
          "locked": true,
          "schema_version": 1,
          "solution": false
        },
        "id": "dc4i17njPFwp",
        "colab_type": "code",
        "colab": {
          "base_uri": "https://localhost:8080/",
          "height": 231
        },
        "outputId": "961f382b-a6c2-4a89-9afb-eeb408de53f7"
      },
      "source": [
        "plot_points_and_y(points, vx, oy)"
      ],
      "execution_count": 73,
      "outputs": [
        {
          "output_type": "display_data",
          "data": {
            "image/png": "[encoded data removed]",
            "text/plain": [
              "<Figure size 576x216 with 1 Axes>"
            ]
          },
          "metadata": {
            "tags": [],
            "needs_background": "light"
          }
        }
      ]
    },
    {
      "cell_type": "markdown",
      "metadata": {
        "deletable": false,
        "editable": false,
        "nbgrader": {
          "checksum": "1907c945cfa5f2e4638c61f3560d54de",
          "grade": false,
          "grade_id": "cell-7e6680f77cb76c7d",
          "locked": true,
          "schema_version": 1,
          "solution": false
        },
        "id": "5FTKDblzPFws",
        "colab_type": "text"
      },
      "source": [
        "This looks like a good fit!\n",
        "\n",
        "Note that if we chose too large a learning step, we would not converge to a solution.  A large step causes the parameter values to zoom all over the place, possibly missing by large amounts the (local) minima where you want to converge.  In the limit where the step size goes to 0, and the number of steps to infinity, you are guaranteed (if the function is differentiable, and some other hypotheses) converge to the minimum; the problem is that it would take infinitely long.  You will learn in a more in-depth ML class how to tune the step size."
      ]
    },
    {
      "cell_type": "code",
      "metadata": {
        "deletable": false,
        "editable": false,
        "nbgrader": {
          "checksum": "1961402bee68ea5316d93e86260cb473",
          "grade": false,
          "grade_id": "cell-5746cf6c31405c43",
          "locked": true,
          "schema_version": 1,
          "solution": false
        },
        "id": "oYb2xmXsPFwt",
        "colab_type": "code",
        "colab": {
          "base_uri": "https://localhost:8080/",
          "height": 204
        },
        "outputId": "b1f0a311-8066-423a-f998-331114e6b7c9"
      },
      "source": [
        "# Let us reinitialize the variables.\n",
        "va.assign(0)\n",
        "vb.assign(0)\n",
        "vc.assign(0)\n",
        "# ... and let's use a big step size.\n",
        "fit(loss, points, [va, vb, vc], delta=0.01, num_iterations=1000)"
      ],
      "execution_count": 74,
      "outputs": [
        {
          "output_type": "stream",
          "text": [
            "Loss: 7.445536528760376e+257\n",
            "Loss: inf\n",
            "Loss: nan\n",
            "Loss: nan\n",
            "Loss: nan\n",
            "Loss: nan\n",
            "Loss: nan\n",
            "Loss: nan\n",
            "Loss: nan\n",
            "Loss: nan\n"
          ],
          "name": "stdout"
        },
        {
          "output_type": "execute_result",
          "data": {
            "text/plain": [
              "nan"
            ]
          },
          "metadata": {
            "tags": []
          },
          "execution_count": 74
        }
      ]
    },
    {
      "cell_type": "markdown",
      "metadata": {
        "deletable": false,
        "editable": false,
        "nbgrader": {
          "checksum": "0454c20efb1a32aabff4201d3c837d03",
          "grade": false,
          "grade_id": "cell-ae997060fea51fd5",
          "locked": true,
          "schema_version": 1,
          "solution": false
        },
        "id": "ZKcCJoBZPFwu",
        "colab_type": "text"
      },
      "source": [
        "A step size of 0.01 was enough to take us to infinity and beyond."
      ]
    },
    {
      "cell_type": "markdown",
      "metadata": {
        "deletable": false,
        "editable": false,
        "nbgrader": {
          "checksum": "b59e739a30ff467161b87abfbeb22b92",
          "grade": false,
          "grade_id": "cell-5bfd0d5cce956f0a",
          "locked": true,
          "schema_version": 1,
          "solution": false
        },
        "id": "dgwWD33VPFwu",
        "colab_type": "text"
      },
      "source": [
        "Let us now show you how to fit a simple linear regression: $y = ax + b$, so $L = (y - (ax + b))^2$. "
      ]
    },
    {
      "cell_type": "code",
      "metadata": {
        "deletable": false,
        "editable": false,
        "nbgrader": {
          "checksum": "1bb03b73ba21136869e7a29698474571",
          "grade": false,
          "grade_id": "cell-92e1ad5186390378",
          "locked": true,
          "schema_version": 1,
          "solution": false
        },
        "id": "49SWnid_PFww",
        "colab_type": "code",
        "colab": {}
      },
      "source": [
        "# Parameters\n",
        "# Sometimes you have to be careful about initial values.\n",
        "va = V(1.)\n",
        "vb = V(1.)\n",
        "\n",
        "# x and y\n",
        "vx = V(0.)\n",
        "vy = V(0.)\n",
        "\n",
        "# Predicted y\n",
        "oy = va * vx + vb\n",
        "\n",
        "# Loss\n",
        "loss = (vy - oy) * (vy - oy)"
      ],
      "execution_count": 75,
      "outputs": []
    },
    {
      "cell_type": "code",
      "metadata": {
        "deletable": false,
        "editable": false,
        "nbgrader": {
          "checksum": "f2e913e9f6f50f9ae1f5c045bb135dc3",
          "grade": false,
          "grade_id": "cell-56391868bda5a4dd",
          "locked": true,
          "schema_version": 1,
          "solution": false
        },
        "id": "nnN9CYB9PFwz",
        "colab_type": "code",
        "colab": {
          "base_uri": "https://localhost:8080/",
          "height": 714
        },
        "outputId": "4d88917c-b341-4eb3-d411-749badaaeef5"
      },
      "source": [
        "fit(loss, points, [va, vb])"
      ],
      "execution_count": 76,
      "outputs": [
        {
          "output_type": "stream",
          "text": [
            "Loss: 28.04911931725314\n",
            "Loss: 24.56807140584221\n",
            "Loss: 22.04737547646302\n",
            "Loss: 20.018461554483544\n",
            "Loss: 18.363064879989466\n",
            "Loss: 17.010221159926804\n",
            "Loss: 15.904419410376471\n",
            "Loss: 15.000526654509262\n",
            "Loss: 14.261674191105309\n",
            "Loss: 13.657727388420048\n",
            "Loss: 13.164054060381849\n",
            "Loss: 12.760519585409948\n",
            "Loss: 12.43066568540981\n",
            "Loss: 12.161039167477448\n",
            "Loss: 11.940643231055738\n",
            "Loss: 11.760488960015408\n",
            "Loss: 11.613228706940784\n",
            "Loss: 11.492856417067383\n",
            "Loss: 11.394462669488892\n",
            "Loss: 11.314034444913947\n",
            "Loss: 11.248291453438622\n",
            "Loss: 11.194552346912685\n",
            "Loss: 11.150625359329684\n",
            "Loss: 11.114718914975501\n",
            "Loss: 11.085368558461209\n",
            "Loss: 11.061377226459106\n",
            "Loss: 11.041766425106331\n",
            "Loss: 11.025736321831346\n",
            "Loss: 11.012633123936265\n",
            "Loss: 11.00192241346032\n",
            "Loss: 10.99316735077883\n",
            "Loss: 10.986010857964564\n",
            "Loss: 10.980161055254529\n",
            "Loss: 10.975379356643991\n",
            "Loss: 10.971470739082786\n",
            "Loss: 10.968275788400177\n",
            "Loss: 10.965664197548818\n",
            "Loss: 10.963529451991706\n",
            "Loss: 10.96178448547398\n",
            "Loss: 10.960358128998926\n"
          ],
          "name": "stdout"
        },
        {
          "output_type": "execute_result",
          "data": {
            "text/plain": [
              "10.960358128998926"
            ]
          },
          "metadata": {
            "tags": []
          },
          "execution_count": 76
        }
      ]
    },
    {
      "cell_type": "code",
      "metadata": {
        "deletable": false,
        "editable": false,
        "nbgrader": {
          "checksum": "622ab298dfd5c923dadf2aef73fb8230",
          "grade": false,
          "grade_id": "cell-6b17fe17e012350",
          "locked": true,
          "schema_version": 1,
          "solution": false
        },
        "id": "2QT7_o2lPFw2",
        "colab_type": "code",
        "colab": {
          "base_uri": "https://localhost:8080/",
          "height": 231
        },
        "outputId": "541497a6-459f-46ba-c686-97dc83c2682d"
      },
      "source": [
        "plot_points_and_y(points, vx, oy)"
      ],
      "execution_count": 77,
      "outputs": [
        {
          "output_type": "display_data",
          "data": {
            "image/png": "[encoded data removed]",
            "text/plain": [
              "<Figure size 576x216 with 1 Axes>"
            ]
          },
          "metadata": {
            "tags": [],
            "needs_background": "light"
          }
        }
      ]
    },
    {
      "cell_type": "markdown",
      "metadata": {
        "deletable": false,
        "editable": false,
        "nbgrader": {
          "checksum": "7bf0ba4643a284c16d0a10d295b48214",
          "grade": false,
          "grade_id": "cell-419a81c421892b55",
          "locked": true,
          "schema_version": 1,
          "solution": false
        },
        "id": "nOBHBA0XPFw4",
        "colab_type": "text"
      },
      "source": [
        "## Exercises\n",
        "\n",
        "Using the method illustrated above, fit the following equations to our set of points.  Use `vx`, `xy` for $x$, $y$, and `va`, `vb`, `vc`, etc for the parameters.  This is important, or the tests won't pass.\n",
        "\n",
        "$$\n",
        "y = a^x + bx + c\n",
        "$$"
      ]
    },
    {
      "cell_type": "code",
      "metadata": {
        "deletable": false,
        "nbgrader": {
          "checksum": "189c7c01abf816b030e876f085210b5a",
          "grade": false,
          "grade_id": "cell-7947daf5b2b9158c",
          "locked": false,
          "schema_version": 1,
          "solution": true
        },
        "id": "mLY5e9JMPFw4",
        "colab_type": "code",
        "colab": {
          "base_uri": "https://localhost:8080/",
          "height": 714
        },
        "outputId": "ea9100ad-7377-4385-e68e-f42000007c08"
      },
      "source": [
        "### Exercise: fit of y = a^x + bx + c\n",
        "\n",
        "vx = V(0.)\n",
        "vy = V(0.)\n",
        "va = V(1.)\n",
        "vb = V(0.)\n",
        "vc = V(0.)\n",
        "# Define below what is oy and loss. \n",
        "oy = va ** vx + vb * vx + vc\n",
        "loss = (vy - oy)*(vy - oy)\n",
        "\n",
        "fit(loss, points, [va, vb, vc])"
      ],
      "execution_count": 78,
      "outputs": [
        {
          "output_type": "stream",
          "text": [
            "Loss: 13.22031673565597\n",
            "Loss: 11.141654640359056\n",
            "Loss: 9.524337885770317\n",
            "Loss: 8.258639654229485\n",
            "Loss: 7.261959756098997\n",
            "Loss: 6.472240243458916\n",
            "Loss: 5.842777193129943\n",
            "Loss: 5.338271943130829\n",
            "Loss: 4.93188598839005\n",
            "Loss: 4.603069161367653\n",
            "Loss: 4.335966482106359\n",
            "Loss: 4.118250607697591\n",
            "Loss: 3.940264273483409\n",
            "Loss: 3.794387517804188\n",
            "Loss: 3.6745678050846706\n",
            "Loss: 3.575968472470752\n",
            "Loss: 3.494703513553483\n",
            "Loss: 3.427635753770303\n",
            "Loss: 3.3722219198375187\n",
            "Loss: 3.326392689534276\n",
            "Loss: 3.288459066630091\n",
            "Loss: 3.2570387471581963\n",
            "Loss: 3.2309978039038927\n",
            "Loss: 3.2094042107284664\n",
            "Loss: 3.191490593868335\n",
            "Loss: 3.1766242293232927\n",
            "Loss: 3.164282770875983\n",
            "Loss: 3.1540345391718048\n",
            "Loss: 3.1455224617311255\n",
            "Loss: 3.1384509501803577\n",
            "Loss: 3.1325751510442505\n",
            "Loss: 3.127692122085746\n",
            "Loss: 3.1236335760432823\n",
            "Loss: 3.120259903985071\n",
            "Loss: 3.117455245995913\n",
            "Loss: 3.1151234209610212\n",
            "Loss: 3.113184562377402\n",
            "Loss: 3.111572335343445\n",
            "Loss: 3.1102316326277197\n",
            "Loss: 3.109116666132855\n"
          ],
          "name": "stdout"
        },
        {
          "output_type": "execute_result",
          "data": {
            "text/plain": [
              "3.109116666132855"
            ]
          },
          "metadata": {
            "tags": []
          },
          "execution_count": 78
        }
      ]
    },
    {
      "cell_type": "code",
      "metadata": {
        "deletable": false,
        "editable": false,
        "nbgrader": {
          "checksum": "c3d77a2c13a27ec57ecb01a327aa416d",
          "grade": true,
          "grade_id": "cell-c3490df02b98346d",
          "locked": true,
          "points": 15,
          "schema_version": 1,
          "solution": false
        },
        "id": "hhsUAw9oPFw6",
        "colab_type": "code",
        "colab": {}
      },
      "source": [
        "### Tests for convergence of fit of y = a^x + bx + c\n"
      ],
      "execution_count": 79,
      "outputs": []
    },
    {
      "cell_type": "markdown",
      "metadata": {
        "deletable": false,
        "editable": false,
        "nbgrader": {
          "checksum": "563c810a5a0e33fd176a8c09482302bd",
          "grade": false,
          "grade_id": "cell-e73fe61cd5ddeadf",
          "locked": true,
          "schema_version": 1,
          "solution": false
        },
        "id": "juYAm0z6PFw7",
        "colab_type": "text"
      },
      "source": [
        "Now, fit: \n",
        "\n",
        "$$\n",
        "y = a \\cdot 2^x + b \\cdot 2^{-x} + c x^3 + d x^2 + e x + f\n",
        "$$\n",
        "\n",
        "Use a small enough step size, and a sufficient number of iterations, to obtain a final loss of no more than 2.5.\n",
        "\n",
        "Hint: write `vx * vx * vx`, not `vx ** 3`, etc, since as currently written, the `**` operator cannot handle a negative basis."
      ]
    },
    {
      "cell_type": "code",
      "metadata": {
        "deletable": false,
        "nbgrader": {
          "checksum": "3f01b8d68f50271c58022db4a1645992",
          "grade": false,
          "grade_id": "cell-fe4eb30e192f5203",
          "locked": false,
          "schema_version": 1,
          "solution": true
        },
        "id": "TKhDylZOPFw8",
        "colab_type": "code",
        "colab": {
          "base_uri": "https://localhost:8080/",
          "height": 1000
        },
        "outputId": "cf7a1461-7c44-4374-a764-7d05e94c3cf4"
      },
      "source": [
        "### Exercise: fit of y = a 2^x + b 2^{-x} + c x^3 + d x^2 + e x + f\n",
        "vx = V(0.)\n",
        "vy = V(0.)\n",
        "va = V(1.)\n",
        "vb = V(1.)\n",
        "vc = V(0.)\n",
        "vd = V(0.)\n",
        "ve = V(0.)\n",
        "vf = V(0.)\n",
        "# Define here what is oy and what is the loss.\n",
        "oy = va* (2**vx)+vb*(2**-vx)+vc*(vx*vx*vx)+vd*(vx*vx)+ve*vx+vf\n",
        "loss = (vy - oy)*(vy - oy)\n",
        "fit(loss, points, [va, vb, vc, vd, ve, vf], delta=0.00002, num_iterations=35000)"
      ],
      "execution_count": 80,
      "outputs": [
        {
          "output_type": "stream",
          "text": [
            "Loss: 14.47308263741464\n",
            "Loss: 13.149118394564304\n",
            "Loss: 12.052269282606229\n",
            "Loss: 11.119822299760546\n",
            "Loss: 10.31298951008421\n",
            "Loss: 9.606610841909317\n",
            "Loss: 8.983438928103547\n",
            "Loss: 8.43094997378422\n",
            "Loss: 7.939549077723112\n",
            "Loss: 7.501547014615207\n",
            "Loss: 7.110565303579981\n",
            "Loss: 6.761180362550861\n",
            "Loss: 6.448702292740461\n",
            "Loss: 6.169030495014693\n",
            "Loss: 5.918554022346396\n",
            "Loss: 5.694078743762034\n",
            "Loss: 5.492771219838277\n",
            "Loss: 5.3121135201238765\n",
            "Loss: 5.149865618176149\n",
            "Loss: 5.004033343775038\n",
            "Loss: 4.872840629612138\n",
            "Loss: 4.7547052230493065\n",
            "Loss: 4.64821728657702\n",
            "Loss: 4.552120462878798\n",
            "Loss: 4.465295075834541\n",
            "Loss: 4.386743201678053\n",
            "Loss: 4.315575388373977\n",
            "Loss: 4.2509988336505025\n",
            "Loss: 4.192306857282233\n",
            "Loss: 4.138869523607626\n",
            "Loss: 4.0901252873179\n",
            "Loss: 4.045573550136237\n",
            "Loss: 4.0047680286611715\n",
            "Loss: 3.9673108447394214\n",
            "Loss: 3.9328472595138773\n",
            "Loss: 3.901060980951364\n",
            "Loss: 3.8716699823395846\n",
            "Loss: 3.8444227760730754\n",
            "Loss: 3.819095093124992\n",
            "Loss: 3.795486924011447\n",
            "Loss: 3.7734198818726346\n",
            "Loss: 3.7527348525863715\n",
            "Loss: 3.7332899006523883\n",
            "Loss: 3.714958402991834\n",
            "Loss: 3.697627385840947\n",
            "Loss: 3.681196042621845\n",
            "Loss: 3.665574413082624\n",
            "Loss: 3.650682206145671\n",
            "Loss: 3.636447750816092\n",
            "Loss: 3.622807061206376\n",
            "Loss: 3.609703003252583\n",
            "Loss: 3.597084552050231\n",
            "Loss: 3.584906129944353\n",
            "Loss: 3.5731270165824127\n",
            "Loss: 3.5617108230965164\n",
            "Loss: 3.5506250234343013\n",
            "Loss: 3.539840536618276\n",
            "Loss: 3.5293313543907447\n",
            "Loss: 3.5190742093051206\n",
            "Loss: 3.509048278862245\n",
            "Loss: 3.4992349217697\n",
            "Loss: 3.4896174428291054\n",
            "Loss: 3.4801808833370407\n",
            "Loss: 3.4709118342242493\n",
            "Loss: 3.46179826945999\n",
            "Loss: 3.452829397517759\n",
            "Loss: 3.4439955289382973\n",
            "Loss: 3.4352879582399214\n",
            "Loss: 3.426698858616403\n",
            "Loss: 3.418221188032683\n",
            "Loss: 3.409848605479737\n",
            "Loss: 3.4015753962848683\n",
            "Loss: 3.3933964054938053\n",
            "Loss: 3.385306978447903\n",
            "Loss: 3.3773029077753236\n",
            "Loss: 3.3693803860998823\n",
            "Loss: 3.3615359638471314\n",
            "Loss: 3.3537665115946473\n",
            "Loss: 3.346069186473691\n",
            "Loss: 3.3384414021830136\n",
            "Loss: 3.3308808022232523\n",
            "Loss: 3.3233852360031104\n",
            "Loss: 3.315952737506194\n",
            "Loss: 3.308581506241419\n",
            "Loss: 3.301269890229854\n",
            "Loss: 3.2940163708078227\n",
            "Loss: 3.286819549049906\n",
            "Loss: 3.279678133636912\n",
            "Loss: 3.272590930012802\n",
            "Loss: 3.265556830691514\n",
            "Loss: 3.258574806589725\n",
            "Loss: 3.2516438992750656\n",
            "Loss: 3.2447632140312317\n",
            "Loss: 3.2379319136521105\n",
            "Loss: 3.2311492128867036\n",
            "Loss: 3.2244143734648905\n",
            "Loss: 3.217726699641839\n",
            "Loss: 3.2110855342054725\n",
            "Loss: 3.2044902548975207\n",
            "Loss: 3.19794027120394\n",
            "Loss: 3.1914350214753244\n",
            "Loss: 3.184973970342192\n",
            "Loss: 3.1785566063937387\n",
            "Loss: 3.172182440092163\n",
            "Loss: 3.165851001897576\n",
            "Loss: 3.1595618405812234\n",
            "Loss: 3.1533145217071974\n",
            "Loss: 3.1471086262648593\n",
            "Loss: 3.14094374943618\n",
            "Loss: 3.13481949948386\n",
            "Loss: 3.128735496747626\n",
            "Loss: 3.122691372737431\n",
            "Loss: 3.116686769313511\n",
            "Loss: 3.1107213379443097\n",
            "Loss: 3.1047947390342503\n",
            "Loss: 3.0989066413141826\n",
            "Loss: 3.0930567212881055\n",
            "Loss: 3.087244662730419\n",
            "Loss: 3.081470156228613\n",
            "Loss: 3.0757328987667814\n",
            "Loss: 3.070032593345904\n",
            "Loss: 3.0643689486371812\n",
            "Loss: 3.058741678665195\n",
            "Loss: 3.05315050251793\n",
            "Loss: 3.047595144081015\n",
            "Loss: 3.0420753317938614\n",
            "Loss: 3.0365907984255656\n",
            "Loss: 3.031141280868681\n",
            "Loss: 3.0257265199491656\n",
            "Loss: 3.0203462602510087\n",
            "Loss: 3.015000249954104\n",
            "Loss: 3.00968824068422\n",
            "Loss: 3.004409987373906\n",
            "Loss: 2.9991652481333535\n",
            "Loss: 2.9939537841303645\n",
            "Loss: 2.988775359478528\n",
            "Loss: 2.983629741133002\n",
            "Loss: 2.9785166987931415\n",
            "Loss: 2.9734360048114428\n",
            "Loss: 2.9683874341082706\n",
            "Loss: 2.9633707640918647\n",
            "Loss: 2.9583857745831894\n",
            "Loss: 2.9534322477452792\n",
            "Loss: 2.9485099680166758\n",
            "Loss: 2.943618722048656\n",
            "Loss: 2.9387582986459453\n",
            "Loss: 2.9339284887106793\n",
            "Loss: 2.9291290851893383\n",
            "Loss: 2.9243598830224595\n",
            "Loss: 2.9196206790969073\n",
            "Loss: 2.914911272200541\n",
            "Loss: 2.9102314629790897\n",
            "Loss: 2.9055810538951143\n",
            "Loss: 2.900959849188866\n",
            "Loss: 2.8963676548409687\n",
            "Loss: 2.8918042785367826\n",
            "Loss: 2.8872695296323214\n",
            "Loss: 2.8827632191216788\n",
            "Loss: 2.878285159605797\n",
            "Loss: 2.873835165262587\n",
            "Loss: 2.8694130518182184\n",
            "Loss: 2.8650186365195935\n",
            "Loss: 2.860651738107902\n",
            "Loss: 2.8563121767931863\n",
            "Loss: 2.851999774229885\n",
            "Loss: 2.847714353493272\n",
            "Loss: 2.8434557390567816\n",
            "Loss: 2.839223756770136\n",
            "Loss: 2.8350182338382464\n",
            "Loss: 2.8308389988008416\n",
            "Loss: 2.8266858815128217\n",
            "Loss: 2.822558713125245\n",
            "Loss: 2.8184573260669428\n",
            "Loss: 2.81438155402675\n",
            "Loss: 2.8103312319362956\n",
            "Loss: 2.8063061959533377\n",
            "Loss: 2.802306283445595\n",
            "Loss: 2.7983313329751107\n",
            "Loss: 2.794381184283042\n",
            "Loss: 2.790455678274931\n",
            "Loss: 2.7865546570063713\n",
            "Loss: 2.782677963669122\n",
            "Loss: 2.7788254425775807\n",
            "Loss: 2.7749969391556313\n",
            "Loss: 2.771192299923879\n",
            "Loss: 2.767411372487191\n",
            "Loss: 2.76365400552258\n",
            "Loss: 2.759920048767405\n",
            "Loss: 2.7562093530078737\n",
            "Loss: 2.7525217700678133\n",
            "Loss: 2.7488571527977483\n",
            "Loss: 2.74521535506421\n",
            "Loss: 2.7415962317393308\n",
            "Loss: 2.7379996386906655\n",
            "Loss: 2.7344254327712454\n",
            "Loss: 2.730873471809864\n",
            "Loss: 2.7273436146015864\n",
            "Loss: 2.7238357208984447\n",
            "Loss: 2.720349651400352\n",
            "Loss: 2.7168852677462128\n",
            "Loss: 2.71344243250519\n",
            "Loss: 2.710021009168188\n",
            "Loss: 2.706620862139481\n",
            "Loss: 2.703241856728505\n",
            "Loss: 2.699883859141837\n",
            "Loss: 2.6965467364752986\n",
            "Loss: 2.6932303567062092\n",
            "Loss: 2.6899345886858117\n",
            "Loss: 2.6866593021317913\n",
            "Loss: 2.6834043676209665\n",
            "Loss: 2.6801696565820876\n",
            "Loss: 2.676955041288754\n",
            "Loss: 2.6737603948524806\n",
            "Loss: 2.6705855912158345\n",
            "Loss: 2.66743050514573\n",
            "Loss: 2.664295012226792\n",
            "Loss: 2.661178988854857\n",
            "Loss: 2.6580823122305466\n",
            "Loss: 2.6550048603529564\n",
            "Loss: 2.6519465120134353\n",
            "Loss: 2.6489071467894534\n",
            "Loss: 2.645886645038567\n",
            "Loss: 2.642884887892451\n",
            "Loss: 2.639901757251034\n",
            "Loss: 2.636937135776714\n",
            "Loss: 2.6339909068886342\n",
            "Loss: 2.6310629547570503\n",
            "Loss: 2.6281531642977685\n",
            "Loss: 2.6252614211666514\n",
            "Loss: 2.6223876117542084\n",
            "Loss: 2.619531623180216\n",
            "Loss: 2.616693343288462\n",
            "Loss: 2.613872660641501\n",
            "Loss: 2.611069464515488\n",
            "Loss: 2.6082836448950992\n",
            "Loss: 2.60551509246847\n",
            "Loss: 2.6027636986222187\n",
            "Loss: 2.6000293554365164\n",
            "Loss: 2.597311955680215\n",
            "Loss: 2.5946113928060206\n",
            "Loss: 2.591927560945733\n",
            "Loss: 2.5892603549055146\n",
            "Loss: 2.586609670161233\n",
            "Loss: 2.583975402853836\n",
            "Loss: 2.5813574497847775\n",
            "Loss: 2.578755708411488\n",
            "Loss: 2.5761700768428963\n",
            "Loss: 2.573600453834985\n",
            "Loss: 2.5710467387864\n",
            "Loss: 2.568508831734096\n",
            "Loss: 2.565986633349015\n",
            "Loss: 2.5634800449318353\n",
            "Loss: 2.5609889684087133\n",
            "Loss: 2.5585133063271104\n",
            "Loss: 2.5560529618516212\n",
            "Loss: 2.5536078387598704\n",
            "Loss: 2.5511778414384176\n",
            "Loss: 2.5487628748787143\n",
            "Loss: 2.546362844673102\n",
            "Loss: 2.543977657010821\n",
            "Loss: 2.5416072186740752\n",
            "Loss: 2.539251437034124\n",
            "Loss: 2.5369102200474054\n",
            "Loss: 2.5345834762516812\n",
            "Loss: 2.5322711147622403\n",
            "Loss: 2.529973045268103\n",
            "Loss: 2.5276891780282797\n",
            "Loss: 2.525419423868038\n",
            "Loss: 2.523163694175225\n",
            "Loss: 2.5209219008965937\n",
            "Loss: 2.5186939565341713\n",
            "Loss: 2.5164797741416605\n",
            "Loss: 2.514279267320849\n",
            "Loss: 2.5120923502180768\n",
            "Loss: 2.5099189375206965\n",
            "Loss: 2.5077589444535846\n",
            "Loss: 2.5056122867756705\n",
            "Loss: 2.503478880776498\n",
            "Loss: 2.5013586432727934\n",
            "Loss: 2.4992514916050834\n",
            "Loss: 2.497157343634328\n",
            "Loss: 2.495076117738566\n",
            "Loss: 2.49300773280961\n",
            "Loss: 2.490952108249739\n",
            "Loss: 2.488909163968434\n",
            "Loss: 2.4868788203791294\n",
            "Loss: 2.4848609983959897\n",
            "Loss: 2.4828556194306977\n",
            "Loss: 2.480862605389293\n",
            "Loss: 2.4788818786690014\n",
            "Loss: 2.4769133621551047\n",
            "Loss: 2.4749569792178336\n",
            "Loss: 2.473012653709263\n",
            "Loss: 2.471080309960259\n",
            "Loss: 2.469159872777423\n",
            "Loss: 2.467251267440067\n",
            "Loss: 2.4653544196971953\n",
            "Loss: 2.4634692557645446\n",
            "Loss: 2.4615957023215946\n",
            "Loss: 2.459733686508636\n",
            "Loss: 2.457883135923834\n",
            "Loss: 2.456043978620342\n",
            "Loss: 2.454216143103398\n",
            "Loss: 2.4523995583274694\n",
            "Loss: 2.450594153693392\n",
            "Loss: 2.448799859045571\n",
            "Loss: 2.4470166046691357\n",
            "Loss: 2.4452443212871766\n",
            "Loss: 2.44348294005796\n",
            "Loss: 2.4417323925721846\n",
            "Loss: 2.4399926108502377\n",
            "Loss: 2.4382635273394837\n",
            "Loss: 2.436545074911562\n",
            "Loss: 2.4348371868597107\n",
            "Loss: 2.4331397968961\n",
            "Loss: 2.431452839149183\n",
            "Loss: 2.429776248161077\n",
            "Loss: 2.428109958884943\n",
            "Loss: 2.42645390668239\n",
            "Loss: 2.4248080273209087\n",
            "Loss: 2.4231722569713052\n",
            "Loss: 2.4215465322051495\n",
            "Loss: 2.4199307899922635\n",
            "Loss: 2.4183249676981946\n",
            "Loss: 2.4167290030817346\n",
            "Loss: 2.4151428342924297\n",
            "Loss: 2.4135663998681247\n",
            "Loss: 2.4119996387325218\n",
            "Loss: 2.4104424901927324\n",
            "Loss: 2.4088948939368815\n",
            "Loss: 2.4073567900316952\n",
            "Loss: 2.4058281189201236\n",
            "Loss: 2.404308821418966\n",
            "Loss: 2.4027988387165267\n",
            "Loss: 2.401298112370269\n",
            "Loss: 2.3998065843044922\n",
            "Loss: 2.3983241968080233\n",
            "Loss: 2.396850892531929\n",
            "Loss: 2.3953866144872307\n",
            "Loss: 2.3939313060426417\n",
            "Loss: 2.392484910922314\n",
            "Loss: 2.391047373203612\n",
            "Loss: 2.38961863731488\n",
            "Loss: 2.3881986480332444\n",
            "Loss: 2.386787350482414\n",
            "Loss: 2.385384690130498\n",
            "Loss: 2.383990612787859\n",
            "Loss: 2.3826050646049337\n",
            "Loss: 2.38122799207012\n",
            "Loss: 2.379859342007634\n"
          ],
          "name": "stdout"
        },
        {
          "output_type": "execute_result",
          "data": {
            "text/plain": [
              "2.379859342007634"
            ]
          },
          "metadata": {
            "tags": []
          },
          "execution_count": 80
        }
      ]
    },
    {
      "cell_type": "code",
      "metadata": {
        "deletable": false,
        "editable": false,
        "nbgrader": {
          "checksum": "07abf8ded4d39d4d00c30e2313f83e8e",
          "grade": true,
          "grade_id": "cell-6699821f3ae13756",
          "locked": true,
          "points": 15,
          "schema_version": 1,
          "solution": false
        },
        "id": "pOMDCxfuPFw-",
        "colab_type": "code",
        "colab": {}
      },
      "source": [
        "### Tests for fit of  y = a 2^x + b 2^{-x} + c x^3 + d x^2 + e x + f\n"
      ],
      "execution_count": 81,
      "outputs": []
    },
    {
      "cell_type": "code",
      "metadata": {
        "deletable": false,
        "editable": false,
        "nbgrader": {
          "checksum": "831de0d8b55e8de3d545e906608eba07",
          "grade": false,
          "grade_id": "cell-81ed3f93e76881c1",
          "locked": true,
          "schema_version": 1,
          "solution": false
        },
        "id": "BgZ-nL40PFxA",
        "colab_type": "code",
        "colab": {
          "base_uri": "https://localhost:8080/",
          "height": 231
        },
        "outputId": "6c2239bc-006f-4411-d158-b80d4a860d2d"
      },
      "source": [
        "plot_points_and_y(points, vx, oy)"
      ],
      "execution_count": 82,
      "outputs": [
        {
          "output_type": "display_data",
          "data": {
            "image/png": "[encoded data removed]",
            "text/plain": [
              "<Figure size 576x216 with 1 Axes>"
            ]
          },
          "metadata": {
            "tags": [],
            "needs_background": "light"
          }
        }
      ]
    }
  ]
}