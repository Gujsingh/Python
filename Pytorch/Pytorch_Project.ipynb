{
  "nbformat": 4,
  "nbformat_minor": 0,
  "metadata": {
    "accelerator": "GPU",
    "colab": {
      "name": "Hw 8.ipynb",
      "provenance": [],
      "collapsed_sections": []
    },
    "kernelspec": {
      "display_name": "Python 3",
      "language": "python",
      "name": "python3"
    },
    "language_info": {
      "codemirror_mode": {
        "name": "ipython",
        "version": 3
      },
      "file_extension": ".py",
      "mimetype": "text/x-python",
      "name": "python",
      "nbconvert_exporter": "python",
      "pygments_lexer": "ipython3",
      "version": "3.7.3"
    },
    "widgets": {
      "application/vnd.jupyter.widget-state+json": {
        "bcbcf921ac034961b395037a601af87e": {
          "model_module": "@jupyter-widgets/controls",
          "model_name": "HBoxModel",
          "state": {
            "_view_name": "HBoxView",
            "_dom_classes": [],
            "_model_name": "HBoxModel",
            "_view_module": "@jupyter-widgets/controls",
            "_model_module_version": "1.5.0",
            "_view_count": null,
            "_view_module_version": "1.5.0",
            "box_style": "",
            "layout": "IPY_MODEL_b5ae63d682a84768904d4ac5c61ba71b",
            "_model_module": "@jupyter-widgets/controls",
            "children": [
              "IPY_MODEL_d27567a2519e47dfbd9e6a60a0e17c41",
              "IPY_MODEL_1696724ef60f45d7ae81ecf1f7591567"
            ]
          }
        },
        "b5ae63d682a84768904d4ac5c61ba71b": {
          "model_module": "@jupyter-widgets/base",
          "model_name": "LayoutModel",
          "state": {
            "_view_name": "LayoutView",
            "grid_template_rows": null,
            "right": null,
            "justify_content": null,
            "_view_module": "@jupyter-widgets/base",
            "overflow": null,
            "_model_module_version": "1.2.0",
            "_view_count": null,
            "flex_flow": null,
            "width": null,
            "min_width": null,
            "border": null,
            "align_items": null,
            "bottom": null,
            "_model_module": "@jupyter-widgets/base",
            "top": null,
            "grid_column": null,
            "overflow_y": null,
            "overflow_x": null,
            "grid_auto_flow": null,
            "grid_area": null,
            "grid_template_columns": null,
            "flex": null,
            "_model_name": "LayoutModel",
            "justify_items": null,
            "grid_row": null,
            "max_height": null,
            "align_content": null,
            "visibility": null,
            "align_self": null,
            "height": null,
            "min_height": null,
            "padding": null,
            "grid_auto_rows": null,
            "grid_gap": null,
            "max_width": null,
            "order": null,
            "_view_module_version": "1.2.0",
            "grid_template_areas": null,
            "object_position": null,
            "object_fit": null,
            "grid_auto_columns": null,
            "margin": null,
            "display": null,
            "left": null
          }
        },
        "d27567a2519e47dfbd9e6a60a0e17c41": {
          "model_module": "@jupyter-widgets/controls",
          "model_name": "FloatProgressModel",
          "state": {
            "_view_name": "ProgressView",
            "style": "IPY_MODEL_f3f9ac05025245ea8613a5f92105aead",
            "_dom_classes": [],
            "description": "",
            "_model_name": "FloatProgressModel",
            "bar_style": "success",
            "max": 1,
            "_view_module": "@jupyter-widgets/controls",
            "_model_module_version": "1.5.0",
            "value": 1,
            "_view_count": null,
            "_view_module_version": "1.5.0",
            "orientation": "horizontal",
            "min": 0,
            "description_tooltip": null,
            "_model_module": "@jupyter-widgets/controls",
            "layout": "IPY_MODEL_760996f876f6447bb1dd0bb9ea503e70"
          }
        },
        "1696724ef60f45d7ae81ecf1f7591567": {
          "model_module": "@jupyter-widgets/controls",
          "model_name": "HTMLModel",
          "state": {
            "_view_name": "HTMLView",
            "style": "IPY_MODEL_3da71b94bb1b48bfb863eb7b100982ad",
            "_dom_classes": [],
            "description": "",
            "_model_name": "HTMLModel",
            "placeholder": "​",
            "_view_module": "@jupyter-widgets/controls",
            "_model_module_version": "1.5.0",
            "value": " 9920512/? [00:06&lt;00:00, 1484391.77it/s]",
            "_view_count": null,
            "_view_module_version": "1.5.0",
            "description_tooltip": null,
            "_model_module": "@jupyter-widgets/controls",
            "layout": "IPY_MODEL_abfee36ce78c4115b903603406ca82d9"
          }
        },
        "f3f9ac05025245ea8613a5f92105aead": {
          "model_module": "@jupyter-widgets/controls",
          "model_name": "ProgressStyleModel",
          "state": {
            "_view_name": "StyleView",
            "_model_name": "ProgressStyleModel",
            "description_width": "initial",
            "_view_module": "@jupyter-widgets/base",
            "_model_module_version": "1.5.0",
            "_view_count": null,
            "_view_module_version": "1.2.0",
            "bar_color": null,
            "_model_module": "@jupyter-widgets/controls"
          }
        },
        "760996f876f6447bb1dd0bb9ea503e70": {
          "model_module": "@jupyter-widgets/base",
          "model_name": "LayoutModel",
          "state": {
            "_view_name": "LayoutView",
            "grid_template_rows": null,
            "right": null,
            "justify_content": null,
            "_view_module": "@jupyter-widgets/base",
            "overflow": null,
            "_model_module_version": "1.2.0",
            "_view_count": null,
            "flex_flow": null,
            "width": null,
            "min_width": null,
            "border": null,
            "align_items": null,
            "bottom": null,
            "_model_module": "@jupyter-widgets/base",
            "top": null,
            "grid_column": null,
            "overflow_y": null,
            "overflow_x": null,
            "grid_auto_flow": null,
            "grid_area": null,
            "grid_template_columns": null,
            "flex": null,
            "_model_name": "LayoutModel",
            "justify_items": null,
            "grid_row": null,
            "max_height": null,
            "align_content": null,
            "visibility": null,
            "align_self": null,
            "height": null,
            "min_height": null,
            "padding": null,
            "grid_auto_rows": null,
            "grid_gap": null,
            "max_width": null,
            "order": null,
            "_view_module_version": "1.2.0",
            "grid_template_areas": null,
            "object_position": null,
            "object_fit": null,
            "grid_auto_columns": null,
            "margin": null,
            "display": null,
            "left": null
          }
        },
        "3da71b94bb1b48bfb863eb7b100982ad": {
          "model_module": "@jupyter-widgets/controls",
          "model_name": "DescriptionStyleModel",
          "state": {
            "_view_name": "StyleView",
            "_model_name": "DescriptionStyleModel",
            "description_width": "",
            "_view_module": "@jupyter-widgets/base",
            "_model_module_version": "1.5.0",
            "_view_count": null,
            "_view_module_version": "1.2.0",
            "_model_module": "@jupyter-widgets/controls"
          }
        },
        "abfee36ce78c4115b903603406ca82d9": {
          "model_module": "@jupyter-widgets/base",
          "model_name": "LayoutModel",
          "state": {
            "_view_name": "LayoutView",
            "grid_template_rows": null,
            "right": null,
            "justify_content": null,
            "_view_module": "@jupyter-widgets/base",
            "overflow": null,
            "_model_module_version": "1.2.0",
            "_view_count": null,
            "flex_flow": null,
            "width": null,
            "min_width": null,
            "border": null,
            "align_items": null,
            "bottom": null,
            "_model_module": "@jupyter-widgets/base",
            "top": null,
            "grid_column": null,
            "overflow_y": null,
            "overflow_x": null,
            "grid_auto_flow": null,
            "grid_area": null,
            "grid_template_columns": null,
            "flex": null,
            "_model_name": "LayoutModel",
            "justify_items": null,
            "grid_row": null,
            "max_height": null,
            "align_content": null,
            "visibility": null,
            "align_self": null,
            "height": null,
            "min_height": null,
            "padding": null,
            "grid_auto_rows": null,
            "grid_gap": null,
            "max_width": null,
            "order": null,
            "_view_module_version": "1.2.0",
            "grid_template_areas": null,
            "object_position": null,
            "object_fit": null,
            "grid_auto_columns": null,
            "margin": null,
            "display": null,
            "left": null
          }
        },
        "c4179f2645ff4e918fe88f2e386eee04": {
          "model_module": "@jupyter-widgets/controls",
          "model_name": "HBoxModel",
          "state": {
            "_view_name": "HBoxView",
            "_dom_classes": [],
            "_model_name": "HBoxModel",
            "_view_module": "@jupyter-widgets/controls",
            "_model_module_version": "1.5.0",
            "_view_count": null,
            "_view_module_version": "1.5.0",
            "box_style": "",
            "layout": "IPY_MODEL_98065278f00844bdbbc07f4356f0116f",
            "_model_module": "@jupyter-widgets/controls",
            "children": [
              "IPY_MODEL_9f59f41f55a24f568de74b1e4397338d",
              "IPY_MODEL_488a4aace6e748998ef13bff37995d5b"
            ]
          }
        },
        "98065278f00844bdbbc07f4356f0116f": {
          "model_module": "@jupyter-widgets/base",
          "model_name": "LayoutModel",
          "state": {
            "_view_name": "LayoutView",
            "grid_template_rows": null,
            "right": null,
            "justify_content": null,
            "_view_module": "@jupyter-widgets/base",
            "overflow": null,
            "_model_module_version": "1.2.0",
            "_view_count": null,
            "flex_flow": null,
            "width": null,
            "min_width": null,
            "border": null,
            "align_items": null,
            "bottom": null,
            "_model_module": "@jupyter-widgets/base",
            "top": null,
            "grid_column": null,
            "overflow_y": null,
            "overflow_x": null,
            "grid_auto_flow": null,
            "grid_area": null,
            "grid_template_columns": null,
            "flex": null,
            "_model_name": "LayoutModel",
            "justify_items": null,
            "grid_row": null,
            "max_height": null,
            "align_content": null,
            "visibility": null,
            "align_self": null,
            "height": null,
            "min_height": null,
            "padding": null,
            "grid_auto_rows": null,
            "grid_gap": null,
            "max_width": null,
            "order": null,
            "_view_module_version": "1.2.0",
            "grid_template_areas": null,
            "object_position": null,
            "object_fit": null,
            "grid_auto_columns": null,
            "margin": null,
            "display": null,
            "left": null
          }
        },
        "9f59f41f55a24f568de74b1e4397338d": {
          "model_module": "@jupyter-widgets/controls",
          "model_name": "FloatProgressModel",
          "state": {
            "_view_name": "ProgressView",
            "style": "IPY_MODEL_1bf0f218fb2d42c298370532b0a8feae",
            "_dom_classes": [],
            "description": "",
            "_model_name": "FloatProgressModel",
            "bar_style": "success",
            "max": 1,
            "_view_module": "@jupyter-widgets/controls",
            "_model_module_version": "1.5.0",
            "value": 1,
            "_view_count": null,
            "_view_module_version": "1.5.0",
            "orientation": "horizontal",
            "min": 0,
            "description_tooltip": null,
            "_model_module": "@jupyter-widgets/controls",
            "layout": "IPY_MODEL_ad18e4ebaf6746ee9c7f59d1a0d98fa2"
          }
        },
        "488a4aace6e748998ef13bff37995d5b": {
          "model_module": "@jupyter-widgets/controls",
          "model_name": "HTMLModel",
          "state": {
            "_view_name": "HTMLView",
            "style": "IPY_MODEL_a5a66a45e97f40cbb005d34619c092f4",
            "_dom_classes": [],
            "description": "",
            "_model_name": "HTMLModel",
            "placeholder": "​",
            "_view_module": "@jupyter-widgets/controls",
            "_model_module_version": "1.5.0",
            "value": " 32768/? [00:01&lt;00:00, 21508.11it/s]",
            "_view_count": null,
            "_view_module_version": "1.5.0",
            "description_tooltip": null,
            "_model_module": "@jupyter-widgets/controls",
            "layout": "IPY_MODEL_b64f0a0268f846a8b716454a10f0574a"
          }
        },
        "1bf0f218fb2d42c298370532b0a8feae": {
          "model_module": "@jupyter-widgets/controls",
          "model_name": "ProgressStyleModel",
          "state": {
            "_view_name": "StyleView",
            "_model_name": "ProgressStyleModel",
            "description_width": "initial",
            "_view_module": "@jupyter-widgets/base",
            "_model_module_version": "1.5.0",
            "_view_count": null,
            "_view_module_version": "1.2.0",
            "bar_color": null,
            "_model_module": "@jupyter-widgets/controls"
          }
        },
        "ad18e4ebaf6746ee9c7f59d1a0d98fa2": {
          "model_module": "@jupyter-widgets/base",
          "model_name": "LayoutModel",
          "state": {
            "_view_name": "LayoutView",
            "grid_template_rows": null,
            "right": null,
            "justify_content": null,
            "_view_module": "@jupyter-widgets/base",
            "overflow": null,
            "_model_module_version": "1.2.0",
            "_view_count": null,
            "flex_flow": null,
            "width": null,
            "min_width": null,
            "border": null,
            "align_items": null,
            "bottom": null,
            "_model_module": "@jupyter-widgets/base",
            "top": null,
            "grid_column": null,
            "overflow_y": null,
            "overflow_x": null,
            "grid_auto_flow": null,
            "grid_area": null,
            "grid_template_columns": null,
            "flex": null,
            "_model_name": "LayoutModel",
            "justify_items": null,
            "grid_row": null,
            "max_height": null,
            "align_content": null,
            "visibility": null,
            "align_self": null,
            "height": null,
            "min_height": null,
            "padding": null,
            "grid_auto_rows": null,
            "grid_gap": null,
            "max_width": null,
            "order": null,
            "_view_module_version": "1.2.0",
            "grid_template_areas": null,
            "object_position": null,
            "object_fit": null,
            "grid_auto_columns": null,
            "margin": null,
            "display": null,
            "left": null
          }
        },
        "a5a66a45e97f40cbb005d34619c092f4": {
          "model_module": "@jupyter-widgets/controls",
          "model_name": "DescriptionStyleModel",
          "state": {
            "_view_name": "StyleView",
            "_model_name": "DescriptionStyleModel",
            "description_width": "",
            "_view_module": "@jupyter-widgets/base",
            "_model_module_version": "1.5.0",
            "_view_count": null,
            "_view_module_version": "1.2.0",
            "_model_module": "@jupyter-widgets/controls"
          }
        },
        "b64f0a0268f846a8b716454a10f0574a": {
          "model_module": "@jupyter-widgets/base",
          "model_name": "LayoutModel",
          "state": {
            "_view_name": "LayoutView",
            "grid_template_rows": null,
            "right": null,
            "justify_content": null,
            "_view_module": "@jupyter-widgets/base",
            "overflow": null,
            "_model_module_version": "1.2.0",
            "_view_count": null,
            "flex_flow": null,
            "width": null,
            "min_width": null,
            "border": null,
            "align_items": null,
            "bottom": null,
            "_model_module": "@jupyter-widgets/base",
            "top": null,
            "grid_column": null,
            "overflow_y": null,
            "overflow_x": null,
            "grid_auto_flow": null,
            "grid_area": null,
            "grid_template_columns": null,
            "flex": null,
            "_model_name": "LayoutModel",
            "justify_items": null,
            "grid_row": null,
            "max_height": null,
            "align_content": null,
            "visibility": null,
            "align_self": null,
            "height": null,
            "min_height": null,
            "padding": null,
            "grid_auto_rows": null,
            "grid_gap": null,
            "max_width": null,
            "order": null,
            "_view_module_version": "1.2.0",
            "grid_template_areas": null,
            "object_position": null,
            "object_fit": null,
            "grid_auto_columns": null,
            "margin": null,
            "display": null,
            "left": null
          }
        },
        "ca640b2b02c34ad18ae7abf01d958abc": {
          "model_module": "@jupyter-widgets/controls",
          "model_name": "HBoxModel",
          "state": {
            "_view_name": "HBoxView",
            "_dom_classes": [],
            "_model_name": "HBoxModel",
            "_view_module": "@jupyter-widgets/controls",
            "_model_module_version": "1.5.0",
            "_view_count": null,
            "_view_module_version": "1.5.0",
            "box_style": "",
            "layout": "IPY_MODEL_f70efc9e44e946e78a61c5d1bc45c10c",
            "_model_module": "@jupyter-widgets/controls",
            "children": [
              "IPY_MODEL_a5ac01f4dac64e90a2da0b7491fefe10",
              "IPY_MODEL_3601d24d7e0b40ffa05cecb3034394d6"
            ]
          }
        },
        "f70efc9e44e946e78a61c5d1bc45c10c": {
          "model_module": "@jupyter-widgets/base",
          "model_name": "LayoutModel",
          "state": {
            "_view_name": "LayoutView",
            "grid_template_rows": null,
            "right": null,
            "justify_content": null,
            "_view_module": "@jupyter-widgets/base",
            "overflow": null,
            "_model_module_version": "1.2.0",
            "_view_count": null,
            "flex_flow": null,
            "width": null,
            "min_width": null,
            "border": null,
            "align_items": null,
            "bottom": null,
            "_model_module": "@jupyter-widgets/base",
            "top": null,
            "grid_column": null,
            "overflow_y": null,
            "overflow_x": null,
            "grid_auto_flow": null,
            "grid_area": null,
            "grid_template_columns": null,
            "flex": null,
            "_model_name": "LayoutModel",
            "justify_items": null,
            "grid_row": null,
            "max_height": null,
            "align_content": null,
            "visibility": null,
            "align_self": null,
            "height": null,
            "min_height": null,
            "padding": null,
            "grid_auto_rows": null,
            "grid_gap": null,
            "max_width": null,
            "order": null,
            "_view_module_version": "1.2.0",
            "grid_template_areas": null,
            "object_position": null,
            "object_fit": null,
            "grid_auto_columns": null,
            "margin": null,
            "display": null,
            "left": null
          }
        },
        "a5ac01f4dac64e90a2da0b7491fefe10": {
          "model_module": "@jupyter-widgets/controls",
          "model_name": "FloatProgressModel",
          "state": {
            "_view_name": "ProgressView",
            "style": "IPY_MODEL_bb25fc6eeaba4fe5a0a25167c7d080ac",
            "_dom_classes": [],
            "description": "",
            "_model_name": "FloatProgressModel",
            "bar_style": "success",
            "max": 1,
            "_view_module": "@jupyter-widgets/controls",
            "_model_module_version": "1.5.0",
            "value": 1,
            "_view_count": null,
            "_view_module_version": "1.5.0",
            "orientation": "horizontal",
            "min": 0,
            "description_tooltip": null,
            "_model_module": "@jupyter-widgets/controls",
            "layout": "IPY_MODEL_a5c0f250f7b745bca4beb79aca40fe6f"
          }
        },
        "3601d24d7e0b40ffa05cecb3034394d6": {
          "model_module": "@jupyter-widgets/controls",
          "model_name": "HTMLModel",
          "state": {
            "_view_name": "HTMLView",
            "style": "IPY_MODEL_d6366c314dfe4a3087f52688a4a2939e",
            "_dom_classes": [],
            "description": "",
            "_model_name": "HTMLModel",
            "placeholder": "​",
            "_view_module": "@jupyter-widgets/controls",
            "_model_module_version": "1.5.0",
            "value": " 1654784/? [00:01&lt;00:00, 1373846.53it/s]",
            "_view_count": null,
            "_view_module_version": "1.5.0",
            "description_tooltip": null,
            "_model_module": "@jupyter-widgets/controls",
            "layout": "IPY_MODEL_9aeca25d9da74c948a103cb0f1346ff3"
          }
        },
        "bb25fc6eeaba4fe5a0a25167c7d080ac": {
          "model_module": "@jupyter-widgets/controls",
          "model_name": "ProgressStyleModel",
          "state": {
            "_view_name": "StyleView",
            "_model_name": "ProgressStyleModel",
            "description_width": "initial",
            "_view_module": "@jupyter-widgets/base",
            "_model_module_version": "1.5.0",
            "_view_count": null,
            "_view_module_version": "1.2.0",
            "bar_color": null,
            "_model_module": "@jupyter-widgets/controls"
          }
        },
        "a5c0f250f7b745bca4beb79aca40fe6f": {
          "model_module": "@jupyter-widgets/base",
          "model_name": "LayoutModel",
          "state": {
            "_view_name": "LayoutView",
            "grid_template_rows": null,
            "right": null,
            "justify_content": null,
            "_view_module": "@jupyter-widgets/base",
            "overflow": null,
            "_model_module_version": "1.2.0",
            "_view_count": null,
            "flex_flow": null,
            "width": null,
            "min_width": null,
            "border": null,
            "align_items": null,
            "bottom": null,
            "_model_module": "@jupyter-widgets/base",
            "top": null,
            "grid_column": null,
            "overflow_y": null,
            "overflow_x": null,
            "grid_auto_flow": null,
            "grid_area": null,
            "grid_template_columns": null,
            "flex": null,
            "_model_name": "LayoutModel",
            "justify_items": null,
            "grid_row": null,
            "max_height": null,
            "align_content": null,
            "visibility": null,
            "align_self": null,
            "height": null,
            "min_height": null,
            "padding": null,
            "grid_auto_rows": null,
            "grid_gap": null,
            "max_width": null,
            "order": null,
            "_view_module_version": "1.2.0",
            "grid_template_areas": null,
            "object_position": null,
            "object_fit": null,
            "grid_auto_columns": null,
            "margin": null,
            "display": null,
            "left": null
          }
        },
        "d6366c314dfe4a3087f52688a4a2939e": {
          "model_module": "@jupyter-widgets/controls",
          "model_name": "DescriptionStyleModel",
          "state": {
            "_view_name": "StyleView",
            "_model_name": "DescriptionStyleModel",
            "description_width": "",
            "_view_module": "@jupyter-widgets/base",
            "_model_module_version": "1.5.0",
            "_view_count": null,
            "_view_module_version": "1.2.0",
            "_model_module": "@jupyter-widgets/controls"
          }
        },
        "9aeca25d9da74c948a103cb0f1346ff3": {
          "model_module": "@jupyter-widgets/base",
          "model_name": "LayoutModel",
          "state": {
            "_view_name": "LayoutView",
            "grid_template_rows": null,
            "right": null,
            "justify_content": null,
            "_view_module": "@jupyter-widgets/base",
            "overflow": null,
            "_model_module_version": "1.2.0",
            "_view_count": null,
            "flex_flow": null,
            "width": null,
            "min_width": null,
            "border": null,
            "align_items": null,
            "bottom": null,
            "_model_module": "@jupyter-widgets/base",
            "top": null,
            "grid_column": null,
            "overflow_y": null,
            "overflow_x": null,
            "grid_auto_flow": null,
            "grid_area": null,
            "grid_template_columns": null,
            "flex": null,
            "_model_name": "LayoutModel",
            "justify_items": null,
            "grid_row": null,
            "max_height": null,
            "align_content": null,
            "visibility": null,
            "align_self": null,
            "height": null,
            "min_height": null,
            "padding": null,
            "grid_auto_rows": null,
            "grid_gap": null,
            "max_width": null,
            "order": null,
            "_view_module_version": "1.2.0",
            "grid_template_areas": null,
            "object_position": null,
            "object_fit": null,
            "grid_auto_columns": null,
            "margin": null,
            "display": null,
            "left": null
          }
        },
        "e9db4862156545baa0af404fda523a7f": {
          "model_module": "@jupyter-widgets/controls",
          "model_name": "HBoxModel",
          "state": {
            "_view_name": "HBoxView",
            "_dom_classes": [],
            "_model_name": "HBoxModel",
            "_view_module": "@jupyter-widgets/controls",
            "_model_module_version": "1.5.0",
            "_view_count": null,
            "_view_module_version": "1.5.0",
            "box_style": "",
            "layout": "IPY_MODEL_cfbfb852deac437c8bce658e95a7dcb5",
            "_model_module": "@jupyter-widgets/controls",
            "children": [
              "IPY_MODEL_b14639cb32f242d0a6660ff31497d98e",
              "IPY_MODEL_21aa08908569456a9b6c4f1a4a61f819"
            ]
          }
        },
        "cfbfb852deac437c8bce658e95a7dcb5": {
          "model_module": "@jupyter-widgets/base",
          "model_name": "LayoutModel",
          "state": {
            "_view_name": "LayoutView",
            "grid_template_rows": null,
            "right": null,
            "justify_content": null,
            "_view_module": "@jupyter-widgets/base",
            "overflow": null,
            "_model_module_version": "1.2.0",
            "_view_count": null,
            "flex_flow": null,
            "width": null,
            "min_width": null,
            "border": null,
            "align_items": null,
            "bottom": null,
            "_model_module": "@jupyter-widgets/base",
            "top": null,
            "grid_column": null,
            "overflow_y": null,
            "overflow_x": null,
            "grid_auto_flow": null,
            "grid_area": null,
            "grid_template_columns": null,
            "flex": null,
            "_model_name": "LayoutModel",
            "justify_items": null,
            "grid_row": null,
            "max_height": null,
            "align_content": null,
            "visibility": null,
            "align_self": null,
            "height": null,
            "min_height": null,
            "padding": null,
            "grid_auto_rows": null,
            "grid_gap": null,
            "max_width": null,
            "order": null,
            "_view_module_version": "1.2.0",
            "grid_template_areas": null,
            "object_position": null,
            "object_fit": null,
            "grid_auto_columns": null,
            "margin": null,
            "display": null,
            "left": null
          }
        },
        "b14639cb32f242d0a6660ff31497d98e": {
          "model_module": "@jupyter-widgets/controls",
          "model_name": "FloatProgressModel",
          "state": {
            "_view_name": "ProgressView",
            "style": "IPY_MODEL_e0a16c58f68f4cc8bb540bd613d52396",
            "_dom_classes": [],
            "description": "",
            "_model_name": "FloatProgressModel",
            "bar_style": "success",
            "max": 1,
            "_view_module": "@jupyter-widgets/controls",
            "_model_module_version": "1.5.0",
            "value": 1,
            "_view_count": null,
            "_view_module_version": "1.5.0",
            "orientation": "horizontal",
            "min": 0,
            "description_tooltip": null,
            "_model_module": "@jupyter-widgets/controls",
            "layout": "IPY_MODEL_b6186cf4ecb0403aa09078a10b99c85e"
          }
        },
        "21aa08908569456a9b6c4f1a4a61f819": {
          "model_module": "@jupyter-widgets/controls",
          "model_name": "HTMLModel",
          "state": {
            "_view_name": "HTMLView",
            "style": "IPY_MODEL_c563085229b84fec833a0ba68358835d",
            "_dom_classes": [],
            "description": "",
            "_model_name": "HTMLModel",
            "placeholder": "​",
            "_view_module": "@jupyter-widgets/controls",
            "_model_module_version": "1.5.0",
            "value": " 8192/? [00:00&lt;00:00, 22445.51it/s]",
            "_view_count": null,
            "_view_module_version": "1.5.0",
            "description_tooltip": null,
            "_model_module": "@jupyter-widgets/controls",
            "layout": "IPY_MODEL_7979914d3df6461ca3df056c139e58b1"
          }
        },
        "e0a16c58f68f4cc8bb540bd613d52396": {
          "model_module": "@jupyter-widgets/controls",
          "model_name": "ProgressStyleModel",
          "state": {
            "_view_name": "StyleView",
            "_model_name": "ProgressStyleModel",
            "description_width": "initial",
            "_view_module": "@jupyter-widgets/base",
            "_model_module_version": "1.5.0",
            "_view_count": null,
            "_view_module_version": "1.2.0",
            "bar_color": null,
            "_model_module": "@jupyter-widgets/controls"
          }
        },
        "b6186cf4ecb0403aa09078a10b99c85e": {
          "model_module": "@jupyter-widgets/base",
          "model_name": "LayoutModel",
          "state": {
            "_view_name": "LayoutView",
            "grid_template_rows": null,
            "right": null,
            "justify_content": null,
            "_view_module": "@jupyter-widgets/base",
            "overflow": null,
            "_model_module_version": "1.2.0",
            "_view_count": null,
            "flex_flow": null,
            "width": null,
            "min_width": null,
            "border": null,
            "align_items": null,
            "bottom": null,
            "_model_module": "@jupyter-widgets/base",
            "top": null,
            "grid_column": null,
            "overflow_y": null,
            "overflow_x": null,
            "grid_auto_flow": null,
            "grid_area": null,
            "grid_template_columns": null,
            "flex": null,
            "_model_name": "LayoutModel",
            "justify_items": null,
            "grid_row": null,
            "max_height": null,
            "align_content": null,
            "visibility": null,
            "align_self": null,
            "height": null,
            "min_height": null,
            "padding": null,
            "grid_auto_rows": null,
            "grid_gap": null,
            "max_width": null,
            "order": null,
            "_view_module_version": "1.2.0",
            "grid_template_areas": null,
            "object_position": null,
            "object_fit": null,
            "grid_auto_columns": null,
            "margin": null,
            "display": null,
            "left": null
          }
        },
        "c563085229b84fec833a0ba68358835d": {
          "model_module": "@jupyter-widgets/controls",
          "model_name": "DescriptionStyleModel",
          "state": {
            "_view_name": "StyleView",
            "_model_name": "DescriptionStyleModel",
            "description_width": "",
            "_view_module": "@jupyter-widgets/base",
            "_model_module_version": "1.5.0",
            "_view_count": null,
            "_view_module_version": "1.2.0",
            "_model_module": "@jupyter-widgets/controls"
          }
        },
        "7979914d3df6461ca3df056c139e58b1": {
          "model_module": "@jupyter-widgets/base",
          "model_name": "LayoutModel",
          "state": {
            "_view_name": "LayoutView",
            "grid_template_rows": null,
            "right": null,
            "justify_content": null,
            "_view_module": "@jupyter-widgets/base",
            "overflow": null,
            "_model_module_version": "1.2.0",
            "_view_count": null,
            "flex_flow": null,
            "width": null,
            "min_width": null,
            "border": null,
            "align_items": null,
            "bottom": null,
            "_model_module": "@jupyter-widgets/base",
            "top": null,
            "grid_column": null,
            "overflow_y": null,
            "overflow_x": null,
            "grid_auto_flow": null,
            "grid_area": null,
            "grid_template_columns": null,
            "flex": null,
            "_model_name": "LayoutModel",
            "justify_items": null,
            "grid_row": null,
            "max_height": null,
            "align_content": null,
            "visibility": null,
            "align_self": null,
            "height": null,
            "min_height": null,
            "padding": null,
            "grid_auto_rows": null,
            "grid_gap": null,
            "max_width": null,
            "order": null,
            "_view_module_version": "1.2.0",
            "grid_template_areas": null,
            "object_position": null,
            "object_fit": null,
            "grid_auto_columns": null,
            "margin": null,
            "display": null,
            "left": null
          }
        }
      }
    }
  },
  "cells": [
    {
      "cell_type": "code",
      "metadata": {
        "deletable": false,
        "editable": false,
        "nbgrader": {
          "checksum": "a4f3da006c17e6541593f106c0ed1275",
          "grade": false,
          "grade_id": "cell-d8817f92225ae553",
          "locked": true,
          "schema_version": 1,
          "solution": false
        },
        "id": "OeEbGCF-Q1Jj",
        "colab_type": "code",
        "colab": {}
      },
      "source": [
        "# Change this to True, or else, this notebook will not do anything interesting.\n",
        "colab = True"
      ],
      "execution_count": 1,
      "outputs": []
    },
    {
      "cell_type": "markdown",
      "metadata": {
        "deletable": false,
        "editable": false,
        "nbgrader": {
          "checksum": "6a9a5bcac3f2bfc4acdd7f3471904f80",
          "grade": false,
          "grade_id": "cell-7662014271ee1fa5",
          "locked": true,
          "schema_version": 1,
          "solution": false
        },
        "id": "yeK8FNpJQ1Jm",
        "colab_type": "text"
      },
      "source": [
        "In the previous chapters, we have implemented a machine-learning framework from scratch, on the basis of a symbolic representation for expressions, and automated gradient computation.  It is now time for us to experiment with a serious machine-learning framework: we will tackle the problem of image recognition using [PyTorch](https://pytorch.org).  We will see that PyTorch works in a way that is fundamentally similar to our homegrown framework.  On the other hand, PyTorch is vastly more sophisticated in a number of aspects, including: \n",
        "\n",
        "* _Tensors._ Our variables represented one floating point number.  Many machine-learning problems have as input vectors or matrices of numbers; for example, an image is commonly modeled as a 3D-matrix of floating point numbers with dimensions $w \\times h \\times c$, where $w$ and $h$ are the image width and height, and where $c$ is the number of color channels ($c=1$ for black and white images, and $c=3$ for RGB color images).  PyTorch's unit of processing consists in [tensors](https://pytorch.org/docs/stable/tensors.html), which represent such multi-dimensional matrices of numbers. \n",
        "\n",
        "* _Layers and functions._  PyTorch contains [pre-defined layers and functions](https://pytorch.org/docs/stable/nn.html) (corresponding to the expressions of our framework) that many basic and useful machine-learning building blocks, such as fully-connected neural-network layers, convolutional neural-network layers, recurrent networks, and more. \n",
        "\n",
        "* _GPU optimizations._  PyTorch can exploit [GPUs](https://en.wikipedia.org/wiki/Graphics_processing_unit) that support the [CUDA](https://en.wikipedia.org/wiki/CUDA) processing language; training or using neural networks on GPUs is often about a hundred times faster than on regular GPUs.  Platforms such as [Google Colab](https://colab.research.google.com) provide runtimes with GPUs. \n",
        "\n",
        "* _Batches._ Our framework processed input one point at a time.  PyTorch can process _batches_ of data, so that it can train on hundreds of images in the same step.  The use of batches makes machine learning more efficient, as well as better behaved.  We will discuss later how the batch size is chosen.\n",
        "\n",
        "* _Algorithms for tuning the step size._  Finding a rough step size is always a bit of guesswork, and PyTorch provides [many useful algorithms](https://pytorch.org/docs/stable/optim.html) to help tune the learning step size. "
      ]
    },
    {
      "cell_type": "markdown",
      "metadata": {
        "deletable": false,
        "editable": false,
        "nbgrader": {
          "checksum": "c8800f476a6db5c23bad0ef54a1341a8",
          "grade": false,
          "grade_id": "cell-5c7cf6041967e1e7",
          "locked": true,
          "schema_version": 1,
          "solution": false
        },
        "id": "JgrFOwnsQ1Jn",
        "colab_type": "text"
      },
      "source": [
        "### [PyTorch](https://pytorch.org), TensorFlow, and scikit-learn\n",
        "\n",
        "PyTorch and [TensorFlow](https://www.tensorflow.org/) are likely the two most commonly used deep-learning machine learning frameworks available today.  Another widely used machine-learning framework is [scikit-learn](https://scikit-learn.org/stable/), pronounced similarly to _psychic learn_. \n",
        "\n",
        "scikit-learn provides a greater variety of learning algorithms than PyTorch or TensorFlow, including decision trees, SVMs, and more.  On the other hand, scikit-learn does not provide the same optimizations as PyTorch and TensorFlow to work efficiently on vast amounts of data, and neither does scikit-learn provide support for GPU acceleration. \n",
        "\n",
        "PyTorch and TensorFlow are much closer to each other, and often the decision of using one of them rather than the other stems mainly from personal preference.  The main reason why we chose PyTorch for this chapter is that its gradient-computation methods are very close to the ones we developed for our homebrew framework."
      ]
    },
    {
      "cell_type": "markdown",
      "metadata": {
        "deletable": false,
        "editable": false,
        "nbgrader": {
          "checksum": "50b27db78bbb6450b285e72c769df590",
          "grade": false,
          "grade_id": "cell-aa1c02cc15241feb",
          "locked": true,
          "schema_version": 1,
          "solution": false
        },
        "id": "fTcw6zISQ1Jo",
        "colab_type": "text"
      },
      "source": [
        "## A flat neural network for MNIST\n",
        "\n",
        "The first problem we will tackle will be the one of _digit recognition_.  We will use a dataset made of single digits, each drawn on a $28 \\times 28$ canvas.  This dataset, called the [MNIST](https://en.wikipedia.org/wiki/MNIST_database) [dataset](http://yann.lecun.com/exdb/mnist/), and the dataset has become the \"hello world\" of deep machine learning.  To use it, we first load PyTorch.  If using Google Colab, make sure you have selected a GPU backend. "
      ]
    },
    {
      "cell_type": "code",
      "metadata": {
        "deletable": false,
        "editable": false,
        "nbgrader": {
          "checksum": "acd228bb54e6d997a1934e67cb9fa083",
          "grade": false,
          "grade_id": "cell-1d857d8574af32e2",
          "locked": true,
          "schema_version": 1,
          "solution": false
        },
        "id": "wpmv5GPHQ1Jp",
        "colab_type": "code",
        "colab": {}
      },
      "source": [
        "import numpy as np\n",
        "import matplotlib\n",
        "import matplotlib.pyplot as plt\n",
        "import random\n",
        "import torch\n",
        "import torch.nn as nn\n",
        "import torch.nn.functional as F\n",
        "import torch.optim as optim\n",
        "from torchvision import datasets, transforms"
      ],
      "execution_count": 2,
      "outputs": []
    },
    {
      "cell_type": "code",
      "metadata": {
        "deletable": false,
        "editable": false,
        "nbgrader": {
          "checksum": "6ed33bea14de27eb15f47b023c3b5da4",
          "grade": false,
          "grade_id": "cell-a910aa07d646bb05",
          "locked": true,
          "schema_version": 1,
          "solution": false
        },
        "id": "f5YoNzBuQ1Jr",
        "colab_type": "code",
        "colab": {}
      },
      "source": [
        "# We use the CUDA device to get GPU acceleration.\n",
        "USE_CUDA = colab\n",
        "if USE_CUDA:\n",
        "    device = torch.device(\"cuda\")\n",
        "    kwargs = {'num_workers': 1, 'pin_memory': True}\n",
        "else:\n",
        "    device = torch.device(\"cpu\")\n",
        "    kwargs = {}"
      ],
      "execution_count": 3,
      "outputs": []
    },
    {
      "cell_type": "markdown",
      "metadata": {
        "deletable": false,
        "editable": false,
        "nbgrader": {
          "checksum": "6b2c078b249c38fed88466fd54d159f3",
          "grade": false,
          "grade_id": "cell-a7e28f78d410ff51",
          "locked": true,
          "schema_version": 1,
          "solution": false
        },
        "id": "IE6J5Uf9Q1Ju",
        "colab_type": "text"
      },
      "source": [
        "Let us load the dataset itself, and display its first digit. "
      ]
    },
    {
      "cell_type": "code",
      "metadata": {
        "deletable": false,
        "editable": false,
        "nbgrader": {
          "checksum": "2e4726b84a886760700e589d495c21f3",
          "grade": false,
          "grade_id": "cell-e0a914abd4310b9d",
          "locked": true,
          "schema_version": 1,
          "solution": false
        },
        "id": "TIhX6KVPQ1Jv",
        "colab_type": "code",
        "colab": {
          "base_uri": "https://localhost:8080/",
          "height": 685,
          "referenced_widgets": [
            "bcbcf921ac034961b395037a601af87e",
            "b5ae63d682a84768904d4ac5c61ba71b",
            "d27567a2519e47dfbd9e6a60a0e17c41",
            "1696724ef60f45d7ae81ecf1f7591567",
            "f3f9ac05025245ea8613a5f92105aead",
            "760996f876f6447bb1dd0bb9ea503e70",
            "3da71b94bb1b48bfb863eb7b100982ad",
            "abfee36ce78c4115b903603406ca82d9",
            "c4179f2645ff4e918fe88f2e386eee04",
            "98065278f00844bdbbc07f4356f0116f",
            "9f59f41f55a24f568de74b1e4397338d",
            "488a4aace6e748998ef13bff37995d5b",
            "1bf0f218fb2d42c298370532b0a8feae",
            "ad18e4ebaf6746ee9c7f59d1a0d98fa2",
            "a5a66a45e97f40cbb005d34619c092f4",
            "b64f0a0268f846a8b716454a10f0574a",
            "ca640b2b02c34ad18ae7abf01d958abc",
            "f70efc9e44e946e78a61c5d1bc45c10c",
            "a5ac01f4dac64e90a2da0b7491fefe10",
            "3601d24d7e0b40ffa05cecb3034394d6",
            "bb25fc6eeaba4fe5a0a25167c7d080ac",
            "a5c0f250f7b745bca4beb79aca40fe6f",
            "d6366c314dfe4a3087f52688a4a2939e",
            "9aeca25d9da74c948a103cb0f1346ff3",
            "e9db4862156545baa0af404fda523a7f",
            "cfbfb852deac437c8bce658e95a7dcb5",
            "b14639cb32f242d0a6660ff31497d98e",
            "21aa08908569456a9b6c4f1a4a61f819",
            "e0a16c58f68f4cc8bb540bd613d52396",
            "b6186cf4ecb0403aa09078a10b99c85e",
            "c563085229b84fec833a0ba68358835d",
            "7979914d3df6461ca3df056c139e58b1"
          ]
        },
        "outputId": "1e09d541-f8bb-445e-9a37-5fb9c1cb3b9b"
      },
      "source": [
        "if colab:\n",
        "    mnist = datasets.MNIST('../data', train=True, download=True,\n",
        "                              transform=transforms.ToTensor())\n",
        "    digit_idx = 0\n",
        "    print(\"This digit is a:\", mnist[digit_idx][1])\n",
        "    plt.imshow(mnist[digit_idx][0].reshape(28,28), vmin=0., vmax=1., cmap='binary')"
      ],
      "execution_count": 4,
      "outputs": [
        {
          "output_type": "stream",
          "text": [
            "Downloading http://yann.lecun.com/exdb/mnist/train-images-idx3-ubyte.gz to ../data/MNIST/raw/train-images-idx3-ubyte.gz\n"
          ],
          "name": "stdout"
        },
        {
          "output_type": "display_data",
          "data": {
            "application/vnd.jupyter.widget-view+json": {
              "model_id": "bcbcf921ac034961b395037a601af87e",
              "version_minor": 0,
              "version_major": 2
            },
            "text/plain": [
              "HBox(children=(FloatProgress(value=1.0, bar_style='info', max=1.0), HTML(value='')))"
            ]
          },
          "metadata": {
            "tags": []
          }
        },
        {
          "output_type": "stream",
          "text": [
            "Extracting ../data/MNIST/raw/train-images-idx3-ubyte.gz to ../data/MNIST/raw\n",
            "Downloading http://yann.lecun.com/exdb/mnist/train-labels-idx1-ubyte.gz to ../data/MNIST/raw/train-labels-idx1-ubyte.gz\n"
          ],
          "name": "stdout"
        },
        {
          "output_type": "display_data",
          "data": {
            "application/vnd.jupyter.widget-view+json": {
              "model_id": "c4179f2645ff4e918fe88f2e386eee04",
              "version_minor": 0,
              "version_major": 2
            },
            "text/plain": [
              "HBox(children=(FloatProgress(value=1.0, bar_style='info', max=1.0), HTML(value='')))"
            ]
          },
          "metadata": {
            "tags": []
          }
        },
        {
          "output_type": "stream",
          "text": [
            "Extracting ../data/MNIST/raw/train-labels-idx1-ubyte.gz to ../data/MNIST/raw\n",
            "Downloading http://yann.lecun.com/exdb/mnist/t10k-images-idx3-ubyte.gz to ../data/MNIST/raw/t10k-images-idx3-ubyte.gz\n"
          ],
          "name": "stdout"
        },
        {
          "output_type": "display_data",
          "data": {
            "application/vnd.jupyter.widget-view+json": {
              "model_id": "ca640b2b02c34ad18ae7abf01d958abc",
              "version_minor": 0,
              "version_major": 2
            },
            "text/plain": [
              "HBox(children=(FloatProgress(value=1.0, bar_style='info', max=1.0), HTML(value='')))"
            ]
          },
          "metadata": {
            "tags": []
          }
        },
        {
          "output_type": "stream",
          "text": [
            "Extracting ../data/MNIST/raw/t10k-images-idx3-ubyte.gz to ../data/MNIST/raw\n",
            "Downloading http://yann.lecun.com/exdb/mnist/t10k-labels-idx1-ubyte.gz to ../data/MNIST/raw/t10k-labels-idx1-ubyte.gz\n"
          ],
          "name": "stdout"
        },
        {
          "output_type": "display_data",
          "data": {
            "application/vnd.jupyter.widget-view+json": {
              "model_id": "e9db4862156545baa0af404fda523a7f",
              "version_minor": 0,
              "version_major": 2
            },
            "text/plain": [
              "HBox(children=(FloatProgress(value=1.0, bar_style='info', max=1.0), HTML(value='')))"
            ]
          },
          "metadata": {
            "tags": []
          }
        },
        {
          "output_type": "stream",
          "text": [
            "Extracting ../data/MNIST/raw/t10k-labels-idx1-ubyte.gz to ../data/MNIST/raw\n",
            "Processing...\n",
            "Done!\n",
            "\n",
            "\n",
            "\n",
            "This digit is a: 5\n"
          ],
          "name": "stdout"
        },
        {
          "output_type": "stream",
          "text": [
            "/pytorch/torch/csrc/utils/tensor_numpy.cpp:141: UserWarning: The given NumPy array is not writeable, and PyTorch does not support non-writeable tensors. This means you can write to the underlying (supposedly non-writeable) NumPy array using the tensor. You may want to copy the array to protect its data or make it writeable before converting it to a tensor. This type of warning will be suppressed for the rest of this program.\n"
          ],
          "name": "stderr"
        },
        {
          "output_type": "stream",
          "text": [
            "\n"
          ],
          "name": "stdout"
        },
        {
          "output_type": "display_data",
          "data": {
            "image/png": "[encoded data removed]",
            "text/plain": [
              "<Figure size 432x288 with 1 Axes>"
            ]
          },
          "metadata": {
            "tags": [],
            "needs_background": "light"
          }
        }
      ]
    },
    {
      "cell_type": "markdown",
      "metadata": {
        "deletable": false,
        "editable": false,
        "nbgrader": {
          "checksum": "c27a266f01a5e0b5aea52653f7b5923b",
          "grade": false,
          "grade_id": "cell-1fc8faf10bd82c1d",
          "locked": true,
          "schema_version": 1,
          "solution": false
        },
        "id": "QcFu34iQQ1Jx",
        "colab_type": "text"
      },
      "source": [
        "### Defining the neural network\n",
        "\n",
        "We will be using a [fully connected neural net](https://pytorch.org/tutorials/beginner/blitz/neural_networks_tutorial.html), consisting of three layers.  The first layer has $28 \\times 28$ inputs, one for each pixel of the image, and `layer1_size` outputs (and so, `layer1_size` neurons); the second layer has `layer1_size` inputs and `layer2_size` outputs (and thus, neurons), and the final layer has `layer2_size` inputs and 10 outputs, one output for each of the 10 digit classes. \n",
        "\n",
        "The first two layers of the net consist of [ReLU units](https://en.wikipedia.org/wiki/Rectifier_(neural_networks).  A ReLU unit with $n$ inputs is defined by $n+1$ weights $b, w_1, \\ldots, w_n$, and when it is fed inputs $x_1, \\ldots, x_n$, it produces output \n",
        "\n",
        "$$\n",
        "\\max \\left( 0, b + \\sum_{i=1}^n w_i x_i \\right) \\; .\n",
        "$$\n",
        "\n",
        "The weight $b$ is called the _bias_ of the unit. \n",
        "We will be using not one neuron at a time, but one whole layer of neurons.  If the layer contains $m$ neurons, and we write $y_j$ for its $j$-th output, with $1 \\leq j \\leq m$, we have: \n",
        "\n",
        "$$\n",
        "y_j = \\max \\left( 0, b_j + \\sum_{i=1}^n w_{ji} x_i \\right) \\; ,\n",
        "$$\n",
        "\n",
        "or denoting by $b = [b_j]_{1 \\leq j \\leq m}$ the bias vector, and by $W = [w_{ji}]_{1 \\leq j \\leq m, 1 \\leq i \\leq n}$ the weight matrix, by: \n",
        "\n",
        "$$\n",
        "y = \\max \\left( 0, b + Wx \\right) \\; ,\n",
        "$$\n",
        "\n",
        "where $x$ is the input vector $x = [x_1, \\ldots, x_n]$, and $y$ is the output vector $[y_1, \\ldots, y_m]$.  We see thus that at the heart of a layer of ReLU units is a matrix multiplication, followed by a max operator. \n",
        "\n",
        "The matrix multiplication is perfomed by a PyTorch [linear layer](https://pytorch.org/docs/stable/nn.html#linear-layers), and the maximum operator via the [Pytorch relu function](https://pytorch.org/docs/stable/nn.functional.html#relu).   "
      ]
    },
    {
      "cell_type": "markdown",
      "metadata": {
        "deletable": false,
        "editable": false,
        "nbgrader": {
          "checksum": "a79a93ad6146e65500dc7ff521d6fc50",
          "grade": false,
          "grade_id": "cell-9653f12411594e09",
          "locked": true,
          "schema_version": 1,
          "solution": false
        },
        "id": "f2xE1dhYQ1Jy",
        "colab_type": "text"
      },
      "source": [
        "The last layer of our neural net is a _softmax_ layer, as is common in classification problems.  Indicate by $y_0, \\ldots, y_9$ be the 10 outputs of the 10 linear neurons, computed via $b + Wx$.  These $y_0, \\ldots, y_9$ are general real numbers, not restricted to a particular range.  As our aim is to identify which one among the 10 digits is the digit in the input, we prefer the output of the overall layer to be a vector $[p_0, \\ldots, p_9]$ of probabilities for each digit $0, \\ldots, 9$, with $0 \\leq p_i \\leq 1$ for all $0 \\leq i \\leq 9$, and $\\sum_{i=0}^9 p_i = 1$.  We convert from linear outputs to probabilities using the [_softmax_](https://en.wikipedia.org/wiki/Softmax_function) transformation: \n",
        "\n",
        "$$\n",
        "p_i = \\frac{e^{y_i}}{\\sum_{j=0}^9 e^{y_j}} \\; . \n",
        "$$\n",
        "\n",
        "It turns out that is numerically more stable to output not these probabilities directly, but their logarithm.  We output:\n",
        "\n",
        "$$\n",
        "q_i = \\log p_i = (\\log e^{y_i}) - \\log\\sum_{j=0}^9 e^{y_j} = \n",
        "y_i - \\log\\sum_{j=0}^9 e^{y_j} \\; . \n",
        "$$"
      ]
    },
    {
      "cell_type": "markdown",
      "metadata": {
        "deletable": false,
        "editable": false,
        "nbgrader": {
          "checksum": "1821508b92cbaa0a3e410dc72a85c115",
          "grade": false,
          "grade_id": "cell-122a9f54bba8ffbe",
          "locked": true,
          "schema_version": 1,
          "solution": false
        },
        "id": "IHeekKbcQ1Jz",
        "colab_type": "text"
      },
      "source": [
        "The definition of our net is done in the class `FlatNet` below.  We define the three linear layers in the `__init__` method: these are the layers that contain trainable weights.  The computation of the output of the net happens in the `forward` method.  The input `x` is a tensor, that is, a matrix with size $[28 * 28, \\kappa]$, where $\\kappa$ is the batch size: the net will process the inputs for $\\kappa$ digits at a time.  To compute the net output, we apply the transformation for each layer. "
      ]
    },
    {
      "cell_type": "code",
      "metadata": {
        "deletable": false,
        "editable": false,
        "nbgrader": {
          "checksum": "13243f0337c07e9a67fb4492eaea0a79",
          "grade": false,
          "grade_id": "cell-897f9e00f32381f4",
          "locked": true,
          "schema_version": 1,
          "solution": false
        },
        "id": "6GMP3SsQQ1J0",
        "colab_type": "code",
        "colab": {}
      },
      "source": [
        "class FlatNet(nn.Module):\n",
        "    \"\"\"This is a 3-layer NN, flat (not convolutional).\"\"\"\n",
        "\n",
        "    def __init__(self, layer1_size=128, layer2_size=128):\n",
        "        super().__init__()\n",
        "        self.layer1 = nn.Linear(28 * 28, layer1_size)\n",
        "        self.layer2 = nn.Linear(layer1_size, layer2_size)\n",
        "        self.layer3 = nn.Linear(layer2_size, 10)\n",
        "\n",
        "    def forward(self, x):\n",
        "        \"\"\"x is the input to the NN.  Computes the output.\"\"\"\n",
        "        x = F.relu(self.layer1(x))\n",
        "        x = F.relu(self.layer2(x))\n",
        "        return F.log_softmax(self.layer3(x), dim=1)"
      ],
      "execution_count": 5,
      "outputs": []
    },
    {
      "cell_type": "markdown",
      "metadata": {
        "deletable": false,
        "editable": false,
        "nbgrader": {
          "checksum": "e79a0bafac5d3478b8dff4609602e9c6",
          "grade": false,
          "grade_id": "cell-24826b8c1e601672",
          "locked": true,
          "schema_version": 1,
          "solution": false
        },
        "id": "lbsMLQj7Q1J2",
        "colab_type": "text"
      },
      "source": [
        "### Training and testing\n",
        "\n",
        "#### Training and testing data\n",
        "\n",
        "Once the network is defined, we can write two functions, for training and testing the network.  The two functions are very similar, except that they work on different portions of the data, and that only the training function actually trains the network. \n",
        "\n",
        "Separating the dataset into a trainign and a testing portion may seem wasteful: why not train from all the data, rather than from only a portion of it?  The reason for using separate training and testing data is that we want to be able to check for _overtraining_.  If a neural network has many degrees of freedom (many trainable weights) compared to how much training data we have, it is possible that the network will learn the particular examples on which we train it, rather than understand the general rules that makes a \"2\" a \"2\" and a \"7\" a \"7\" digit.  We want the network to understand the rules, not to memorize the training examples: our goal is to use the network to classify _new_ data that it has not seen yet, new digits written by people in the future, not the same old digits we have in the training set. \n",
        "\n",
        "To check whether the network is overtraining, we will measure the network classification accuracy on testing data that has not been used to train the network.  We split the overall data (actually, MNIST comes pre-split) in two sets: a training set consisting of 80% of the data, and a testing set consisting of 20% of the data. "
      ]
    },
    {
      "cell_type": "markdown",
      "metadata": {
        "deletable": false,
        "editable": false,
        "nbgrader": {
          "checksum": "0d7903f602d02c2def159ff57e74a89e",
          "grade": false,
          "grade_id": "cell-dd5c521fde897d96",
          "locked": true,
          "schema_version": 1,
          "solution": false
        },
        "id": "SL9EfNXvQ1J3",
        "colab_type": "text"
      },
      "source": [
        "#### The model and optimizer\n",
        "\n",
        "The `model` is an instance of our `FlatNet` net.  \n",
        "The `optimizer` is in charge of optimizing the model: precisely, the optimizer decides the size of the learning step, and it applies the update to all the model parameters.   The optimizer is created by giving its initializer the parameters of the model, and a learning rate (a base learn step size). There are [many optimizers available in PyTorch](https://pytorch.org/docs/stable/optim.html), and the [SGD optimizer](https://pytorch.org/docs/stable/optim.html#torch.optim.SGD) is the simplest of them all.  It implements standard gradient descent, with a bit of \"[momentum](http://www.cs.toronto.edu/~hinton/absps/momentum.pdf)\".  A more sophisticated optimizer, such as [Adam](https://pytorch.org/docs/stable/optim.html#torch.optim.Adam), could be used as a drop-in replacement for the SGD one; you are encouraged to experiment with this.  Note that when you change the optimizer, you may have to give a different base learning rate, as each optimizer may interpret this rate in a different way. "
      ]
    },
    {
      "cell_type": "code",
      "metadata": {
        "deletable": false,
        "editable": false,
        "nbgrader": {
          "checksum": "6b106872ca2dd96a1c14bad7b8691015",
          "grade": false,
          "grade_id": "cell-e897008012c5c2d3",
          "locked": true,
          "schema_version": 1,
          "solution": false
        },
        "id": "unIrdAzTQ1J4",
        "colab_type": "code",
        "colab": {}
      },
      "source": [
        "model = FlatNet(layer1_size=128, layer2_size=128).to(device)\n",
        "\n",
        "LEARNING_RATE = 0.01\n",
        "MOMENTUM = 0.5\n",
        "optimizer = optim.SGD(model.parameters(), lr=LEARNING_RATE, momentum=MOMENTUM)"
      ],
      "execution_count": 6,
      "outputs": []
    },
    {
      "cell_type": "markdown",
      "metadata": {
        "deletable": false,
        "editable": false,
        "nbgrader": {
          "checksum": "f9809e182e6493ec81577581d8aaee99",
          "grade": false,
          "grade_id": "cell-51eeca6a9012496d",
          "locked": true,
          "schema_version": 1,
          "solution": false
        },
        "id": "HevuefCzQ1J6",
        "colab_type": "text"
      },
      "source": [
        "#### The `train` and `test` functions\n",
        "\n",
        "The `train` and `test` functions correspond closely to the code we used to train our homebrew models.  The `train` function iterates over the training data, one batch at a time.  The `data.to(device)` and `target.to(device)` expressions move the data (the images to be classified) and the target (the correct digits) to the `device`, which is a GPU (if you wish to run this on the CPU rather than the GPU, change `USE_CUDA` to False).\n",
        "\n",
        "First, we zero the gradient, to start the computation of a new gradient, exactly as we did in our homegrown framework. \n",
        "\n",
        "Next, the images in the batch are flattened, that is, transformed from a square grid of pixels to a linear vector of $28 * 28$ pixels, and they are fed to the model, which is an instance of our `FlatNet` class.  \n",
        "\n",
        "We then compute the loss via the [_log-likelyhood_](https://en.wikipedia.org/wiki/Likelihood_function) function.  The details of why we use this loss are not essential; suffices to say, the log likelyhood measures the difference between our output digit proability distribution, and the true distribution, which is a distribution with a 1 for the correct digit and 0 for all other digits.\n",
        "\n",
        "Finally, the loss gradient is propagated, via the `backward()` method call, and the parameters are updated, in the `optimizer.step()` method call.  "
      ]
    },
    {
      "cell_type": "code",
      "metadata": {
        "deletable": false,
        "editable": false,
        "nbgrader": {
          "checksum": "371c3acbe04fbd18fa1319855940801f",
          "grade": false,
          "grade_id": "cell-a17c2d03ab4a6d06",
          "locked": true,
          "schema_version": 1,
          "solution": false
        },
        "id": "M5BRxRIqQ1J7",
        "colab_type": "code",
        "colab": {}
      },
      "source": [
        "def train(model, device, train_loader, optimizer, epoch, batch_size, \n",
        "          flatten=False, log_interval=100):\n",
        "    model.train()\n",
        "    correct = 0.\n",
        "    for batch_idx, (data, target) in enumerate(train_loader):\n",
        "        data, target = data.to(device), target.to(device)\n",
        "        optimizer.zero_grad()\n",
        "        output = model(data.view(-1, 28 * 28)) if flatten else model(data)\n",
        "        loss = F.nll_loss(output, target)\n",
        "        loss.backward()\n",
        "        optimizer.step()\n",
        "        # Get the prediction.\n",
        "        pred = output.max(1, keepdim=True)[1]\n",
        "        correct += pred.eq(target.view_as(pred)).sum().item()\n",
        "        if (batch_idx + 1) % log_interval == 0:\n",
        "            print('Train Epoch: {} [{}/{} ({:.0f}%)]\\tLoss: {:.6f} \\tAccuracy:{:.5f}'.format(\n",
        "                epoch, batch_idx * len(data), len(train_loader.dataset),\n",
        "                100. * batch_idx / len(train_loader), loss.item(),\n",
        "                100. * correct / (log_interval * batch_size)))\n",
        "            correct = 0."
      ],
      "execution_count": 7,
      "outputs": []
    },
    {
      "cell_type": "code",
      "metadata": {
        "deletable": false,
        "editable": false,
        "nbgrader": {
          "checksum": "5066e96323696e5fae61823c7c5aa813",
          "grade": false,
          "grade_id": "cell-1f6b98bc4156855c",
          "locked": true,
          "schema_version": 1,
          "solution": false
        },
        "id": "M4OAH462Q1J9",
        "colab_type": "code",
        "colab": {}
      },
      "source": [
        "def test(model, device, test_loader, flatten=False):\n",
        "    model.eval()\n",
        "    test_loss = 0\n",
        "    correct = 0.\n",
        "    with torch.no_grad():\n",
        "        for data, target in test_loader:\n",
        "            data, target = data.to(device), target.to(device)\n",
        "            output = model(data.view(-1, 28 * 28)) if flatten else model(data)\n",
        "            test_loss += F.nll_loss(output, target).item() # sum up batch loss\n",
        "            pred = output.max(1, keepdim=True)[1] # get the index of the max log-probability\n",
        "            correct += pred.eq(target.view_as(pred)).sum().item()\n",
        "\n",
        "    test_loss /= len(test_loader.dataset)\n",
        "    print('\\nTest set: Average loss: {:.4f}, Accuracy: {}/{} ({:.5f}%)\\n'.format(\n",
        "        100. * test_loss, correct, len(test_loader.dataset),\n",
        "        100. * correct / len(test_loader.dataset)))"
      ],
      "execution_count": 8,
      "outputs": []
    },
    {
      "cell_type": "markdown",
      "metadata": {
        "deletable": false,
        "editable": false,
        "nbgrader": {
          "checksum": "723647dd7479d16551c03e78011524f1",
          "grade": false,
          "grade_id": "cell-50deb718f67633e9",
          "locked": true,
          "schema_version": 1,
          "solution": false
        },
        "id": "oWRKAcPyQ1J_",
        "colab_type": "text"
      },
      "source": [
        "### Let's give it a spin\n",
        "\n",
        "We are finally ready to give our neural network a spin.  \n",
        "\n",
        "#### Epochs\n",
        "\n",
        "The training occurs in _epochs_, where an epoch, in machine-learning parlance, consists in feeding to the network the entire training data.  The data is obtained via training and testing loaders: these loaders shuffle the original data so that it is presented in a different order in each epoch, and then return the data in batches of a chosen size. \n",
        "\n",
        "Shuffling the data at each epoch helps the network train uniformly over the whole dataset.\n",
        "\n",
        "#### Learning in batches\n",
        "\n",
        "We do not feed the learning examples (the digits) to our neural network one by one: rather, we feed them to the network in batches.  \n",
        "\n",
        "One reason for this is efficiency.  The computations in a batch are performed in a GPU, and a GPU is able to perform many operations in parallel.  If we fed the data one by one, we would be able to exploit the parallel processing capabilities of a GPU only in part, as the size of a single example would limit the amount of available parallelism.  For instance, in a digit, we would be limited to performing $28 \\cdot 28 \\cdot l_1$ operations in parallel, where $l_1$ is the number of layers in the first network.  If we batch $\\kappa$ examples together, this number grows by a factor of $\\kappa$. \n",
        "\n",
        "The other reason, however, is more fundamental, and it has to do with the very process for machine learning.  Ideally, we would like to tune the neural network so as to decrease its loss (its error) not on one example only, but on all training data at once: after all, we want it to recognize all digits.   Denoting by $L_x$ the loss for a particular input $x$, we would like to compute the loss $L_T = \\sum_{x \\in T} L_x$ over the whole training set $T$.  We would then train the model parameters (the weights) $\\theta_1, \\ldots, \\theta_m$ according to the complete gradient \n",
        "\n",
        "$$\n",
        "\\nabla_\\theta L_T = \\left( \n",
        "\\frac{\\partial L_T}{\\partial \\theta_1}, \\ldots, \\frac{\\partial L}{\\partial \\theta_m} \\; .\n",
        "\\right)\n",
        "$$\n",
        "\n",
        "To do this, we can call the `zero_gradient()` method at the beginning of a training epoch.  Then, we propagate each training batch through the network, and backpropagate the loss; this accummulates the gradient, and allows the computation of $g_T = \\nabla_\\theta L_T$. \n",
        "\n",
        "However, it turns out it is often better to compute the gradient for each batch, and apply it, rather than add the batch gradients into the total gradient.  That is, if $L_B = \\sum_{x \\in B} L_x$ is the sum for a batch of training data $B$, after processing $B$, we train the network with respect to the batch gradient $g_B = \\nabla_\\theta L_B$ only. The batch gradient $g_B$ is an approximation of the full gradient $g_T$, in the same way in which the average height of 10 students in a class provides an approximation for the average height of all students in the class.  Saying this in an equivalent way, we can write $g_B = g_T + \\eta$, where $\\eta$ is noise.  The larger the batch size, the smaller the noise $\\eta$ that enters the gradient at each training step. \n",
        "\n",
        "The process of using the gradient, estimated from a subset of the data, and thus affected by noise, is known as [stochastic gradient descent](https://en.wikipedia.org/wiki/Stochastic_gradient_descent).  This is an accurate yet magnifically grand-sounding name for the simple process of estimating the gradient, and then following the estimate.  The next time your read only part of the assigned reading, you can tell the professor you are doing stochastic learning.\n",
        "\n",
        "It turns out that a small amount of training noise is actually beneficial, for two reasons.  First, some amount of noise is often helpful in learning, as it can be used to break symmetries, avoid getting stuck in small local minima, and similar.  Second, even the complete gradient $g_T$ is an approximation for the true (and uncomputable) gradient $g_U$ computed on the universe $U$ of possible input data.  Training on a noisy version of $g_T$ helps avoid overtraining to $T$. \n",
        "\n",
        "In practice, as for many things in machine learning, the choice of batch size is guided by experimentation.  We use here a batch size of 100; in a 100-input batch, each digit will be represented 10 times on average, so this is a good compromise between an example-specific gradient, and the gradient on all training data.\n",
        "\n",
        "#### Measuring the performance\n",
        "\n",
        "After each epoch of training, we feed to the classifier the testing data, and we print the resulting accuracy."
      ]
    },
    {
      "cell_type": "code",
      "metadata": {
        "deletable": false,
        "editable": false,
        "nbgrader": {
          "checksum": "0aad40df957134c31db033d44f073395",
          "grade": false,
          "grade_id": "cell-bf538e195da19efd",
          "locked": true,
          "schema_version": 1,
          "solution": false
        },
        "id": "0lbzWLYeQ1KA",
        "colab_type": "code",
        "colab": {}
      },
      "source": [
        "# How big are the batches for training and testing.\n",
        "TRAIN_BATCH_SIZE = 100\n",
        "TEST_BATCH_SIZE = 100\n",
        "\n",
        "# Loads the datasets.\n",
        "if colab:\n",
        "    train_loader = torch.utils.data.DataLoader(\n",
        "        datasets.MNIST('../data', train=True, download=True,\n",
        "                        transform=transforms.ToTensor()),\n",
        "        batch_size=TRAIN_BATCH_SIZE, shuffle=True, **kwargs)\n",
        "    test_loader = torch.utils.data.DataLoader(\n",
        "        datasets.MNIST('../data', train=False, transform=transforms.ToTensor()),\n",
        "        batch_size=TEST_BATCH_SIZE, shuffle=True, **kwargs)"
      ],
      "execution_count": 9,
      "outputs": []
    },
    {
      "cell_type": "code",
      "metadata": {
        "deletable": false,
        "editable": false,
        "nbgrader": {
          "checksum": "f8c0105c8df619ebd3fbddfdcfa744c9",
          "grade": false,
          "grade_id": "cell-114c2fdd1024dfc4",
          "locked": true,
          "schema_version": 1,
          "solution": false
        },
        "id": "11HMPFXBQ1KD",
        "colab_type": "code",
        "colab": {
          "base_uri": "https://localhost:8080/",
          "height": 221
        },
        "outputId": "be6d6077-da06-4bae-b1f4-b33fc18ab710"
      },
      "source": [
        "NUM_EPOCHS = 2\n",
        "torch.manual_seed(1) # Init random number generator.\n",
        "if colab:\n",
        "    for epoch in range(1, NUM_EPOCHS + 1):\n",
        "        train(model, device, train_loader, optimizer, epoch, TRAIN_BATCH_SIZE, flatten=True)\n",
        "        test(model, device, test_loader, flatten=True)\n"
      ],
      "execution_count": null,
      "outputs": [
        {
          "output_type": "stream",
          "text": [
            "Train Epoch: 1 [9900/60000 (16%)]\tLoss: 2.245490 \tAccuracy:23.79000\n",
            "Train Epoch: 1 [19900/60000 (33%)]\tLoss: 2.054756 \tAccuracy:48.31000\n",
            "Train Epoch: 1 [29900/60000 (50%)]\tLoss: 1.566478 \tAccuracy:63.66000\n",
            "Train Epoch: 1 [39900/60000 (66%)]\tLoss: 0.962624 \tAccuracy:72.63000\n",
            "Train Epoch: 1 [49900/60000 (83%)]\tLoss: 0.664755 \tAccuracy:79.55000\n",
            "Train Epoch: 1 [59900/60000 (100%)]\tLoss: 0.568182 \tAccuracy:82.49000\n",
            "\n",
            "Test set: Average loss: 0.5884, Accuracy: 8472.0/10000 (84.72000%)\n",
            "\n",
            "Train Epoch: 2 [9900/60000 (16%)]\tLoss: 0.568673 \tAccuracy:85.40000\n",
            "Train Epoch: 2 [19900/60000 (33%)]\tLoss: 0.421644 \tAccuracy:86.59000\n",
            "Train Epoch: 2 [29900/60000 (50%)]\tLoss: 0.545522 \tAccuracy:87.40000\n"
          ],
          "name": "stdout"
        }
      ]
    },
    {
      "cell_type": "markdown",
      "metadata": {
        "deletable": false,
        "editable": false,
        "nbgrader": {
          "checksum": "2bcb422133e6aa47b209a0a30403e74b",
          "grade": false,
          "grade_id": "cell-95b05a07cf2dc31f",
          "locked": true,
          "schema_version": 1,
          "solution": false
        },
        "id": "WTd2tTazQ1KF",
        "colab_type": "text"
      },
      "source": [
        "## Convolutional neural network models\n",
        "\n",
        "Once we have created our first neural network, it is a fairly simple matter to replace it with a more sophisticated one.  We will see how to replace our \"flat\" neural network with a [_convolutional_](https://en.wikipedia.org/wiki/Convolutional_neural_network) one.\n",
        "\n",
        "In our flat neural network, the $28 \\times 28$ image is flattened into an array of $28 \\cdot 28 = 784$ pixels, and these 784 pixels are then fed to the neural network.  Thus, all spacial information in the image -- the information on which pixel is close to which other pixel -- is lost.  The network will learn the weights for pixels 23, 457, 537, and so on, but will have no idea of where they are in the image!  Clearly, the network would be implementing a very different method of image processing than the one we perform in our brains! \n",
        "\n",
        "[Convolutional networks](https://en.wikipedia.org/wiki/Convolutional_neural_network) do a much better job of exploiting spacial information.  They examine the image through a sliding window of a given size, in our case, $3 \\times 3$ pixels, and compute intermediate results on the basis of such sliding window.  Sliding a $3 \\times 3$ window over a $28 \\times 28$ image with padding of 1 again generates a $28 \\times 28$ grid of results; you can [find here](https://github.com/vdumoulin/conv_arithmetic/blob/master/README.md) a good visualization of how convolution works, and what padding does.  The original pixels of the $28 \\times 28$ image had one value per pixel, the brightness value.  The resulting $28 \\times 28$ grid of results has more than one value per cell: it now has as many values as there are neurons in the $3 \\times 3$ convolution.  We use multiple neurons so that each of the neurons can learn to look for a specific aspect in the $3 \\times 3$ grid: one neuron might learn to look for vertical lines, one for horizonal lines, and so forth.  A good discussion with examples is provided in [Figure 3 of this well-kwown paper](https://www.nvidia.cn/content/tesla/pdf/machine-learning/imagenet-classification-with-deep-convolutional-nn.pdf).\n",
        "\n",
        "After the convolutional step, we _pool_ the results, computing the maximum in every $2 \\times 2$ square, and reducing the image to a $14 \\times 14$ image, as a consequence.  The pooling is used to establish that features are present, while \"forgetting\" the details of their spacial placement. \n",
        "\n",
        "We repeat the convolution and pooling a second time, obtaining a $7 \\times 7$ grid of results containing 20 values per cell.  These results are then flattened into a $7 \\times 7 \\times 20$ flat array, and this flat array is passed through two flat layers of neural nets. \n",
        "\n",
        "This takes a lot of words to say, but only a few lines of code to do.  We use the [`Conv2d`](https://pytorch.org/docs/stable/nn.html#torch.nn.Conv2d) layer for convolution, and the [`MaxPool2d`](https://pytorch.org/docs/stable/nn.html#torch.nn.MaxPool2d) layer for the pooling.  Rather than writing `__init__` and `forward` methods, we simply list our layers as input to the `nn.Sequential` model: this is a convenient shorthand for defining a model.\n"
      ]
    },
    {
      "cell_type": "code",
      "metadata": {
        "deletable": false,
        "editable": false,
        "nbgrader": {
          "checksum": "04ca852e4aa43fe07e4548071d80935a",
          "grade": false,
          "grade_id": "cell-1adcda98c3302a50",
          "locked": true,
          "schema_version": 1,
          "solution": false
        },
        "id": "eG6j0pjJQ1KG",
        "colab_type": "code",
        "colab": {}
      },
      "source": [
        "conv1_neurons = 20\n",
        "conv2_size = 2\n",
        "conv2_neurons = 40\n",
        "\n",
        "flat1_in = (28 // 4) * (28 // 4) * conv2_neurons\n",
        "flat1_out = 256\n",
        "flat2_out = 128\n",
        "\n",
        "conv_model = nn.Sequential(\n",
        "    nn.Conv2d(1, conv1_neurons, 3, padding=1),\n",
        "    nn.ReLU(),\n",
        "    nn.MaxPool2d(2),\n",
        "    nn.Conv2d(conv1_neurons, conv2_neurons, 3, padding=1),\n",
        "    nn.ReLU(),\n",
        "    nn.MaxPool2d(2),\n",
        "    nn.Flatten(),\n",
        "    nn.Linear(flat1_in, flat1_out),\n",
        "    nn.ReLU(),\n",
        "    nn.Linear(flat1_out, flat2_out),\n",
        "    nn.ReLU(),\n",
        "    nn.Linear(flat2_out, 10),\n",
        "    nn.LogSoftmax(dim=1)\n",
        ")\n",
        "if colab:\n",
        "    gpu_conv_model = conv_model.to(device)"
      ],
      "execution_count": null,
      "outputs": []
    },
    {
      "cell_type": "markdown",
      "metadata": {
        "deletable": false,
        "editable": false,
        "nbgrader": {
          "checksum": "1000328c1664cbdacf2eb4dbbbddacc9",
          "grade": false,
          "grade_id": "cell-150bc1321c305810",
          "locked": true,
          "schema_version": 1,
          "solution": false
        },
        "id": "cPr8Hy8NQ1KI",
        "colab_type": "text"
      },
      "source": [
        "Each optimizer is defined on the basis of the model parameters, so when we change the model, we need to define a new optimizer too -- it would not work to use the optimizer for the previous linear model to train this convolutional model! "
      ]
    },
    {
      "cell_type": "code",
      "metadata": {
        "deletable": false,
        "editable": false,
        "nbgrader": {
          "checksum": "32ba42e804f68d1c473ed85bd7d58ae4",
          "grade": false,
          "grade_id": "cell-a5f68a1dd10caa2d",
          "locked": true,
          "schema_version": 1,
          "solution": false
        },
        "id": "EH1HdH9uQ1KJ",
        "colab_type": "code",
        "colab": {}
      },
      "source": [
        "if colab:\n",
        "    conv_optimizer = optim.SGD(gpu_conv_model.parameters(), lr=0.01, momentum=0.5)"
      ],
      "execution_count": null,
      "outputs": []
    },
    {
      "cell_type": "markdown",
      "metadata": {
        "deletable": false,
        "editable": false,
        "nbgrader": {
          "checksum": "d05c9535e41d61c8a8bf56bc4f377de4",
          "grade": false,
          "grade_id": "cell-6da2ea4979d51b3b",
          "locked": true,
          "schema_version": 1,
          "solution": false
        },
        "id": "YR_YRkOhQ1KL",
        "colab_type": "text"
      },
      "source": [
        "We can now train our convolutional model.  This is not a small net, and it will train much faster on a GPU-enabled machine (if you are on Google Colab, you can select a non-GPU kernel and a GPU kernel to see the difference for yourself)."
      ]
    },
    {
      "cell_type": "code",
      "metadata": {
        "deletable": false,
        "editable": false,
        "nbgrader": {
          "checksum": "640019aeeb3d8f0a8040492573023d97",
          "grade": false,
          "grade_id": "cell-6fd9a862b1ba518b",
          "locked": true,
          "schema_version": 1,
          "solution": false
        },
        "id": "7_aEWK5cQ1KM",
        "colab_type": "code",
        "colab": {}
      },
      "source": [
        "if colab:\n",
        "    for epoch in range(1, NUM_EPOCHS + 1):\n",
        "        train(gpu_conv_model, device, train_loader, conv_optimizer, epoch, TRAIN_BATCH_SIZE)\n",
        "        test(gpu_conv_model, device, test_loader)"
      ],
      "execution_count": null,
      "outputs": []
    },
    {
      "cell_type": "markdown",
      "metadata": {
        "deletable": false,
        "editable": false,
        "nbgrader": {
          "checksum": "fc3c8246f1b095ffbda0a39a5722150a",
          "grade": false,
          "grade_id": "cell-fdd862bbd076fc30",
          "locked": true,
          "schema_version": 1,
          "solution": false
        },
        "id": "ZF2dz6YMQ1KO",
        "colab_type": "text"
      },
      "source": [
        "## Defining new layers\n",
        "\n",
        "Most ML tutorials at this point go on to more sophisticated neural architectures or more challenging problems; [a number of very good tutorials](https://pytorch.org/tutorials/) is available on the PyTorch site, and more are available if you search.  We will do something different here: we go back to basics, to the mechanism that makes ML work.  In the previous chapter, we have seen how to implement automatic gradient computation for simple expressions; it is now time to see how to do the same in PyTorch: this will make the relationship between our simple autogradient setup and PyTorch clear. \n",
        "\n",
        "The task we will set ourselves to do is to define a new layer, which we call the `SinLayer` layer.  The `SinLayer` layer takes as input a vector $x = [x_1, \\ldots, x_n]$, and internally has a set of weights $[w_1, \\ldots, w_n]$.  The output of the layer is \n",
        "\n",
        "$$\n",
        "    \\sin(wx) = [\\sin(w_1 x_1), \\ldots, \\sin(w_n, x_n)] \\; .\n",
        "$$\n",
        "\n",
        "There is no particular reason to think this layer should work especially well.  Indeed, we can think of many reasons why it should work poorly, including the fact that normally, the activation functions used in machine learning have uniform behavior when the input goes to infinity, not an oscillatory behavior.  But we will give it a try nevertheless: the goal is to learn implementing a new layer, rather than obtaining the ultimate neural network for MNIST. "
      ]
    },
    {
      "cell_type": "markdown",
      "metadata": {
        "deletable": false,
        "editable": false,
        "nbgrader": {
          "checksum": "201da2d3d9910a17abacce1307f31746",
          "grade": false,
          "grade_id": "cell-e6bae4ef82ac786e",
          "locked": true,
          "schema_version": 1,
          "solution": false
        },
        "id": "avMyZqmlQ1KP",
        "colab_type": "text"
      },
      "source": [
        "### Defining an autogradient function\n",
        "\n",
        "At the core of the `SinLayer` layer is the $\\sin(wx)$ function.  We could simply implement the function using the $*$ and `torch.sin` functions of PyTorch, but rather than doing that, we will instead define a custom function called `TunedSin`: in this way, we will get a close look at how the automatic gradient computation works in PyTorch.  \n",
        "\n",
        "To implement `TunedSin`, we need to implement a subclass of [`torch.autograd.function.Function`](https://pytorch.org/docs/stable/autograd.html#torch.autograd.Function).  The class has two static methods: a `forward` method, which computes $\\sin(wx)$ from $x$ and $w$, and a `backward` method, that propagates the gradient. \n",
        "\n",
        "We wrote the `forward` method already.  The method takes three arguments: a context `ctx`, and $x$ and $w$.  The context is a place we can use to store values that we wish to have available during the computation of the gradient.  We store in the context $x$, $w$, and also their product $xw$; of course, the product can be reconstructed from $x$ and $w$, but if we need it, there is no point computing it both in the forward and in the backward pass.  By storing it, we are trading a little bit of memory in excange of a little bit of efficiency.  Aside from storing $x, w$, and $xw$ in the context, the forward method simply returns $\\sin(wx)$. \n",
        "\n",
        "We leave the interesting bits of the `backward` method for you to write.  The method receives as input the context, and the gradient of the loss with respect to its output, that is, indicating with $L$ the loss and with $y = \\sin(wx)$ the output of the forward pass, it receives \n",
        "\n",
        "$$\n",
        "    \\mathtt{grad\\_output} = \\frac{\\partial L}{\\partial y} \\; .\n",
        "$$\n",
        "\n",
        "Corresponding to the two inputs $x$ and $w$, the `backward` method must return the two gradients $\\partial L / \\partial x$ and $\\partial L / \\partial w$.  These gradients are computed using:\n",
        "\n",
        "$$\n",
        "\\frac{\\partial L}{\\partial x} = \\frac{\\partial L}{\\partial y} \\frac{\\partial y}{\\partial x} = \\frac{\\partial L}{\\partial y} \\frac{\\partial}{\\partial x} \\sin(wx) = \\frac{\\partial L}{\\partial y} w\\cos(wx) \\; ,\n",
        "$$\n",
        "\n",
        "and similarly, \n",
        "\n",
        "$$\n",
        "\\frac{\\partial L}{\\partial w} = \\frac{\\partial L}{\\partial y} x\\cos(wx) \\; . \n",
        "$$\n",
        "\n",
        "The `backward` method first retrieves the values of $x, w$, and $xw$ from the context.  Then, the method must compute and return $\\partial L / \\partial x$ and $\\partial L / \\partial w$ as above, and return them.  We leave it to you to write this interesting, if very brief, bit of code."
      ]
    },
    {
      "cell_type": "code",
      "metadata": {
        "deletable": false,
        "nbgrader": {
          "checksum": "3204b6c0cd0d9a57c3cb41e514a743bc",
          "grade": false,
          "grade_id": "cell-6b6e53d1905ca14d",
          "locked": false,
          "schema_version": 1,
          "solution": true
        },
        "id": "kSyciBAAQ1KQ",
        "colab_type": "code",
        "colab": {}
      },
      "source": [
        "from torch.autograd.function import Function\n",
        "\n",
        "class TunedSin(Function):\n",
        "    \"\"\"Implements sin(w * x), where w is a tunable weight vector.\"\"\"\n",
        "\n",
        "    @staticmethod\n",
        "    def forward(ctx, x, w):\n",
        "        \"\"\"\n",
        "        @param ctx: context, we can use to store x in it.\n",
        "        @param x: the tensor to propagate; it has shape b * n, where b is the\n",
        "            batch size, and n is the number of inputs.\n",
        "        @param w: weight vector, of the same shape as x. \n",
        "        @returns: sin(w * x)\n",
        "        \"\"\"\n",
        "        # We form the element-by-element product of x and w. \n",
        "        xw = x * w\n",
        "        # We save, in case it is useful for backward propagation, \n",
        "        # x, w, and the product xw.\n",
        "        ctx.save_for_backward(x, w, xw)\n",
        "        # We compute the result.\n",
        "        return torch.sin(xw)\n",
        "\n",
        "    @staticmethod\n",
        "    def backward(ctx, grad_output):\n",
        "        \"\"\"\n",
        "        @param ctx: the context, from which we can retrieve x and w.\n",
        "        @param grad_output: the gradient of the output. \n",
        "        @returns a pair (gx, gw), consisting of the gradient with \n",
        "            respect to x, and the gradient with respect to w.\n",
        "        \"\"\"\n",
        "        # We retrieve x, w, xw from the context. \n",
        "        x, w, xw = ctx.saved_tensors\n",
        "        # Now we must compute gx and gw. \n",
        "        gx = grad_output*w*torch.cos(xw)\n",
        "        gw = grad_output*x*torch.cos(xw) \n",
        "        return gx, gw"
      ],
      "execution_count": null,
      "outputs": []
    },
    {
      "cell_type": "markdown",
      "metadata": {
        "deletable": false,
        "editable": false,
        "nbgrader": {
          "checksum": "aeeb085606ec61106bf78791fe4994e0",
          "grade": false,
          "grade_id": "cell-d78a9c066a22b6f7",
          "locked": true,
          "schema_version": 1,
          "solution": false
        },
        "id": "CMwErrHNQ1KS",
        "colab_type": "text"
      },
      "source": [
        "Let us test this function in the small, so we can check that we have implemented it correctly before moving on.  Let us load our classical test library."
      ]
    },
    {
      "cell_type": "code",
      "metadata": {
        "deletable": false,
        "editable": false,
        "nbgrader": {
          "checksum": "39f6fe420a1500f71a9bcad676e73206",
          "grade": false,
          "grade_id": "cell-886086eeefe4fd75",
          "locked": true,
          "schema_version": 1,
          "solution": false
        },
        "id": "efkd99eTQ1KT",
        "colab_type": "code",
        "colab": {}
      },
      "source": [
        "try:\n",
        "    from nose.tools import assert_equal, assert_almost_equal\n",
        "    from nose.tools import assert_true, assert_false\n",
        "    from nose.tools import assert_not_equal\n",
        "except:\n",
        "    !pip install nose\n",
        "    from nose.tools import assert_equal, assert_almost_equal\n",
        "    from nose.tools import assert_true, assert_false\n",
        "    from nose.tools import assert_not_equal"
      ],
      "execution_count": null,
      "outputs": []
    },
    {
      "cell_type": "markdown",
      "metadata": {
        "deletable": false,
        "editable": false,
        "nbgrader": {
          "checksum": "9a4bec8ee5b8647e00dc46e8f974e94f",
          "grade": false,
          "grade_id": "cell-cbbf452e666d145a",
          "locked": true,
          "schema_version": 1,
          "solution": false
        },
        "id": "5ekZF1XLQ1KY",
        "colab_type": "text"
      },
      "source": [
        "Let us define a shorthand function to compare sensors. "
      ]
    },
    {
      "cell_type": "code",
      "metadata": {
        "deletable": false,
        "editable": false,
        "nbgrader": {
          "checksum": "7331941dd6fdc0f988f7b1917d4a59be",
          "grade": false,
          "grade_id": "cell-cbc90a8f8278cce8",
          "locked": true,
          "schema_version": 1,
          "solution": false
        },
        "id": "lFZvg5qiQ1Ka",
        "colab_type": "code",
        "colab": {}
      },
      "source": [
        "# Let's define a function to compare tensors.\n",
        "def assert_tensors_equal(x, y, places=3):\n",
        "    v = torch.sum(torch.abs(x - y)).item()\n",
        "    assert_almost_equal(v, 0., places=places)"
      ],
      "execution_count": null,
      "outputs": []
    },
    {
      "cell_type": "markdown",
      "metadata": {
        "deletable": false,
        "editable": false,
        "nbgrader": {
          "checksum": "4185fde0c323e2a28817b0fa8187d604",
          "grade": false,
          "grade_id": "cell-8cd79835e67829fc",
          "locked": true,
          "schema_version": 1,
          "solution": false
        },
        "id": "RIcyAwpbQ1Kd",
        "colab_type": "text"
      },
      "source": [
        "The forward and backward method take a _context_ as their first argument.  Rather than producing a proper context, we create a _mock_ of a context.  In computer science, a _mock_ is a stand-in for the real thing, that is used in testing.  For instance, a database mock is something that (for small amounts of test data) behaves like a database, but is simpler to create, and is suited to be used in tests.  Mocks are instrumental in testing complex code, and are easier to create in \"duck typing\" languages such as Python, where you just need to create an object with the required behavior and methods. "
      ]
    },
    {
      "cell_type": "code",
      "metadata": {
        "deletable": false,
        "editable": false,
        "nbgrader": {
          "checksum": "010fc0631db7e7e8ad95788a6ec456ef",
          "grade": false,
          "grade_id": "cell-dd12b67c07aceed5",
          "locked": true,
          "schema_version": 1,
          "solution": false
        },
        "id": "FdWPuDRqQ1Ke",
        "colab_type": "code",
        "colab": {}
      },
      "source": [
        "# We also need to define a context mock for our tests\n",
        "class MockContext(object):\n",
        "\n",
        "    def __init__(self):\n",
        "        self.saved_tensors = None\n",
        "\n",
        "    def save_for_backward(self, *tensors):\n",
        "        self.saved_tensors = tensors"
      ],
      "execution_count": null,
      "outputs": []
    },
    {
      "cell_type": "markdown",
      "metadata": {
        "deletable": false,
        "editable": false,
        "nbgrader": {
          "checksum": "5519f6d597d549ac7dcc84636101a8d1",
          "grade": false,
          "grade_id": "cell-4cabc13137c89873",
          "locked": true,
          "schema_version": 1,
          "solution": false
        },
        "id": "ksrw6dSKQ1Kg",
        "colab_type": "text"
      },
      "source": [
        "With this, we can finally test our `TunedSin` function."
      ]
    },
    {
      "cell_type": "code",
      "metadata": {
        "deletable": false,
        "editable": false,
        "nbgrader": {
          "checksum": "3edeffd4cc25388fddad64a351d38bc6",
          "grade": true,
          "grade_id": "cell-e646be74252ae219",
          "locked": true,
          "points": 10,
          "schema_version": 1,
          "solution": false
        },
        "id": "xQb7In83Q1Kh",
        "colab_type": "code",
        "colab": {}
      },
      "source": [
        "# Let's build two tensors x and w of the same size.\n",
        "x = torch.tensor([1., 2.])\n",
        "w = torch.tensor([2., 3.])\n",
        "\n",
        "# Let's test the forward method (this should work!).\n",
        "ctx = MockContext()\n",
        "y = TunedSin.forward(ctx, x, w)\n",
        "yy = torch.tensor([ 0.9093, -0.2794])\n",
        "assert_tensors_equal(y, yy)\n",
        "\n",
        "# And the backpropagation.\n",
        "grad_output = torch.tensor([1.2, 1.6])\n",
        "gx, gw = TunedSin.backward(ctx, grad_output)\n",
        "assert_tensors_equal(gx, torch.tensor([-0.9988,  4.6088]))\n",
        "assert_tensors_equal(gw, torch.tensor([-0.4994,  3.0725]))\n",
        "\n",
        "# Once more.\n",
        "x = torch.tensor([-1., 0.1])\n",
        "w = torch.tensor([0.2, 2.1])\n",
        "y = TunedSin.forward(ctx, x, w)\n",
        "grad_output = torch.tensor([-1., 3.4])\n",
        "gx, gw = TunedSin.backward(ctx, grad_output)\n",
        "assert_tensors_equal(gx, torch.tensor([-0.1960,  6.9831]))\n",
        "assert_tensors_equal(gw, torch.tensor([0.9801, 0.3325]))\n",
        "\n",
        "# Oh, let's check that when we backpropagate 0 we get 0.\n",
        "gx, gw = TunedSin.backward(ctx, torch.tensor([0., 0.]))\n",
        "assert_tensors_equal(gx, torch.tensor([0., 0.]))\n",
        "assert_tensors_equal(gw, torch.tensor([0., 0.]))\n"
      ],
      "execution_count": null,
      "outputs": []
    },
    {
      "cell_type": "markdown",
      "metadata": {
        "deletable": false,
        "editable": false,
        "nbgrader": {
          "checksum": "7e90daa3b07ec8fad4c6fc9efa000b90",
          "grade": false,
          "grade_id": "cell-edacee60e47e91f8",
          "locked": true,
          "schema_version": 1,
          "solution": false
        },
        "id": "dM0oDTygQ1Kk",
        "colab_type": "text"
      },
      "source": [
        "### Defining the `SinLayer` layer\n",
        "\n",
        "We are now ready to define our new layer.  Layers in PyTorch are called modules, and are subclasses of the `nn.Module` class.  Models usually have learnable parameters, which are declared as subclasses of the [`Parameter` class](https://pytorch.org/docs/stable/nn.html#parameters).  When we will build an optimizer later on, we will call the [`parameter()` method](https://pytorch.org/docs/stable/nn.html#torch.nn.Module.parameters) on the overall module; that method call will collect all instances of `Parameter` from all the sub-models of the model (all the layers of the network), and return it as the set of parameters to be optimized. "
      ]
    },
    {
      "cell_type": "code",
      "metadata": {
        "deletable": false,
        "editable": false,
        "nbgrader": {
          "checksum": "aafa9cda9c132279d73f96ec82a1cd5d",
          "grade": false,
          "grade_id": "cell-a4795b61b0bf8167",
          "locked": true,
          "schema_version": 1,
          "solution": false
        },
        "id": "i9PLEY_HQ1Kk",
        "colab_type": "code",
        "colab": {}
      },
      "source": [
        "from torch.nn.parameter import Parameter\n",
        "\n",
        "class SinLayer(nn.Module):\n",
        "\n",
        "    def __init__(self, in_features):\n",
        "        \"\"\"Initializes the layer, which is done to process in_features.\"\"\"\n",
        "        super().__init__() # Let's not forget to initialize the Module.\n",
        "        self.in_features = in_features\n",
        "        # We would expect a size (in_features,) rather than (1, in_features), \n",
        "        # but the first 1, is for the batch size.  In this way, when we pass\n",
        "        # to the layer a batch of size (b, in_features), the weights self.w\n",
        "        # will be \"broadcast\" from shape (1, in_features) to shape \n",
        "        # (b, in_features).  We fill the weights with zeros now, but we \n",
        "        # then overwrite them with random values. \n",
        "        self.w = Parameter(torch.zeros(1, in_features))\n",
        "        # Let's overwrite it with random values.  In a tensor, self.w.data is \n",
        "        # the actual data (as a numpy array).\n",
        "        self.w.data.normal_()\n",
        "\n",
        "    def forward(self, x):\n",
        "        \"\"\"Propagates the (batch of) values x.\"\"\"\n",
        "        # We just apply our TunedSin function.\n",
        "        return TunedSin.apply(x, self.w)\n",
        "\n",
        "    def extra_repr(self):\n",
        "        return \"in_features=out_features=%d\" % self.in_features"
      ],
      "execution_count": null,
      "outputs": []
    },
    {
      "cell_type": "markdown",
      "metadata": {
        "deletable": false,
        "editable": false,
        "nbgrader": {
          "checksum": "5d40e2c873d5314148d6adad72414978",
          "grade": false,
          "grade_id": "cell-da7a7748a49da24a",
          "locked": true,
          "schema_version": 1,
          "solution": false
        },
        "id": "LD9NcAcsQ1Km",
        "colab_type": "text"
      },
      "source": [
        "We can now define the overall model.  We will define it using the `nn.Sequential` shorthand, as we did for the convolutional networks.  You need to build a sequence of layers like this: \n",
        "\n",
        "* A `Linear` layer, with as input as many pixels as a MNIST image, and as output, $n$ outputs. \n",
        "* A `SinLayer` layer, with $n$ inputs and outputs. \n",
        "* A `Linear` layer, with $n$ inputs and ouputs. \n",
        "* A `SinLayer` layer, with $n$ inputs and outputs. \n",
        "* A `Linear` layer, with $n$ inputs and 10 outputs.\n",
        "* A final `LogSoftmax` layer; this is given for you. \n",
        "\n",
        "We will test later that the model is correctly built.  We will have you experiment with $n = 64, 128, 256, 512$.  We call $n$ the `LAYER_SIZE` in the code."
      ]
    },
    {
      "cell_type": "code",
      "metadata": {
        "deletable": false,
        "editable": false,
        "nbgrader": {
          "checksum": "be22fcc2e8e39c46025cfbaa01e67c1b",
          "grade": false,
          "grade_id": "cell-82f5ef966f0de0",
          "locked": true,
          "schema_version": 1,
          "solution": false
        },
        "id": "Ipnj-GbjQ1Kn",
        "colab_type": "code",
        "colab": {}
      },
      "source": [
        "#@title Choose your layer size\n",
        "LAYER_SIZE = 256 #@param {type:\"integer\"}"
      ],
      "execution_count": null,
      "outputs": []
    },
    {
      "cell_type": "code",
      "metadata": {
        "deletable": false,
        "nbgrader": {
          "checksum": "f54d27a5315459f5d5843c62a9c3e305",
          "grade": false,
          "grade_id": "cell-e23ea6492cbcc47f",
          "locked": false,
          "schema_version": 1,
          "solution": true
        },
        "id": "pBWVoKCHQ1Kp",
        "colab_type": "code",
        "colab": {}
      },
      "source": [
        "sin_model = nn.Sequential(\n",
        "    nn.Linear(28*28,LAYER_SIZE),\n",
        "    SinLayer(LAYER_SIZE),\n",
        "    nn.Linear(LAYER_SIZE,LAYER_SIZE),\n",
        "    SinLayer(LAYER_SIZE),\n",
        "    nn.Linear(LAYER_SIZE,10),\n",
        "    nn.LogSoftmax(dim=1)\n",
        ").to(device)"
      ],
      "execution_count": null,
      "outputs": []
    },
    {
      "cell_type": "markdown",
      "metadata": {
        "deletable": false,
        "editable": false,
        "nbgrader": {
          "checksum": "f42f7347ce52339f01b8229ccdc288ef",
          "grade": false,
          "grade_id": "cell-ac491df86b86280e",
          "locked": true,
          "schema_version": 1,
          "solution": false
        },
        "id": "sov9ppXMQ1Kr",
        "colab_type": "text"
      },
      "source": [
        "Let us check that you built the model correctly.  If this check does not pass, there is no point in your trying to train the model. "
      ]
    },
    {
      "cell_type": "code",
      "metadata": {
        "deletable": false,
        "editable": false,
        "nbgrader": {
          "checksum": "c065c600e65559402c54da26cd7ca13b",
          "grade": true,
          "grade_id": "cell-9ff3ed5e02be06e2",
          "locked": true,
          "points": 10,
          "schema_version": 1,
          "solution": false
        },
        "id": "OVebhOfDQ1Ks",
        "colab_type": "code",
        "colab": {}
      },
      "source": [
        "# Let us check that you built the model correctly.\n",
        "correct_fmt = [\n",
        "    \"Linear(in_features=784, out_features={sz}, bias=True)\",\n",
        "    \"SinLayer(in_features=out_features={sz})\",\n",
        "    \"Linear(in_features={sz}, out_features={sz}, bias=True)\",\n",
        "    \"SinLayer(in_features=out_features={sz})\",\n",
        "    \"Linear(in_features={sz}, out_features=10, bias=True)\",\n",
        "    \"LogSoftmax()\"]\n",
        "correct_layer_types = [l.format(sz=LAYER_SIZE) for l in correct_fmt]\n",
        "print(\"Correct layer types:\")\n",
        "for c in correct_layer_types:\n",
        "    print(\"\\t\", c)\n",
        "print(\"Actual layer types:\")\n",
        "for c in sin_model.children():\n",
        "    print(\"\\t\", c)\n",
        "declared_layer_types = [repr(layer) for layer in sin_model.children()]\n",
        "assert correct_layer_types == declared_layer_types, \"Wrong layer types\""
      ],
      "execution_count": null,
      "outputs": []
    },
    {
      "cell_type": "markdown",
      "metadata": {
        "deletable": false,
        "editable": false,
        "nbgrader": {
          "checksum": "16117125c5832d65588b7e79cc7ebe12",
          "grade": false,
          "grade_id": "cell-a0373a80d2432f9e",
          "locked": true,
          "schema_version": 1,
          "solution": false
        },
        "id": "oO_bJ_IJQ1Kv",
        "colab_type": "text"
      },
      "source": [
        "You need to define now an optimizer for your model."
      ]
    },
    {
      "cell_type": "code",
      "metadata": {
        "deletable": false,
        "nbgrader": {
          "checksum": "41a982852afba71360ddb5fda957153f",
          "grade": false,
          "grade_id": "cell-9a9e4ff37d3e5f3c",
          "locked": false,
          "schema_version": 1,
          "solution": true
        },
        "id": "4wFE5HxEQ1Kw",
        "colab_type": "code",
        "colab": {}
      },
      "source": [
        "# Now define an optimizer. \n",
        "sin_optimizer = None # You need to define sin_optimizer in the next line.\n",
        "# You can define any optimizer you want (any algorithm you want).\n",
        "sin_optimizer = optim.SGD(model.parameters(), lr=0.01, momentum=0.9)"
      ],
      "execution_count": null,
      "outputs": []
    },
    {
      "cell_type": "code",
      "metadata": {
        "deletable": false,
        "editable": false,
        "nbgrader": {
          "checksum": "d3a234c0250a94eb1fc7bdd32c9b175c",
          "grade": true,
          "grade_id": "cell-207231647b5c747e",
          "locked": true,
          "points": 10,
          "schema_version": 1,
          "solution": false
        },
        "id": "ydcpVneDQ1K0",
        "colab_type": "code",
        "colab": {}
      },
      "source": [
        "# We want to make sure that this is an optimizer. \n",
        "assert isinstance(sin_optimizer, torch.optim.Optimizer)"
      ],
      "execution_count": null,
      "outputs": []
    },
    {
      "cell_type": "code",
      "metadata": {
        "deletable": false,
        "editable": false,
        "nbgrader": {
          "checksum": "8060228008d78faf1dae63bfbdf83648",
          "grade": false,
          "grade_id": "cell-af6ee2654da29ecf",
          "locked": true,
          "schema_version": 1,
          "solution": false
        },
        "id": "jAvPK3TpQ1K3",
        "colab_type": "code",
        "colab": {}
      },
      "source": [
        "NUM_EPOCHS = 4\n",
        "if colab:\n",
        "    torch.manual_seed(1) # Init random number generator.\n",
        "    for epoch in range(1, NUM_EPOCHS + 1):\n",
        "        train(sin_model, device, train_loader, sin_optimizer, epoch, TRAIN_BATCH_SIZE, flatten=True)\n",
        "        test(sin_model, device, test_loader, flatten=True)"
      ],
      "execution_count": null,
      "outputs": []
    },
    {
      "cell_type": "markdown",
      "metadata": {
        "deletable": false,
        "editable": false,
        "nbgrader": {
          "checksum": "3be35228a9f62d84e30d1da352d38935",
          "grade": false,
          "grade_id": "cell-cc97f67c34c1a8df",
          "locked": true,
          "schema_version": 1,
          "solution": false
        },
        "id": "kH_7_LDeQ1K7",
        "colab_type": "text"
      },
      "source": [
        "Assign to BEST_LAYER_SIZE the value of LAYER_SIZE among 64, 128, 256, 512 that achieves the best performance according to the above training experiments (with the given randomization seed, trained for 4 epochs). "
      ]
    },
    {
      "cell_type": "code",
      "metadata": {
        "deletable": false,
        "nbgrader": {
          "checksum": "4267748085de8f8ed69341b327c2bf8f",
          "grade": false,
          "grade_id": "cell-c1cf02acb88771c3",
          "locked": false,
          "schema_version": 1,
          "solution": true
        },
        "id": "mbR_wROYQ1K8",
        "colab_type": "code",
        "colab": {}
      },
      "source": [
        "# YOUR CODE HERE\n",
        "BEST_LAYER_SIZE = 256"
      ],
      "execution_count": null,
      "outputs": []
    },
    {
      "cell_type": "code",
      "metadata": {
        "deletable": false,
        "editable": false,
        "nbgrader": {
          "checksum": "ae4b286be9c01e2a40e13773cf5868d7",
          "grade": true,
          "grade_id": "cell-b593a98f3f38e7ca",
          "locked": true,
          "points": 10,
          "schema_version": 1,
          "solution": false
        },
        "id": "lODl8CvBQ1K_",
        "colab_type": "code",
        "colab": {}
      },
      "source": [
        "assert_true(BEST_LAYER_SIZE in {64, 128, 256, 512})"
      ],
      "execution_count": null,
      "outputs": []
    },
    {
      "cell_type": "markdown",
      "metadata": {
        "deletable": false,
        "editable": false,
        "nbgrader": {
          "checksum": "d6e2f9ae2afbafea25654ed6f5be628c",
          "grade": false,
          "grade_id": "cell-38a782477bd998f0",
          "locked": true,
          "schema_version": 1,
          "solution": false
        },
        "id": "K1YADOTNQ1LD",
        "colab_type": "text"
      },
      "source": [
        "In aeronautics, there is a saying: if you attach a powerful enough engine, you can make even a brick fly.  This is likely a good metaphor for what we did with our `SinLayer`.  Nevertheless, it is interesting to note that the `SinLayer`, on MNIST and for the brief amount of training we performed, performs a bit better than the classical ReLU neurons! "
      ]
    }
  ]
}